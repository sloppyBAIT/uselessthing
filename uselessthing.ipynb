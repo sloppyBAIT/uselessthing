{
 "cells": [
  {
   "cell_type": "markdown",
   "metadata": {},
   "source": [
    "# Поведения пользователей в приложении \"Ненужные вещи\""
   ]
  },
  {
   "cell_type": "markdown",
   "metadata": {},
   "source": [
    "## Введение:\n",
    "\n",
    "Мобильное приложение \"Ненужные вещи\" — это платформа, где пользователи могут размещать объявления о продаже своих товаров. Анализ поведения пользователей приложения играет ключевую роль для повышения его эффективности и улучшения пользовательского опыта.\n",
    "\n",
    "В проекте представлены данные о действиях пользователей, впервые совершивших активности после 7 октября 2019 года, и данные об источниках установки приложения. Эти данные позволяют понять, как пользователи взаимодействуют с приложением, какие действия они совершают чаще, и как можно улучшить их взаимодействие.\n",
    "\n",
    "Основное внимание будет уделено анализу удержания пользователей, времени, проведенного в приложении, частоте действий и конверсии в просмотры контактов, а также проверке гипотез о различиях между группами пользователей."
   ]
  },
  {
   "cell_type": "markdown",
   "metadata": {},
   "source": [
    "## Цель работы:\n",
    "\n",
    "Выделить группы пользователей, которые отличаются по поведению, и провести анализ их активности для выявления факторов, влияющих на удержание, вовлеченность и конверсию. На основе полученных данных будут сформированы рекомендации по улучшению пользовательского опыта и увеличению ключевых показателей приложения.\n",
    "\n",
    "\n"
   ]
  },
  {
   "cell_type": "markdown",
   "metadata": {},
   "source": [
    "## Проработка данных:"
   ]
  },
  {
   "cell_type": "code",
   "execution_count": 1,
   "metadata": {},
   "outputs": [],
   "source": [
    "#импортируем библиотеки\n",
    "import pandas as pd\n",
    "import matplotlib.pyplot as plt\n",
    "import seaborn as sns\n",
    "import numpy as np\n",
    "from statsmodels.stats.proportion import proportions_ztest\n",
    "from scipy import stats\n",
    "import math  "
   ]
  },
  {
   "cell_type": "code",
   "execution_count": 2,
   "metadata": {},
   "outputs": [],
   "source": [
    "#загрузка данных\n",
    "try:\n",
    "    source = pd.read_csv('/datasets/mobile_sources.csv')\n",
    "    df = pd.read_csv('/datasets/mobile_dataset.csv')\n",
    "except:\n",
    "    source = pd.read_csv('https://code.s3.yandex.net/datasets/mobile_sources.csv')\n",
    "    df = pd.read_csv('https://code.s3.yandex.net/datasets/mobile_dataset.csv')"
   ]
  },
  {
   "cell_type": "code",
   "execution_count": 3,
   "metadata": {},
   "outputs": [
    {
     "name": "stdout",
     "output_type": "stream",
     "text": [
      "Sources dataset info:\n",
      "<class 'pandas.core.frame.DataFrame'>\n",
      "RangeIndex: 4293 entries, 0 to 4292\n",
      "Data columns (total 2 columns):\n",
      " #   Column  Non-Null Count  Dtype \n",
      "---  ------  --------------  ----- \n",
      " 0   userId  4293 non-null   object\n",
      " 1   source  4293 non-null   object\n",
      "dtypes: object(2)\n",
      "memory usage: 67.2+ KB\n",
      "\n",
      " Dataset info:\n",
      "<class 'pandas.core.frame.DataFrame'>\n",
      "RangeIndex: 74197 entries, 0 to 74196\n",
      "Data columns (total 3 columns):\n",
      " #   Column      Non-Null Count  Dtype \n",
      "---  ------      --------------  ----- \n",
      " 0   event.time  74197 non-null  object\n",
      " 1   event.name  74197 non-null  object\n",
      " 2   user.id     74197 non-null  object\n",
      "dtypes: object(3)\n",
      "memory usage: 1.7+ MB\n"
     ]
    }
   ],
   "source": [
    "# Общая информация о данных\n",
    "print('Sources dataset info:')\n",
    "source.info()\n",
    "print('\\n Dataset info:')\n",
    "df.info()"
   ]
  },
  {
   "cell_type": "code",
   "execution_count": 4,
   "metadata": {},
   "outputs": [
    {
     "name": "stdout",
     "output_type": "stream",
     "text": [
      "\n",
      "Пропуски в sources:\n",
      "userId    0\n",
      "source    0\n",
      "dtype: int64\n"
     ]
    }
   ],
   "source": [
    "# Проверка на пропуски и дубликаты\n",
    "print('\\nПропуски в sources:')\n",
    "print(source.isnull().sum())"
   ]
  },
  {
   "cell_type": "code",
   "execution_count": 5,
   "metadata": {},
   "outputs": [
    {
     "name": "stdout",
     "output_type": "stream",
     "text": [
      "\n",
      "Пропуски в dataset:\n",
      "event.time    0\n",
      "event.name    0\n",
      "user.id       0\n",
      "dtype: int64\n"
     ]
    }
   ],
   "source": [
    "print('\\nПропуски в dataset:')\n",
    "print(df.isnull().sum())"
   ]
  },
  {
   "cell_type": "code",
   "execution_count": 6,
   "metadata": {},
   "outputs": [
    {
     "name": "stdout",
     "output_type": "stream",
     "text": [
      "\n",
      "Дубликаты в sources: 0\n",
      "Дубликаты в dataset: 0\n"
     ]
    }
   ],
   "source": [
    "print('\\nДубликаты в sources:', source.duplicated().sum())\n",
    "print('Дубликаты в dataset:', df.duplicated().sum())"
   ]
  },
  {
   "cell_type": "code",
   "execution_count": 7,
   "metadata": {},
   "outputs": [
    {
     "name": "stdout",
     "output_type": "stream",
     "text": [
      "\n",
      "Пример данных sources:\n"
     ]
    },
    {
     "data": {
      "text/html": [
       "<div>\n",
       "<style scoped>\n",
       "    .dataframe tbody tr th:only-of-type {\n",
       "        vertical-align: middle;\n",
       "    }\n",
       "\n",
       "    .dataframe tbody tr th {\n",
       "        vertical-align: top;\n",
       "    }\n",
       "\n",
       "    .dataframe thead th {\n",
       "        text-align: right;\n",
       "    }\n",
       "</style>\n",
       "<table border=\"1\" class=\"dataframe\">\n",
       "  <thead>\n",
       "    <tr style=\"text-align: right;\">\n",
       "      <th></th>\n",
       "      <th>userId</th>\n",
       "      <th>source</th>\n",
       "    </tr>\n",
       "  </thead>\n",
       "  <tbody>\n",
       "    <tr>\n",
       "      <th>0</th>\n",
       "      <td>020292ab-89bc-4156-9acf-68bc2783f894</td>\n",
       "      <td>other</td>\n",
       "    </tr>\n",
       "    <tr>\n",
       "      <th>1</th>\n",
       "      <td>cf7eda61-9349-469f-ac27-e5b6f5ec475c</td>\n",
       "      <td>yandex</td>\n",
       "    </tr>\n",
       "    <tr>\n",
       "      <th>2</th>\n",
       "      <td>8c356c42-3ba9-4cb6-80b8-3f868d0192c3</td>\n",
       "      <td>yandex</td>\n",
       "    </tr>\n",
       "    <tr>\n",
       "      <th>3</th>\n",
       "      <td>d9b06b47-0f36-419b-bbb0-3533e582a6cb</td>\n",
       "      <td>other</td>\n",
       "    </tr>\n",
       "    <tr>\n",
       "      <th>4</th>\n",
       "      <td>f32e1e2a-3027-4693-b793-b7b3ff274439</td>\n",
       "      <td>google</td>\n",
       "    </tr>\n",
       "  </tbody>\n",
       "</table>\n",
       "</div>"
      ],
      "text/plain": [
       "                                 userId  source\n",
       "0  020292ab-89bc-4156-9acf-68bc2783f894   other\n",
       "1  cf7eda61-9349-469f-ac27-e5b6f5ec475c  yandex\n",
       "2  8c356c42-3ba9-4cb6-80b8-3f868d0192c3  yandex\n",
       "3  d9b06b47-0f36-419b-bbb0-3533e582a6cb   other\n",
       "4  f32e1e2a-3027-4693-b793-b7b3ff274439  google"
      ]
     },
     "metadata": {},
     "output_type": "display_data"
    }
   ],
   "source": [
    "print('\\nПример данных sources:')\n",
    "display(source.head()) "
   ]
  },
  {
   "cell_type": "code",
   "execution_count": 8,
   "metadata": {},
   "outputs": [],
   "source": [
    "source.rename(columns={'userId': 'user.id'}, inplace=True)"
   ]
  },
  {
   "cell_type": "code",
   "execution_count": 9,
   "metadata": {},
   "outputs": [
    {
     "name": "stdout",
     "output_type": "stream",
     "text": [
      "\n",
      "Пример данных sources:\n"
     ]
    },
    {
     "data": {
      "text/html": [
       "<div>\n",
       "<style scoped>\n",
       "    .dataframe tbody tr th:only-of-type {\n",
       "        vertical-align: middle;\n",
       "    }\n",
       "\n",
       "    .dataframe tbody tr th {\n",
       "        vertical-align: top;\n",
       "    }\n",
       "\n",
       "    .dataframe thead th {\n",
       "        text-align: right;\n",
       "    }\n",
       "</style>\n",
       "<table border=\"1\" class=\"dataframe\">\n",
       "  <thead>\n",
       "    <tr style=\"text-align: right;\">\n",
       "      <th></th>\n",
       "      <th>event.time</th>\n",
       "      <th>event.name</th>\n",
       "      <th>user.id</th>\n",
       "    </tr>\n",
       "  </thead>\n",
       "  <tbody>\n",
       "    <tr>\n",
       "      <th>0</th>\n",
       "      <td>2019-10-07 00:00:00.431357</td>\n",
       "      <td>advert_open</td>\n",
       "      <td>020292ab-89bc-4156-9acf-68bc2783f894</td>\n",
       "    </tr>\n",
       "    <tr>\n",
       "      <th>1</th>\n",
       "      <td>2019-10-07 00:00:01.236320</td>\n",
       "      <td>tips_show</td>\n",
       "      <td>020292ab-89bc-4156-9acf-68bc2783f894</td>\n",
       "    </tr>\n",
       "    <tr>\n",
       "      <th>2</th>\n",
       "      <td>2019-10-07 00:00:02.245341</td>\n",
       "      <td>tips_show</td>\n",
       "      <td>cf7eda61-9349-469f-ac27-e5b6f5ec475c</td>\n",
       "    </tr>\n",
       "    <tr>\n",
       "      <th>3</th>\n",
       "      <td>2019-10-07 00:00:07.039334</td>\n",
       "      <td>tips_show</td>\n",
       "      <td>020292ab-89bc-4156-9acf-68bc2783f894</td>\n",
       "    </tr>\n",
       "    <tr>\n",
       "      <th>4</th>\n",
       "      <td>2019-10-07 00:00:56.319813</td>\n",
       "      <td>advert_open</td>\n",
       "      <td>cf7eda61-9349-469f-ac27-e5b6f5ec475c</td>\n",
       "    </tr>\n",
       "  </tbody>\n",
       "</table>\n",
       "</div>"
      ],
      "text/plain": [
       "                   event.time   event.name  \\\n",
       "0  2019-10-07 00:00:00.431357  advert_open   \n",
       "1  2019-10-07 00:00:01.236320    tips_show   \n",
       "2  2019-10-07 00:00:02.245341    tips_show   \n",
       "3  2019-10-07 00:00:07.039334    tips_show   \n",
       "4  2019-10-07 00:00:56.319813  advert_open   \n",
       "\n",
       "                                user.id  \n",
       "0  020292ab-89bc-4156-9acf-68bc2783f894  \n",
       "1  020292ab-89bc-4156-9acf-68bc2783f894  \n",
       "2  cf7eda61-9349-469f-ac27-e5b6f5ec475c  \n",
       "3  020292ab-89bc-4156-9acf-68bc2783f894  \n",
       "4  cf7eda61-9349-469f-ac27-e5b6f5ec475c  "
      ]
     },
     "metadata": {},
     "output_type": "display_data"
    }
   ],
   "source": [
    "print('\\nПример данных sources:')\n",
    "display(df.head()) "
   ]
  },
  {
   "cell_type": "code",
   "execution_count": 10,
   "metadata": {},
   "outputs": [
    {
     "name": "stdout",
     "output_type": "stream",
     "text": [
      "Временные данные корректны.\n"
     ]
    }
   ],
   "source": [
    "# Проверим значения event.time на корректность\n",
    "try:\n",
    "    df['event.time'] = pd.to_datetime(df['event.time'])\n",
    "    print('Временные данные корректны.')\n",
    "except Exception as e:\n",
    "    print(f'Ошибка в данных времени: {e}')"
   ]
  },
  {
   "cell_type": "code",
   "execution_count": 11,
   "metadata": {},
   "outputs": [
    {
     "name": "stdout",
     "output_type": "stream",
     "text": [
      "Пользователи из dataset, отсутствующие в sources: 0\n",
      "Пользователи из sources, отсутствующие в dataset: 0\n"
     ]
    }
   ],
   "source": [
    "# Проверка уникальности идентификаторов пользователей между датасетами\n",
    "missing_in_sources = set(df['user.id']) - set(source['user.id'])\n",
    "missing_in_dataset = set(source['user.id']) - set(df['user.id'])\n",
    "\n",
    "print(f'Пользователи из dataset, отсутствующие в sources: {len(missing_in_sources)}')\n",
    "print(f'Пользователи из sources, отсутствующие в dataset: {len(missing_in_dataset)}')"
   ]
  },
  {
   "cell_type": "code",
   "execution_count": 12,
   "metadata": {},
   "outputs": [
    {
     "data": {
      "text/html": [
       "<div>\n",
       "<style scoped>\n",
       "    .dataframe tbody tr th:only-of-type {\n",
       "        vertical-align: middle;\n",
       "    }\n",
       "\n",
       "    .dataframe tbody tr th {\n",
       "        vertical-align: top;\n",
       "    }\n",
       "\n",
       "    .dataframe thead th {\n",
       "        text-align: right;\n",
       "    }\n",
       "</style>\n",
       "<table border=\"1\" class=\"dataframe\">\n",
       "  <thead>\n",
       "    <tr style=\"text-align: right;\">\n",
       "      <th></th>\n",
       "      <th>user.id</th>\n",
       "      <th>source</th>\n",
       "    </tr>\n",
       "  </thead>\n",
       "  <tbody>\n",
       "    <tr>\n",
       "      <th>0</th>\n",
       "      <td>020292ab-89bc-4156-9acf-68bc2783f894</td>\n",
       "      <td>other</td>\n",
       "    </tr>\n",
       "    <tr>\n",
       "      <th>1</th>\n",
       "      <td>cf7eda61-9349-469f-ac27-e5b6f5ec475c</td>\n",
       "      <td>yandex</td>\n",
       "    </tr>\n",
       "    <tr>\n",
       "      <th>2</th>\n",
       "      <td>8c356c42-3ba9-4cb6-80b8-3f868d0192c3</td>\n",
       "      <td>yandex</td>\n",
       "    </tr>\n",
       "    <tr>\n",
       "      <th>3</th>\n",
       "      <td>d9b06b47-0f36-419b-bbb0-3533e582a6cb</td>\n",
       "      <td>other</td>\n",
       "    </tr>\n",
       "    <tr>\n",
       "      <th>4</th>\n",
       "      <td>f32e1e2a-3027-4693-b793-b7b3ff274439</td>\n",
       "      <td>google</td>\n",
       "    </tr>\n",
       "    <tr>\n",
       "      <th>...</th>\n",
       "      <td>...</td>\n",
       "      <td>...</td>\n",
       "    </tr>\n",
       "    <tr>\n",
       "      <th>4288</th>\n",
       "      <td>b86fe56e-f2de-4f8a-b192-cd89a37ecd41</td>\n",
       "      <td>yandex</td>\n",
       "    </tr>\n",
       "    <tr>\n",
       "      <th>4289</th>\n",
       "      <td>424c0ae1-3ea3-4f1e-a814-6bac73e48ab1</td>\n",
       "      <td>yandex</td>\n",
       "    </tr>\n",
       "    <tr>\n",
       "      <th>4290</th>\n",
       "      <td>437a4cd4-9ba9-457f-8614-d142bc48fbeb</td>\n",
       "      <td>yandex</td>\n",
       "    </tr>\n",
       "    <tr>\n",
       "      <th>4291</th>\n",
       "      <td>c10055f0-0b47-477a-869e-d391b31fdf8f</td>\n",
       "      <td>yandex</td>\n",
       "    </tr>\n",
       "    <tr>\n",
       "      <th>4292</th>\n",
       "      <td>d157bffc-264d-4464-8220-1cc0c42f43a9</td>\n",
       "      <td>google</td>\n",
       "    </tr>\n",
       "  </tbody>\n",
       "</table>\n",
       "<p>4293 rows × 2 columns</p>\n",
       "</div>"
      ],
      "text/plain": [
       "                                   user.id  source\n",
       "0     020292ab-89bc-4156-9acf-68bc2783f894   other\n",
       "1     cf7eda61-9349-469f-ac27-e5b6f5ec475c  yandex\n",
       "2     8c356c42-3ba9-4cb6-80b8-3f868d0192c3  yandex\n",
       "3     d9b06b47-0f36-419b-bbb0-3533e582a6cb   other\n",
       "4     f32e1e2a-3027-4693-b793-b7b3ff274439  google\n",
       "...                                    ...     ...\n",
       "4288  b86fe56e-f2de-4f8a-b192-cd89a37ecd41  yandex\n",
       "4289  424c0ae1-3ea3-4f1e-a814-6bac73e48ab1  yandex\n",
       "4290  437a4cd4-9ba9-457f-8614-d142bc48fbeb  yandex\n",
       "4291  c10055f0-0b47-477a-869e-d391b31fdf8f  yandex\n",
       "4292  d157bffc-264d-4464-8220-1cc0c42f43a9  google\n",
       "\n",
       "[4293 rows x 2 columns]"
      ]
     },
     "metadata": {},
     "output_type": "display_data"
    }
   ],
   "source": [
    "display(source)"
   ]
  },
  {
   "cell_type": "code",
   "execution_count": 13,
   "metadata": {},
   "outputs": [
    {
     "data": {
      "text/html": [
       "<div>\n",
       "<style scoped>\n",
       "    .dataframe tbody tr th:only-of-type {\n",
       "        vertical-align: middle;\n",
       "    }\n",
       "\n",
       "    .dataframe tbody tr th {\n",
       "        vertical-align: top;\n",
       "    }\n",
       "\n",
       "    .dataframe thead th {\n",
       "        text-align: right;\n",
       "    }\n",
       "</style>\n",
       "<table border=\"1\" class=\"dataframe\">\n",
       "  <thead>\n",
       "    <tr style=\"text-align: right;\">\n",
       "      <th></th>\n",
       "      <th>event.time</th>\n",
       "      <th>event.name</th>\n",
       "      <th>user.id</th>\n",
       "    </tr>\n",
       "  </thead>\n",
       "  <tbody>\n",
       "    <tr>\n",
       "      <th>0</th>\n",
       "      <td>2019-10-07 00:00:00.431357</td>\n",
       "      <td>advert_open</td>\n",
       "      <td>020292ab-89bc-4156-9acf-68bc2783f894</td>\n",
       "    </tr>\n",
       "    <tr>\n",
       "      <th>1</th>\n",
       "      <td>2019-10-07 00:00:01.236320</td>\n",
       "      <td>tips_show</td>\n",
       "      <td>020292ab-89bc-4156-9acf-68bc2783f894</td>\n",
       "    </tr>\n",
       "    <tr>\n",
       "      <th>2</th>\n",
       "      <td>2019-10-07 00:00:02.245341</td>\n",
       "      <td>tips_show</td>\n",
       "      <td>cf7eda61-9349-469f-ac27-e5b6f5ec475c</td>\n",
       "    </tr>\n",
       "    <tr>\n",
       "      <th>3</th>\n",
       "      <td>2019-10-07 00:00:07.039334</td>\n",
       "      <td>tips_show</td>\n",
       "      <td>020292ab-89bc-4156-9acf-68bc2783f894</td>\n",
       "    </tr>\n",
       "    <tr>\n",
       "      <th>4</th>\n",
       "      <td>2019-10-07 00:00:56.319813</td>\n",
       "      <td>advert_open</td>\n",
       "      <td>cf7eda61-9349-469f-ac27-e5b6f5ec475c</td>\n",
       "    </tr>\n",
       "    <tr>\n",
       "      <th>...</th>\n",
       "      <td>...</td>\n",
       "      <td>...</td>\n",
       "      <td>...</td>\n",
       "    </tr>\n",
       "    <tr>\n",
       "      <th>74192</th>\n",
       "      <td>2019-11-03 23:53:29.534986</td>\n",
       "      <td>tips_show</td>\n",
       "      <td>28fccdf4-7b9e-42f5-bc73-439a265f20e9</td>\n",
       "    </tr>\n",
       "    <tr>\n",
       "      <th>74193</th>\n",
       "      <td>2019-11-03 23:54:00.407086</td>\n",
       "      <td>tips_show</td>\n",
       "      <td>28fccdf4-7b9e-42f5-bc73-439a265f20e9</td>\n",
       "    </tr>\n",
       "    <tr>\n",
       "      <th>74194</th>\n",
       "      <td>2019-11-03 23:56:57.041825</td>\n",
       "      <td>search_1</td>\n",
       "      <td>20850c8f-4135-4059-b13b-198d3ac59902</td>\n",
       "    </tr>\n",
       "    <tr>\n",
       "      <th>74195</th>\n",
       "      <td>2019-11-03 23:57:06.232189</td>\n",
       "      <td>tips_show</td>\n",
       "      <td>28fccdf4-7b9e-42f5-bc73-439a265f20e9</td>\n",
       "    </tr>\n",
       "    <tr>\n",
       "      <th>74196</th>\n",
       "      <td>2019-11-03 23:58:12.532487</td>\n",
       "      <td>tips_show</td>\n",
       "      <td>28fccdf4-7b9e-42f5-bc73-439a265f20e9</td>\n",
       "    </tr>\n",
       "  </tbody>\n",
       "</table>\n",
       "<p>74197 rows × 3 columns</p>\n",
       "</div>"
      ],
      "text/plain": [
       "                      event.time   event.name  \\\n",
       "0     2019-10-07 00:00:00.431357  advert_open   \n",
       "1     2019-10-07 00:00:01.236320    tips_show   \n",
       "2     2019-10-07 00:00:02.245341    tips_show   \n",
       "3     2019-10-07 00:00:07.039334    tips_show   \n",
       "4     2019-10-07 00:00:56.319813  advert_open   \n",
       "...                          ...          ...   \n",
       "74192 2019-11-03 23:53:29.534986    tips_show   \n",
       "74193 2019-11-03 23:54:00.407086    tips_show   \n",
       "74194 2019-11-03 23:56:57.041825     search_1   \n",
       "74195 2019-11-03 23:57:06.232189    tips_show   \n",
       "74196 2019-11-03 23:58:12.532487    tips_show   \n",
       "\n",
       "                                    user.id  \n",
       "0      020292ab-89bc-4156-9acf-68bc2783f894  \n",
       "1      020292ab-89bc-4156-9acf-68bc2783f894  \n",
       "2      cf7eda61-9349-469f-ac27-e5b6f5ec475c  \n",
       "3      020292ab-89bc-4156-9acf-68bc2783f894  \n",
       "4      cf7eda61-9349-469f-ac27-e5b6f5ec475c  \n",
       "...                                     ...  \n",
       "74192  28fccdf4-7b9e-42f5-bc73-439a265f20e9  \n",
       "74193  28fccdf4-7b9e-42f5-bc73-439a265f20e9  \n",
       "74194  20850c8f-4135-4059-b13b-198d3ac59902  \n",
       "74195  28fccdf4-7b9e-42f5-bc73-439a265f20e9  \n",
       "74196  28fccdf4-7b9e-42f5-bc73-439a265f20e9  \n",
       "\n",
       "[74197 rows x 3 columns]"
      ]
     },
     "metadata": {},
     "output_type": "display_data"
    }
   ],
   "source": [
    "display(df)"
   ]
  },
  {
   "cell_type": "code",
   "execution_count": 14,
   "metadata": {},
   "outputs": [
    {
     "name": "stdout",
     "output_type": "stream",
     "text": [
      "['advert_open' 'tips_show' 'map' 'contacts' 'search_4' 'search_5'\n",
      " 'tips_click' 'photos_show' 'search_1' 'search_2' 'search_3'\n",
      " 'favorites_add' 'contacts_call' 'search_6' 'search_7']\n"
     ]
    }
   ],
   "source": [
    "#Приведения категорий к единому формату\n",
    "event_name_mapping = {\n",
    "    'contacts_show': 'contacts',\n",
    "    'show_contacts': 'contacts',\n",
    "}\n",
    "\n",
    "# Приведение event.name к единому формату\n",
    "df['event.name'] = df['event.name'].replace(event_name_mapping)\n",
    "\n",
    "# Проверяем уникальные значения после замены\n",
    "print(df['event.name'].unique())"
   ]
  },
  {
   "cell_type": "markdown",
   "metadata": {},
   "source": [
    "### Промежуточные выводы:"
   ]
  },
  {
   "cell_type": "markdown",
   "metadata": {},
   "source": [
    "1. Пропуски:\n",
    "\n",
    "* В обоих наборах данных нет пропущенных значений.\n",
    "\n",
    "2. Дубликаты:\n",
    "\n",
    "* В обоих наборах данных отсутствуют дубликаты строк (duplicated().sum() показывает ноль).\n",
    "\n",
    "3. Временные данные:\n",
    "\n",
    "* Поле event.time в наборе данных было успешно преобразовано в формат datetime, что подтверждает корректность временных данных.\n",
    "\n",
    "4. Консистентность идентификаторов пользователей:\n",
    "\n",
    "* Идентификаторы пользователей в обоих наборах данных полностью совпадают, нет отсутствующих идентификаторов пользователей в одном из наборов."
   ]
  },
  {
   "cell_type": "markdown",
   "metadata": {},
   "source": [
    "## Поставленные задачи:\n",
    "\n",
    "<b>3.1. Исследовательский анализ данных</b>\n",
    "\n",
    "<u>3.1.1. Retention Rate:</u>\n",
    "\n",
    "* Рассчитать долю пользователей, возвращающихся в приложение на 1-й, 7-й и 14-й дни.\n",
    "* Построить графики удержания (когортный анализ).\n",
    "\n",
    "<u>3.1.2. Время, проведенное в приложении:</u>\n",
    "* Рассчитать среднее и медианное время использования.\n",
    "* Изучить распределение времени по группам пользователей.\n",
    "\n",
    "<u>3.1.3. Частота действий:</u>\n",
    "* Оценить, сколько действий в среднем совершает пользователь.\n",
    "* Выделить самые популярные и редкие действия.\n",
    "\n",
    "<u>3.1.4. Конверсия в целевое действие:</u>\n",
    "* Рассчитать долю пользователей, просмотревших контакты, среди всех пользователей.\n",
    "* Сравнить конверсии по источникам установки приложения.\n",
    "\n",
    "<b>3.2. Сегментация пользователей</b>\n",
    "\n",
    "<u>3.2.1. Провести кластерный анализ, чтобы выделить группы пользователей на основе:</u>\n",
    "* Времени, проведенного в приложении.\n",
    "* Частоты выполнения действий.\n",
    "* Конверсии в целевое действие.\n",
    "* Проанализировать ключевые особенности каждого сегмента.\n",
    "\n",
    "<b>3.3. Проверка статистических гипотез</b>\n",
    "* Гипотеза 1:\n",
    "Нулевая гипотеза (H₀): Конверсии в просмотры контактов для пользователей из yandex и google одинаковы.\n",
    "Альтернативная гипотеза (H₁): Конверсии в просмотры контактов для пользователей из yandex и google различны.\n",
    "Тест: Z-тест для пропорций.\n",
    "* Гипотеза 2:\n",
    "Нулевая гипотеза (H₀): Пользователи, кликающие на рекомендации, открывают карту объявлений с такой же частотой, как и остальные пользователи.\n",
    "Альтернативная гипотеза (H₁): Пользователи, кликающие на рекомендации, чаще открывают карту объявлений.\n",
    "Тест: T-тест для независимых выборок или Mann-Whitney U тест.\n",
    "\n",
    "<b>3.4. Формирование выводов</b>\n",
    "* Сформулировать ключевые выводы по каждому из этапов.\n",
    "Подготовить рекомендации для команды разработки или маркетинга, которые помогут улучшить пользовательский опыт и увеличить ключевые метрики."
   ]
  },
  {
   "cell_type": "markdown",
   "metadata": {},
   "source": [
    "## Исследовательский анализ данных"
   ]
  },
  {
   "cell_type": "markdown",
   "metadata": {},
   "source": [
    "### Retention Rate:\n",
    "\n",
    "* Рассчитаем долю пользователей, возвращающихся в приложение на 1-й, 7-й и 14-й дни.\n",
    "* Построим графики удержания."
   ]
  },
  {
   "cell_type": "code",
   "execution_count": 15,
   "metadata": {},
   "outputs": [
    {
     "data": {
      "image/png": "[encoded data removed]",
      "text/plain": [
       "<Figure size 864x576 with 2 Axes>"
      ]
     },
     "metadata": {
      "needs_background": "light"
     },
     "output_type": "display_data"
    }
   ],
   "source": [
    "# 1. Получаем дату первого события для каждого пользователя, округляя до секунд\n",
    "df['first_event'] = df.groupby('user.id')['event.time'].transform(lambda x: x.min().floor('s'))\n",
    "\n",
    "# 2. Создаем когорту пользователей (дата первого события)\n",
    "df['cohort'] = df['first_event'].dt.to_period('W')  # Когорта по неделям\n",
    "\n",
    "# 3. Вычисляем разницу в неделях между текущим событием и первым событием\n",
    "df['weeks_diff'] = ((df['event.time'] - df['first_event']).dt.days // 7)\n",
    "\n",
    "# 4. Подсчитываем уникальных пользователей в каждой когорте и неделе\n",
    "cohort_data = (\n",
    "    df.groupby(['cohort', 'weeks_diff'])['user.id']\n",
    "    .nunique()\n",
    "    .reset_index()\n",
    "    .rename(columns={'user.id': 'users'})\n",
    ")\n",
    "\n",
    "# 5. Определяем размер когорты (количество пользователей на 0-й неделе)\n",
    "cohort_sizes = (\n",
    "    cohort_data[cohort_data['weeks_diff'] == 0][['cohort', 'users']]\n",
    "    .rename(columns={'users': 'cohort_size'})\n",
    ")\n",
    "\n",
    "# 6. Присоединяем размер когорты к основным данным\n",
    "cohort_data = cohort_data.merge(cohort_sizes, on='cohort')\n",
    "\n",
    "# 7. Рассчитываем коэффициент удержания\n",
    "cohort_data['retention_rate'] = cohort_data['users'] / cohort_data['cohort_size']\n",
    "\n",
    "# 8. Преобразуем данные в формат матрицы для тепловой карты\n",
    "retention_matrix = cohort_data.pivot(index='cohort', columns='weeks_diff', values='retention_rate')\n",
    "\n",
    "# 9. Визуализируем тепловую карту\n",
    "plt.figure(figsize=(12, 8))\n",
    "sns.heatmap(retention_matrix, annot=True, fmt=\".0%\", cmap=\"coolwarm\", cbar_kws={'label': 'Retention Rate'})\n",
    "plt.title('Тепловая карта удержания пользователей (по неделям)')\n",
    "plt.xlabel('Недели с момента первого события')\n",
    "plt.ylabel('Когорта (неделя первого события)')\n",
    "plt.show()\n"
   ]
  },
  {
   "cell_type": "markdown",
   "metadata": {},
   "source": [
    "#### Промежуточный вывод:"
   ]
  },
  {
   "cell_type": "markdown",
   "metadata": {},
   "source": [
    "1. Когорта 2019-10-07/2019-10-13: Начальное удержание (week 0) составляет 1.0, что означает полное удержание на первой неделе. С каждым последующим week (1, 2, 3) коэффициент удержания уменьшается, но все еще остается значительным (на week 3 — 0.071681).\n",
    "\n",
    "2. Когорта 2019-10-14/2019-10-20: Удержание на первой неделе составляет 1.0 (полное удержание). Затем удержание постепенно снижается: на второй неделе — 0.172384, а на третьей неделе — 0.074614. Однако на четвертой неделе данных нет (NaN).\n",
    "\n",
    "3. Когорта 2019-10-21/2019-10-27: Удержание на первой неделе также составляет 1.0. Однако на второй неделе удержание значительно снижается до 0.100548, и на последующих неделях данных нет (NaN).\n",
    "\n",
    "4. Когорта 2019-10-28/2019-11-03: На первой неделе удержание снова 1.0, но на остальных неделях нет данных (NaN).\n",
    "\n",
    "Везде, где значение 1.0, это полное удержание на соответствующей неделе.\n",
    "Для большинства когорт удержание падает по мере увеличения недель. Однако для некоторых когорт на более поздних неделях данные отсутствуют.\n",
    "В общем, данные показывают уменьшение удержания со временем, что является типичным для многих процессов, где интересует удержание пользователей или клиентов."
   ]
  },
  {
   "cell_type": "markdown",
   "metadata": {},
   "source": [
    "### Время, проведенное в приложении:\n",
    "* Рассчитаем среднее и медианное время использования.\n",
    "* Изучим распределение времени по группам пользователей."
   ]
  },
  {
   "cell_type": "code",
   "execution_count": 16,
   "metadata": {},
   "outputs": [
    {
     "name": "stdout",
     "output_type": "stream",
     "text": [
      "Среднее время сессии: 772.67 секунд\n",
      "Медианное время сессии: 335.17 секунд\n"
     ]
    }
   ],
   "source": [
    "# Задаем тайм-аут для сессии (в секундах, например, 30 минут)\n",
    "session_timeout = 30 * 60  \n",
    "\n",
    "# Сортируем данные по пользователю и времени\n",
    "df = df.sort_values(by=['user.id', 'event.time'])\n",
    "\n",
    "# Вычисляем разницу во времени между событиями\n",
    "df['time_diff'] = df.groupby('user.id')['event.time'].diff().dt.total_seconds()\n",
    "\n",
    "# Преобразуем разницу времени в минуты для анализа\n",
    "df['time_diff_minutes'] = df['time_diff'] / 60\n",
    "\n",
    "# Очистка данных от пропусков в time_diff\n",
    "time_diff_minutes_cleaned = df['time_diff_minutes'].dropna()\n",
    "\n",
    "# Сортировка значений для построения кумулятивного распределения\n",
    "time_diff_values = np.sort(time_diff_minutes_cleaned)\n",
    "cumulative_distribution = np.arange(1, len(time_diff_values) + 1) / len(time_diff_values)\n",
    "\n",
    "# Продолжение работы с сессиями\n",
    "df['new_session'] = (df['time_diff'] > session_timeout) | (df['time_diff'].isna())\n",
    "df['session_id'] = df.groupby('user.id')['new_session'].cumsum()\n",
    "\n",
    "# Вычисляем начало и конец каждой сессии\n",
    "session_time = df.groupby(['user.id', 'session_id'])['event.time'].agg(['min', 'max'])\n",
    "\n",
    "# Рассчитываем продолжительность сессий\n",
    "session_time['session_duration'] = (session_time['max'] - session_time['min']).dt.total_seconds()\n",
    "\n",
    "# Среднее и медианное время сессии\n",
    "mean_session_time = session_time['session_duration'].mean()\n",
    "median_session_time = session_time['session_duration'].median()\n",
    "\n",
    "# Выводим результаты\n",
    "print(f\"Среднее время сессии: {mean_session_time:.2f} секунд\")\n",
    "print(f\"Медианное время сессии: {median_session_time:.2f} секунд\")"
   ]
  },
  {
   "cell_type": "code",
   "execution_count": 17,
   "metadata": {},
   "outputs": [
    {
     "data": {
      "text/html": [
       "<div>\n",
       "<style scoped>\n",
       "    .dataframe tbody tr th:only-of-type {\n",
       "        vertical-align: middle;\n",
       "    }\n",
       "\n",
       "    .dataframe tbody tr th {\n",
       "        vertical-align: top;\n",
       "    }\n",
       "\n",
       "    .dataframe thead th {\n",
       "        text-align: right;\n",
       "    }\n",
       "</style>\n",
       "<table border=\"1\" class=\"dataframe\">\n",
       "  <thead>\n",
       "    <tr style=\"text-align: right;\">\n",
       "      <th></th>\n",
       "      <th></th>\n",
       "      <th>min</th>\n",
       "      <th>max</th>\n",
       "      <th>session_duration</th>\n",
       "    </tr>\n",
       "    <tr>\n",
       "      <th>user.id</th>\n",
       "      <th>session_id</th>\n",
       "      <th></th>\n",
       "      <th></th>\n",
       "      <th></th>\n",
       "    </tr>\n",
       "  </thead>\n",
       "  <tbody>\n",
       "    <tr>\n",
       "      <th rowspan=\"4\" valign=\"top\">0001b1d5-b74a-4cbf-aeb0-7df5947bf349</th>\n",
       "      <th>1</th>\n",
       "      <td>2019-10-07 13:39:45.989359</td>\n",
       "      <td>2019-10-07 13:49:41.716617</td>\n",
       "      <td>595.727258</td>\n",
       "    </tr>\n",
       "    <tr>\n",
       "      <th>2</th>\n",
       "      <td>2019-10-09 18:33:55.577963</td>\n",
       "      <td>2019-10-09 18:42:22.963948</td>\n",
       "      <td>507.385985</td>\n",
       "    </tr>\n",
       "    <tr>\n",
       "      <th>3</th>\n",
       "      <td>2019-10-21 19:52:30.778932</td>\n",
       "      <td>2019-10-21 20:07:30.051028</td>\n",
       "      <td>899.272096</td>\n",
       "    </tr>\n",
       "    <tr>\n",
       "      <th>4</th>\n",
       "      <td>2019-10-22 11:18:14.635436</td>\n",
       "      <td>2019-10-22 11:30:52.807203</td>\n",
       "      <td>758.171767</td>\n",
       "    </tr>\n",
       "    <tr>\n",
       "      <th>00157779-810c-4498-9e05-a1e9e3cedf93</th>\n",
       "      <th>1</th>\n",
       "      <td>2019-10-19 21:34:33.849769</td>\n",
       "      <td>2019-10-19 21:59:54.637098</td>\n",
       "      <td>1520.787329</td>\n",
       "    </tr>\n",
       "    <tr>\n",
       "      <th>...</th>\n",
       "      <th>...</th>\n",
       "      <td>...</td>\n",
       "      <td>...</td>\n",
       "      <td>...</td>\n",
       "    </tr>\n",
       "    <tr>\n",
       "      <th rowspan=\"5\" valign=\"top\">fffb9e79-b927-4dbb-9b48-7fd09b23a62b</th>\n",
       "      <th>26</th>\n",
       "      <td>2019-11-02 01:16:48.947231</td>\n",
       "      <td>2019-11-02 01:16:48.947231</td>\n",
       "      <td>0.000000</td>\n",
       "    </tr>\n",
       "    <tr>\n",
       "      <th>27</th>\n",
       "      <td>2019-11-02 18:01:27.094834</td>\n",
       "      <td>2019-11-02 18:17:41.386651</td>\n",
       "      <td>974.291817</td>\n",
       "    </tr>\n",
       "    <tr>\n",
       "      <th>28</th>\n",
       "      <td>2019-11-02 19:25:53.794029</td>\n",
       "      <td>2019-11-02 19:30:50.471310</td>\n",
       "      <td>296.677281</td>\n",
       "    </tr>\n",
       "    <tr>\n",
       "      <th>29</th>\n",
       "      <td>2019-11-03 14:32:55.956301</td>\n",
       "      <td>2019-11-03 14:48:44.263356</td>\n",
       "      <td>948.307055</td>\n",
       "    </tr>\n",
       "    <tr>\n",
       "      <th>30</th>\n",
       "      <td>2019-11-03 15:36:01.007440</td>\n",
       "      <td>2019-11-03 16:08:25.388712</td>\n",
       "      <td>1944.381272</td>\n",
       "    </tr>\n",
       "  </tbody>\n",
       "</table>\n",
       "<p>10368 rows × 3 columns</p>\n",
       "</div>"
      ],
      "text/plain": [
       "                                                                       min  \\\n",
       "user.id                              session_id                              \n",
       "0001b1d5-b74a-4cbf-aeb0-7df5947bf349 1          2019-10-07 13:39:45.989359   \n",
       "                                     2          2019-10-09 18:33:55.577963   \n",
       "                                     3          2019-10-21 19:52:30.778932   \n",
       "                                     4          2019-10-22 11:18:14.635436   \n",
       "00157779-810c-4498-9e05-a1e9e3cedf93 1          2019-10-19 21:34:33.849769   \n",
       "...                                                                    ...   \n",
       "fffb9e79-b927-4dbb-9b48-7fd09b23a62b 26         2019-11-02 01:16:48.947231   \n",
       "                                     27         2019-11-02 18:01:27.094834   \n",
       "                                     28         2019-11-02 19:25:53.794029   \n",
       "                                     29         2019-11-03 14:32:55.956301   \n",
       "                                     30         2019-11-03 15:36:01.007440   \n",
       "\n",
       "                                                                       max  \\\n",
       "user.id                              session_id                              \n",
       "0001b1d5-b74a-4cbf-aeb0-7df5947bf349 1          2019-10-07 13:49:41.716617   \n",
       "                                     2          2019-10-09 18:42:22.963948   \n",
       "                                     3          2019-10-21 20:07:30.051028   \n",
       "                                     4          2019-10-22 11:30:52.807203   \n",
       "00157779-810c-4498-9e05-a1e9e3cedf93 1          2019-10-19 21:59:54.637098   \n",
       "...                                                                    ...   \n",
       "fffb9e79-b927-4dbb-9b48-7fd09b23a62b 26         2019-11-02 01:16:48.947231   \n",
       "                                     27         2019-11-02 18:17:41.386651   \n",
       "                                     28         2019-11-02 19:30:50.471310   \n",
       "                                     29         2019-11-03 14:48:44.263356   \n",
       "                                     30         2019-11-03 16:08:25.388712   \n",
       "\n",
       "                                                 session_duration  \n",
       "user.id                              session_id                    \n",
       "0001b1d5-b74a-4cbf-aeb0-7df5947bf349 1                 595.727258  \n",
       "                                     2                 507.385985  \n",
       "                                     3                 899.272096  \n",
       "                                     4                 758.171767  \n",
       "00157779-810c-4498-9e05-a1e9e3cedf93 1                1520.787329  \n",
       "...                                                           ...  \n",
       "fffb9e79-b927-4dbb-9b48-7fd09b23a62b 26                  0.000000  \n",
       "                                     27                974.291817  \n",
       "                                     28                296.677281  \n",
       "                                     29                948.307055  \n",
       "                                     30               1944.381272  \n",
       "\n",
       "[10368 rows x 3 columns]"
      ]
     },
     "execution_count": 17,
     "metadata": {},
     "output_type": "execute_result"
    }
   ],
   "source": [
    "session_time"
   ]
  },
  {
   "cell_type": "code",
   "execution_count": 18,
   "metadata": {},
   "outputs": [
    {
     "data": {
      "image/png": "[encoded data removed]",
      "text/plain": [
       "<Figure size 792x504 with 1 Axes>"
      ]
     },
     "metadata": {
      "needs_background": "light"
     },
     "output_type": "display_data"
    }
   ],
   "source": [
    "plt.figure(figsize=(11, 7))\n",
    "sns.histplot(session_time['session_duration'], kde=True, color='skyblue', bins=50, linewidth=2)\n",
    "plt.title('Распределение времени сессии', fontsize=18)\n",
    "plt.xlabel('Время (сек.)', fontsize=14)\n",
    "plt.ylabel('Количество сессий', fontsize=14)\n",
    "plt.grid(True)\n",
    "plt.show()"
   ]
  },
  {
   "cell_type": "code",
   "execution_count": 19,
   "metadata": {},
   "outputs": [
    {
     "data": {
      "image/png": "[encoded data removed]",
      "text/plain": [
       "<Figure size 720x432 with 1 Axes>"
      ]
     },
     "metadata": {
      "needs_background": "light"
     },
     "output_type": "display_data"
    }
   ],
   "source": [
    "plt.figure(figsize=(10, 6))\n",
    "sns.boxplot(x=session_time['session_duration'], color='skyblue')\n",
    "plt.title('Ящик с усами для времени сессии')\n",
    "plt.xlabel('Время (сек.)')\n",
    "plt.grid(True)\n",
    "plt.show()"
   ]
  },
  {
   "cell_type": "code",
   "execution_count": 20,
   "metadata": {},
   "outputs": [
    {
     "data": {
      "image/png": "[encoded data removed]",
      "text/plain": [
       "<Figure size 864x432 with 2 Axes>"
      ]
     },
     "metadata": {
      "needs_background": "light"
     },
     "output_type": "display_data"
    }
   ],
   "source": [
    "df['weekday'] = df['event.time'].dt.weekday  # Понедельник = 0, Воскресенье = 6\n",
    "df['hour'] = df['event.time'].dt.hour\n",
    "\n",
    "# Группируем по дням недели и часам\n",
    "user_activity = df.groupby(['weekday', 'hour'])['user.id'].count().unstack()\n",
    "\n",
    "# Строим тепловую карту\n",
    "plt.figure(figsize=(12, 6))\n",
    "sns.heatmap(user_activity, cmap='YlGnBu', annot=True, fmt='.0f', linewidths=.5)  # Форматируем в целые числа\n",
    "plt.title('Тепловая карта активности пользователей по дням недели и часам')\n",
    "plt.xlabel('Час дня')\n",
    "plt.ylabel('День недели')\n",
    "plt.show()"
   ]
  },
  {
   "cell_type": "code",
   "execution_count": 21,
   "metadata": {},
   "outputs": [
    {
     "data": {
      "image/png": "[encoded data removed]",
      "text/plain": [
       "<Figure size 864x432 with 1 Axes>"
      ]
     },
     "metadata": {
      "needs_background": "light"
     },
     "output_type": "display_data"
    }
   ],
   "source": [
    "# кумулятивное распределение\n",
    "plt.figure(figsize=(12, 6))\n",
    "plt.plot(time_diff_values, cumulative_distribution, marker='.', linestyle='none', color='blue')\n",
    "plt.title('Кумулятивное распределение временных интервалов между событиями')\n",
    "plt.xlabel('Интервалы времени (в минутах)')\n",
    "plt.ylabel('Кумулятивная доля событий')\n",
    "plt.axvline(x=10, color='red', linestyle='--', label='порог')\n",
    "plt.xlim(0, 60)  # ограничиваем ось X до 60 минут\n",
    "plt.ylim(0, 1)  # кумулятивная доля от 0 до 1\n",
    "plt.legend()\n",
    "plt.grid(True)\n",
    "plt.show()"
   ]
  },
  {
   "cell_type": "markdown",
   "metadata": {},
   "source": [
    "#### Промежуточный вывод:\n",
    "1. Среднее и медианное время сессии:\n",
    "\n",
    "* Среднее время сессии составляет 772.67 секунд (около 12 минут 53 секунд).\n",
    "* Медианное время сессии — 335.17 секунд (около 5 минут 35 секунд).\n",
    "* Разница между средним и медианным значением указывает на наличие выбросов в данных, то есть небольшое количество сессий с аномально большим временем влияет на среднее значение.\n",
    "\n",
    "2. Распределение времени сессий:\n",
    "\n",
    "* Анализ гистограммы и кривой плотности (KDE) показал, что большинство сессий укладываются в диапазон от 0 до 600 секунд (10 минут).\n",
    "* Длинный \"хвост\" в распределении указывает на наличие пользователей с очень длинными сессиями.\n",
    "\n",
    "3. Активность пользователей по дням недели и времени суток:\n",
    "\n",
    "* Наиболее активные дни недели: понедельник, вторник и суббота (в зависимости от времени суток активность может немного различаться).\n",
    "\n",
    "4. Часы наибольшей активности: утренние часы (8:00–10:00) и вечерние часы (18:00–22:00).\n",
    "* Активность плавно снижается в ночное время, минимальная активность наблюдается с 2:00 до 6:00.\n",
    "\n",
    "5. На кумулятивном графике распределения (CDF) видно, как процент событий увеличивается с увеличением временного интервала. Этот график наглядно демонстрирует долю событий, которая приходится на каждый временной интервал. **Быстрый рост кумулятивной доли** наблюдается в первые 10 минут (красная пунктирная линия), что указывает на то, что основная часть событий происходит именно в этот период. После 10 минут кривая становится менее крутой, это говорит нам об увеличении временных интервалов между событиями, которые начинают происходить все реже. На основе этого графика можно сделать вывод, что установка 10-минутного порога для тайм-аута сессий является оправданной, так как большинство событий фиксируется в пределах этого временного отрезка.\n",
    "\n",
    "6. Выделение сессий:\n",
    "\n",
    "* Сессии выделены с учетом активности в пределах одного дня или с применением тайм-аута. Это позволило скорректировать расчет метрик для более точного анализа."
   ]
  },
  {
   "cell_type": "markdown",
   "metadata": {},
   "source": [
    "### Частота действий:"
   ]
  },
  {
   "cell_type": "markdown",
   "metadata": {},
   "source": [
    "* Оценим, сколько действий в среднем совершает пользователь.\n",
    "* Выделим самые популярные и редкие действия."
   ]
  },
  {
   "cell_type": "code",
   "execution_count": 22,
   "metadata": {},
   "outputs": [
    {
     "data": {
      "text/plain": [
       "(17.283251805264385, 'tips_show', 'show_contacts')"
      ]
     },
     "execution_count": 22,
     "metadata": {},
     "output_type": "execute_result"
    }
   ],
   "source": [
    "# Подсчитываем количество событий на пользователя\n",
    "user_actions = df.groupby('user.id')['event.name'].count()\n",
    "\n",
    "# Среднее количество действий\n",
    "avg_actions = user_actions.mean()\n",
    "\n",
    "# Определим самые популярные и редкие действия\n",
    "action_counts = df['event.name'].value_counts()\n",
    "most_popular_action = action_counts.idxmax()\n",
    "least_popular_action = action_counts.idxmin()\n",
    "\n",
    "avg_actions, most_popular_action, least_popular_action\n",
    "(17.283251805264385, 'tips_show', 'show_contacts')"
   ]
  },
  {
   "cell_type": "code",
   "execution_count": 23,
   "metadata": {},
   "outputs": [
    {
     "data": {
      "image/png": "[encoded data removed]",
      "text/plain": [
       "<Figure size 720x432 with 1 Axes>"
      ]
     },
     "metadata": {
      "needs_background": "light"
     },
     "output_type": "display_data"
    }
   ],
   "source": [
    "plt.figure(figsize=(10, 6))\n",
    "action_counts.head(10).plot(kind='bar', color='lightgreen')\n",
    "plt.title('Топ-10 самых популярных действий')\n",
    "plt.xlabel('Действие')\n",
    "plt.ylabel('Количество')\n",
    "plt.xticks(rotation=45, ha='right')\n",
    "plt.show()"
   ]
  },
  {
   "cell_type": "markdown",
   "metadata": {},
   "source": [
    "#### Промежуточные выводы:\n",
    "* Среднее количество действий: в среднем пользователь совершает около 17.28 действий в приложении.\n",
    "\n",
    "* Самое популярное действие: действие с наибольшим количеством — это tips_show, что может означать, что пользователи часто просматривают советы или подсказки в приложении.\n",
    "\n",
    "* Самое редкое действие: самое редкое действие — это show_contacts, что свидетельствует о том, что пользователи редко просматривают контакты."
   ]
  },
  {
   "cell_type": "markdown",
   "metadata": {},
   "source": [
    "### Конверсия в целевое действие:"
   ]
  },
  {
   "cell_type": "markdown",
   "metadata": {},
   "source": [
    "* Рассчитаем долю пользователей, просмотревших контакты, среди всех пользователей.\n",
    "* Сравним конверсии по источникам установки приложения."
   ]
  },
  {
   "cell_type": "code",
   "execution_count": 24,
   "metadata": {
    "scrolled": false
   },
   "outputs": [
    {
     "name": "stdout",
     "output_type": "stream",
     "text": [
      "source\n",
      "google    24.357839\n",
      "other     18.536585\n",
      "yandex    24.715615\n",
      "Name: user.id, dtype: float64\n"
     ]
    },
    {
     "name": "stderr",
     "output_type": "stream",
     "text": [
      "/tmp/ipykernel_48/3108623281.py:41: MatplotlibDeprecationWarning: normalize=None does not normalize if the sum is less than 1 but this behavior is deprecated since 3.3 until two minor releases later. After the deprecation period the default value will be normalize=True. To prevent normalization pass normalize=False \n",
      "  plt.pie(\n"
     ]
    },
    {
     "data": {
      "image/png": "[encoded data removed]",
      "text/plain": [
       "<Figure size 576x576 with 1 Axes>"
      ]
     },
     "metadata": {},
     "output_type": "display_data"
    },
    {
     "name": "stdout",
     "output_type": "stream",
     "text": [
      "Этапы пути:\n",
      "event.name\n",
      "tips_show        2801\n",
      "map              1456\n",
      "photos_show      1095\n",
      "contacts          981\n",
      "search_1          787\n",
      "advert_open       751\n",
      "search_5          663\n",
      "search_4          474\n",
      "favorites_add     351\n",
      "search_6          330\n",
      "tips_click        322\n",
      "search_2          242\n",
      "contacts_call     213\n",
      "search_3          208\n",
      "search_7          157\n",
      "Name: user.id, dtype: int64\n"
     ]
    },
    {
     "data": {
      "image/png": "[encoded data removed]",
      "text/plain": [
       "<Figure size 864x432 with 1 Axes>"
      ]
     },
     "metadata": {
      "needs_background": "light"
     },
     "output_type": "display_data"
    }
   ],
   "source": [
    "# Определяем целевое действие\n",
    "target_action = 'contacts'\n",
    "\n",
    "# Объединяем DataFrame с источниками с основным DataFrame\n",
    "df_with_source = df.merge(source, on='user.id', how='left')\n",
    "\n",
    "# Проверяем на наличие пропусков и обрабатываем их\n",
    "df_with_source.fillna({'source': 'unknown'}, inplace=True)\n",
    "\n",
    "# Проверяем, есть ли целевое действие в данных\n",
    "if target_action not in df_with_source['event.name'].unique():\n",
    "    raise ValueError(f\"Целевое действие '{target_action}' отсутствует в данных!\")\n",
    "\n",
    "# Выбираем пользователей, совершивших целевое действие\n",
    "target_action_users = df_with_source[df_with_source['event.name'] == target_action]\n",
    "\n",
    "# Проверяем, есть ли пользователи, совершившие целевое действие\n",
    "if target_action_users.empty:\n",
    "    raise ValueError(\"Нет пользователей, совершивших целевое действие!\")\n",
    "\n",
    "# Рассчитываем конверсию по источникам\n",
    "source_users = df_with_source.groupby('source')['user.id'].nunique()\n",
    "target_users = target_action_users.groupby('source')['user.id'].nunique()\n",
    "\n",
    "# Избегаем деления на ноль\n",
    "source_users = source_users.replace(0, 1)\n",
    "\n",
    "# Вычисляем конверсию\n",
    "source_conversion = (target_users / source_users).fillna(0)\n",
    "\n",
    "# Выводим результат в процентах\n",
    "source_conversion_percent = source_conversion * 100\n",
    "print(source_conversion_percent)\n",
    "\n",
    "# Нормализация данных для круговой диаграммы\n",
    "normalized_conversion_percent = source_conversion_percent / source_conversion_percent.sum()\n",
    "\n",
    "# Визуализируем конверсию в круговой диаграмме\n",
    "plt.figure(figsize=(8, 8))\n",
    "colors = sns.color_palette('pastel')[0:len(normalized_conversion_percent)]\n",
    "plt.pie(\n",
    "    normalized_conversion_percent,\n",
    "    labels=source_conversion_percent.index,\n",
    "    autopct='%1.1f%%',  # Показываем проценты\n",
    "    startangle=90,       # Начинаем с 90 градусов\n",
    "    colors=colors        # Используем пастельные цвета\n",
    ")\n",
    "plt.title(f'Конверсия по источникам для целевого действия: {target_action}')\n",
    "plt.axis('equal')  # Сделать диаграмму круговой\n",
    "plt.show()\n",
    "\n",
    "# Рассчитываем этапы пути (воронка)\n",
    "funnel = df_with_source.groupby('event.name')['user.id'].nunique().sort_values(ascending=False)\n",
    "print(f\"Этапы пути:\\n{funnel}\")\n",
    "\n",
    "# Визуализируем воронку с Seaborn\n",
    "if not funnel.empty:\n",
    "    plt.figure(figsize=(12, 6))\n",
    "    sns.barplot(x=funnel.index, y=funnel.values, palette='Blues_d')\n",
    "    plt.title('Воронка пользователей')\n",
    "    plt.xlabel('Этапы пути')\n",
    "    plt.ylabel('Количество уникальных пользователей')\n",
    "    plt.xticks(rotation=45, ha='right')\n",
    "    plt.tight_layout()\n",
    "    plt.show()\n",
    "else:\n",
    "    print(\"Воронка пользователей пуста.\")"
   ]
  },
  {
   "cell_type": "markdown",
   "metadata": {},
   "source": [
    "#### Промежуточный вывод:\n",
    "\n",
    "Конверсия по источникам:\n",
    "\n",
    "- Google: 24.36%\n",
    "- Other: 18.54%\n",
    "- Yandex: 24.72%\n",
    "\n",
    "Этапы пути:\n",
    "\n",
    "- Tips_show: 2801 пользователей\n",
    "- Map: 1456 пользователей\n",
    "- Photos_show: 1095 пользователей\n",
    "- Contacts: 981 пользователей\n",
    "- Search_1: 787 пользователей\n",
    "- Advert_open: 751 пользователей\n",
    "- Search_5: 663 пользователей\n",
    "- Search_4: 474 пользователей\n",
    "- Favorites_add: 351 пользователей\n",
    "- Search_6: 330 пользователей\n",
    "- Tips_click: 322 пользователей\n",
    "- Search_2: 242 пользователей\n",
    "- Contacts_call: 213 пользователей\n",
    "- Search_3: 208 пользователей\n",
    "- Search_7: 157 пользователей\n",
    "\n",
    "Большинство пользователей начинают с этапа \"Tips_show\", затем перемещаются к следующим шагам, но на каждом этапе происходит потеря пользователей. На этапе \"Contacts\" остаётся 981 пользователь, что отражает естественное снижение по мере прохождения пути. Несмотря на это, этап \"Contacts\" сохраняет значительное количество пользователей."
   ]
  },
  {
   "cell_type": "markdown",
   "metadata": {},
   "source": [
    "## Сегментация пользователей\n",
    "* Времени, проведенного в приложении.\n",
    "* Частоты выполнения действий.\n",
    "* Конверсии в целевое действие.\n",
    "* Проанализировать ключевые особенности каждого сегмента."
   ]
  },
  {
   "cell_type": "markdown",
   "metadata": {},
   "source": [
    "Рассчитывает метрики пользователей: частота действий и продолжительность сессий."
   ]
  },
  {
   "cell_type": "code",
   "execution_count": 25,
   "metadata": {},
   "outputs": [],
   "source": [
    "def calculate_user_metrics(df):\n",
    "    user_metrics = df.groupby('user.id').agg(\n",
    "        session_duration=('time_diff', 'sum'),  # Общая продолжительность сессий\n",
    "        action_count=('event.name', 'count')    # Количество действий\n",
    "    ).reset_index()\n",
    "    return user_metrics"
   ]
  },
  {
   "cell_type": "markdown",
   "metadata": {},
   "source": [
    "Делим пользователей на группы по поведению (квантильное разбиение)."
   ]
  },
  {
   "cell_type": "code",
   "execution_count": 26,
   "metadata": {},
   "outputs": [],
   "source": [
    "def segment_users(user_metrics):\n",
    "    user_metrics['session_group'] = pd.qcut(user_metrics['session_duration'], q=3, labels=['Короткие сессии', 'Средние сессии', 'Длинные сессии'])\n",
    "    user_metrics['action_group'] = pd.qcut(user_metrics['action_count'], q=3, labels=['Низкая активность', 'Средняя активность', 'Высокая активность'])\n",
    "    return user_metrics"
   ]
  },
  {
   "cell_type": "markdown",
   "metadata": {},
   "source": [
    "Рассчитываем удержание, вовлеченность и конверсию по группам."
   ]
  },
  {
   "cell_type": "code",
   "execution_count": 27,
   "metadata": {},
   "outputs": [],
   "source": [
    "def calculate_group_metrics(df_with_groups, target_action):\n",
    "    # Конверсия\n",
    "    conversion = df_with_groups[df_with_groups['event.name'] == target_action].groupby(['action_group', 'session_group'])['user.id'].nunique()\n",
    "    total_users = df_with_groups.groupby(['action_group', 'session_group'])['user.id'].nunique()\n",
    "    conversion_rate = (conversion / total_users).fillna(0)\n",
    "\n",
    "    # вовлеченность- средняя частота действий и продолжительность сессий\n",
    "    engagement_metrics = df_with_groups.groupby(['action_group', 'session_group']).agg(\n",
    "        avg_actions=('event.name', 'count'),\n",
    "        avg_session_duration=('time_diff', 'mean'))\n",
    "    return conversion_rate, engagement_metrics"
   ]
  },
  {
   "cell_type": "code",
   "execution_count": 28,
   "metadata": {},
   "outputs": [],
   "source": [
    "def visualize_metrics(conversion_rate, engagement_metrics):\n",
    "    # Конверсия\n",
    "    conversion_rate.unstack().plot(kind='bar', figsize=(12, 6), colormap='Greens')\n",
    "    plt.title('Конверсия по группам')\n",
    "    plt.xlabel('Группа активности')\n",
    "    plt.ylabel('Конверсия (%)')\n",
    "    plt.legend(title='Группа сессий')\n",
    "    plt.tight_layout()\n",
    "    plt.show()\n",
    "\n",
    "    # Вовлеченность\n",
    "    fig, axes = plt.subplots(1, 2, figsize=(14, 5))\n",
    "\n",
    "    sns.barplot(x=engagement_metrics.index.get_level_values('action_group'),\n",
    "                y=engagement_metrics['avg_actions'], ax=axes[0], palette='Blues_d')\n",
    "    axes[0].set_title('Средняя частота действий')\n",
    "    axes[0].set_xlabel('Группа активности')\n",
    "    axes[0].set_ylabel('Частота действий')\n",
    "    sns.barplot(x=engagement_metrics.index.get_level_values('session_group'),\n",
    "                y=engagement_metrics['avg_session_duration'], ax=axes[1], palette='Oranges_d')\n",
    "    axes[1].set_title('Средняя продолжительность сессии')\n",
    "    axes[1].set_xlabel('Группа сессий')\n",
    "    axes[1].set_ylabel('Среднее время (сек)')\n",
    "    plt.tight_layout()\n",
    "    plt.show()\n",
    "    "
   ]
  },
  {
   "cell_type": "code",
   "execution_count": 29,
   "metadata": {},
   "outputs": [
    {
     "data": {
      "image/png": "[encoded data removed]",
      "text/plain": [
       "<Figure size 864x432 with 1 Axes>"
      ]
     },
     "metadata": {
      "needs_background": "light"
     },
     "output_type": "display_data"
    },
    {
     "data": {
      "image/png": "[encoded data removed]",
      "text/plain": [
       "<Figure size 1008x360 with 2 Axes>"
      ]
     },
     "metadata": {
      "needs_background": "light"
     },
     "output_type": "display_data"
    }
   ],
   "source": [
    "def main_analysis(df_with_source, target_action='contacts'):\n",
    "    # Шаг 1: Расчет метрик пользователей\n",
    "    user_metrics = calculate_user_metrics(df_with_source)\n",
    "\n",
    "    # Шаг 2: Сегментация пользователей\n",
    "    user_metrics = segment_users(user_metrics)\n",
    "\n",
    "    # Шаг 3: Присоединение сегментов к основным данным\n",
    "    df_with_groups = df_with_source.merge(user_metrics[['user.id', 'session_group', 'action_group']],\n",
    "                                          on='user.id')\n",
    "\n",
    "    # Шаг 4: Анализ метрик по группам\n",
    "    conversion_rate, engagement_metrics = calculate_group_metrics(df_with_groups, target_action)\n",
    "\n",
    "    # Шаг 5: Визуализация результатов\n",
    "    visualize_metrics(conversion_rate, engagement_metrics)\n",
    "# Запуск анализа\n",
    "main_analysis(df_with_source)\n"
   ]
  },
  {
   "cell_type": "code",
   "execution_count": 30,
   "metadata": {},
   "outputs": [],
   "source": [
    "# 1. расчет метрик пользователей\n",
    "def calculate_user_metrics(df):\n",
    "    user_metrics = df.groupby('user.id').agg(\n",
    "        session_duration=('time_diff', 'sum'),  # Общая продолжительность сессий\n",
    "        action_count=('event.name', 'count')    # Количество действий\n",
    "    ).reset_index()\n",
    "    return user_metrics"
   ]
  },
  {
   "cell_type": "code",
   "execution_count": 31,
   "metadata": {},
   "outputs": [],
   "source": [
    "# 2. Сегментация пользователей\n",
    "def segment_users(user_metrics):\n",
    "    user_metrics['session_group'] = pd.qcut(\n",
    "        user_metrics['session_duration'], q=3, labels=['Короткие сессии', 'Средние сессии', 'Длинные сессии'])\n",
    "    user_metrics['action_group'] = pd.qcut(\n",
    "        user_metrics['action_count'], q=3, labels=['Низкая активность', 'Средняя активность', 'Высокая активность'])\n",
    "    return user_metrics"
   ]
  },
  {
   "cell_type": "code",
   "execution_count": 32,
   "metadata": {},
   "outputs": [],
   "source": [
    "# 3. Расчет конверсии в ЦД\n",
    "def calculate_conversion(df_with_groups, target_action):\n",
    "    target_action_users = df_with_groups[df_with_groups['event.name'] == target_action]\n",
    "    converted_users = target_action_users.groupby(['action_group', 'session_group'])['user.id'].nunique()\n",
    "    total_users = df_with_groups.groupby(['action_group', 'session_group'])['user.id'].nunique()\n",
    "    conversion_rate = (converted_users / total_users).fillna(0) * 100  # Конверсия в процентах\n",
    "    conversion_df = conversion_rate.reset_index().rename(columns={'user.id': 'conversion_rate'})\n",
    "    conversion_df['conversion_rate'] = conversion_df['conversion_rate'].round(2)\n",
    "    return conversion_df"
   ]
  },
  {
   "cell_type": "code",
   "execution_count": 33,
   "metadata": {},
   "outputs": [],
   "source": [
    "# 4. тепловая карта активности пользователей\n",
    "def visualize_heatmap(df_with_groups):\n",
    "    activity_heatmap = df_with_groups.pivot_table(\n",
    "        index='action_group',\n",
    "        columns='session_group',\n",
    "        values='user.id',\n",
    "        aggfunc='nunique',\n",
    "        fill_value=0\n",
    "    )\n",
    "    plt.figure(figsize=(10, 6))\n",
    "    sns.heatmap(activity_heatmap, annot=True, fmt='d', cmap='YlGnBu')\n",
    "    plt.title('Тепловая карта активности пользователей')\n",
    "    plt.xlabel('Группа сессий')\n",
    "    plt.ylabel('Группа активности')\n",
    "    plt.show()"
   ]
  },
  {
   "cell_type": "code",
   "execution_count": 34,
   "metadata": {},
   "outputs": [],
   "source": [
    "# 5. конверсия в ЦД\n",
    "def visualize_conversion(conversion_df):\n",
    "    plt.figure(figsize=(12, 6))\n",
    "    sns.barplot(\n",
    "        data=conversion_df,\n",
    "        x='action_group',\n",
    "        y='conversion_rate',\n",
    "        hue='session_group',\n",
    "        palette='coolwarm'\n",
    "    )\n",
    "    plt.title('Конверсия в ЦД по группам пользователей', fontsize=16)\n",
    "    plt.xlabel('Группа активности', fontsize=14)\n",
    "    plt.ylabel('Конверсия (%)', fontsize=14)\n",
    "    plt.legend(title='Группа сессий', fontsize=12)\n",
    "    plt.tight_layout()\n",
    "    plt.show()"
   ]
  },
  {
   "cell_type": "code",
   "execution_count": 35,
   "metadata": {},
   "outputs": [
    {
     "data": {
      "image/png": "[encoded data removed]",
      "text/plain": [
       "<Figure size 720x432 with 2 Axes>"
      ]
     },
     "metadata": {
      "needs_background": "light"
     },
     "output_type": "display_data"
    },
    {
     "data": {
      "image/png": "[encoded data removed]",
      "text/plain": [
       "<Figure size 864x432 with 1 Axes>"
      ]
     },
     "metadata": {
      "needs_background": "light"
     },
     "output_type": "display_data"
    }
   ],
   "source": [
    "def main_analysis(df_with_source, target_action='contacts'):\n",
    "    # расчет метрик пользователей\n",
    "    user_metrics = calculate_user_metrics(df_with_source)\n",
    "    \n",
    "    # сегментация пользователей\n",
    "    user_metrics = segment_users(user_metrics)\n",
    "\n",
    "    # присоединение сегментов к основным данным\n",
    "    df_with_groups = df_with_source.merge(\n",
    "        user_metrics[['user.id', 'session_group', 'action_group']],\n",
    "        on='user.id')\n",
    "    visualize_heatmap(df_with_groups)\n",
    "\n",
    "    # расчет и визуализация конверсии в ЦД\n",
    "    conversion_df = calculate_conversion(df_with_groups, target_action)\n",
    "    visualize_conversion(conversion_df)\n",
    "    return df_with_groups, conversion_df\n",
    "\n",
    "df_with_groups, conversion_df = main_analysis(df_with_source)"
   ]
  },
  {
   "cell_type": "markdown",
   "metadata": {},
   "source": [
    "\n",
    "<div class=\"alert alert-info\">\n",
    "<p>Для сегментации я выбрал два важных признака: продолжительность сессий и частоту действий. Они помогают лучше понять, как ведут себя пользователи, и выделить группы, требующие внимания или уже показывающие хорошие результаты.</p>\n",
    "<p><strong>Почему это важно для заказчика:</strong></p>\n",
    "<ol>\n",
    "<li>Пользователи, которые проводят больше времени в приложении и активно взаимодействуют с ним, &mdash; самая перспективная аудитория. Они чаще совершают платные действия, и на них можно ориентировать премиум-функции или дополнительные услуги.</li>\n",
    "<li>Короткие сессии и редкие действия &mdash; сигналы, что что-то пошло не так. Возможно, пользователям неудобно пользоваться приложением или они не находят в нём ничего интересного.&nbsp;</li>\n",
    "<li>Сегментация показывает, куда стоит вкладывать усилия. Например, если группа уже активна и приносит прибыль, её можно оставить без изменений. А вот те, кто нуждается в доработке интерфейса или новых маркетинговых акциях, требуют нашего внимания.&nbsp;</li>\n",
    "</ol>\n",
    "<p><br />То есть от такой сегментации мы ждем понимания поведения пользователей, это понимание должно помочь улучшить ключевые показатели: конверсию, удержание и доход с одного клиента (LTV).&nbsp;</p>\n",
    "</div>\n"
   ]
  },
  {
   "cell_type": "markdown",
   "metadata": {},
   "source": [
    "#### Промежуточный вывод:"
   ]
  },
  {
   "cell_type": "markdown",
   "metadata": {},
   "source": [
    "Конверсия по группам (график 1)\n",
    "\n",
    "Группы с высокой активностью демонстрируют значительно более высокую конверсию, особенно в сочетании с длинными сессиями. Напротив, у пользователей с низкой активностью даже длинные сессии не приводят к заметному улучшению конверсии.\n",
    "\n",
    "Выводы:\n",
    "\n",
    "Высокая частота действий — ключевой фактор, определяющий конверсию.\n",
    "Увеличение вовлечённости среди пользователей с низкой активностью должно стать приоритетом.\n",
    "Средняя частота действий (график 2, слева)\n",
    "\n",
    "Пользователи с высокой активностью ожидаемо совершают действия гораздо чаще. В то же время группы со средней и низкой активностью демонстрируют более равномерное распределение частоты действий.\n",
    "\n",
    "Выводы:\n",
    "\n",
    "Для пользователей с низкой активностью стоит внедрить персонализированные рекомендации или предложить дополнительные функции, чтобы повысить вовлечённость.\n",
    "Средняя продолжительность сессий (график 2, справа)\n",
    "\n",
    "Длинные сессии характеризуются большей вариативностью в распределении времени. Для коротких и средних сессий характерно более компактное распределение.\n",
    "\n",
    "Выводы:\n",
    "\n",
    "Пользователям с короткими сессиями нужно сократить путь до целевого действия, чтобы повысить их эффективность.\n",
    "Рекомендации\n",
    "\n",
    "Для удержания:\n",
    "\n",
    "Разработать механики возвращения, такие как push-уведомления или бонусы за возвращение, для пользователей с низкой активностью.\n",
    "Упростить первый опыт для пользователей с короткими сессиями, чтобы повысить вероятность их повторного взаимодействия.\n",
    "Для вовлечённости:\n",
    "\n",
    "Внедрить элементы геймификации для увеличения частоты действий у пользователей со средней активностью.\n",
    "Персонализированные рекомендации для низкоактивных пользователей помогут повысить их интерес к платформе.\n",
    "Для конверсии:\n",
    "\n",
    "Оптимизировать пользовательский путь для групп с низкой активностью.\n",
    "Для пользователей с длинными сессиями, но низкой активностью, сделать упор на упрощение доступа к целевым действиям, чтобы повысить их результативность."
   ]
  },
  {
   "cell_type": "markdown",
   "metadata": {},
   "source": [
    "## Проверка статистических гипотез"
   ]
  },
  {
   "cell_type": "markdown",
   "metadata": {},
   "source": [
    "### Гипотеза 1: \n",
    "\n",
    "1. Нулевая гипотеза (H₀): Конверсии в просмотры контактов для пользователей из yandex и google одинаковы. \n",
    "2. Альтернативная гипотеза (H₁): Конверсии в просмотры контактов для пользователей из yandex и google различны. \n",
    "\n",
    "Тест: Z-тест для пропорций."
   ]
  },
  {
   "cell_type": "code",
   "execution_count": 36,
   "metadata": {},
   "outputs": [
    {
     "name": "stdout",
     "output_type": "stream",
     "text": [
      "Z-значение: 0.2218487822311678\n",
      "p-значение: 0.8244316027993777\n",
      "Не получилось отвергнуть нулевую гипотезу, статистически значимых различий в выборках нет\n"
     ]
    }
   ],
   "source": [
    "df_with_source = df_with_source.copy()  \n",
    "group_yandex = df_with_source[df_with_source['source'] == 'yandex']\n",
    "group_google = df_with_source[df_with_source['source'] == 'google']\n",
    "\n",
    "\n",
    "overlap_users = set(group_yandex['user.id']).intersection(set(group_google['user.id']))\n",
    "if len(overlap_users) > 0:\n",
    "    raise ValueError(f\"Между группами есть пересечения: {len(overlap_users)} пользователей. Данные должны быть независимыми.\")\n",
    "\n",
    "# рассчтываем успехи и количество пользователей для каждой группы\n",
    "successes_yandex = group_yandex[group_yandex['event.name'] == 'contacts']['user.id'].nunique()\n",
    "successes_google = group_google[group_google['event.name'] == 'contacts']['user.id'].nunique()\n",
    "\n",
    "trials_yandex = group_yandex['user.id'].nunique()\n",
    "trials_google = group_google['user.id'].nunique()\n",
    "\n",
    "def z_test(successes1, successes2, trials1, trials2, alpha=0.05):\n",
    "    p1 = successes1 / trials1\n",
    "    p2 = successes2 / trials2\n",
    "\n",
    "    # объединенная пропорция\n",
    "    p_combined = (successes1 + successes2) / (trials1 + trials2)\n",
    "    difference = p1 - p2\n",
    "\n",
    "    # расчет z-значения\n",
    "    z_value = difference / math.sqrt(p_combined * (1 - p_combined) * (1/trials1 + 1/trials2))\n",
    "    distr = stats.norm(0, 1)  # стандартное нормальное распределение\n",
    "    p_value = (1 - distr.cdf(abs(z_value))) * 2  # двусторонний p-значение\n",
    "\n",
    "    print('Z-значение:', z_value)\n",
    "    print('p-значение:', p_value)\n",
    "\n",
    "    if p_value < alpha:\n",
    "        print('Отвергаем нулевую гипотезу, между выборками есть статистически значимые различия')\n",
    "    else:\n",
    "        print('Не получилось отвергнуть нулевую гипотезу, статистически значимых различий в выборках нет')\n",
    "\n",
    "\n",
    "z_test(successes_yandex, successes_google, trials_yandex, trials_google)"
   ]
  },
  {
   "cell_type": "markdown",
   "metadata": {},
   "source": [
    "### Гипотеза 2: \n",
    "Нулевая гипотеза (H₀): Пользователи, которые кликают на рекомендации, имеют такую же конверсию в целевое действие, как и пользователи, которые не кликают.\n",
    "Альтернативная гипотеза (H₁): Пользователи, которые кликают на рекомендации, имеют более высокую конверсию в целевое действие."
   ]
  },
  {
   "cell_type": "code",
   "execution_count": 37,
   "metadata": {},
   "outputs": [],
   "source": [
    "def calculate_conversion(df_with_source, click_event, target_event):\n",
    "    # определение сегментов\n",
    "    clicked_users = df_with_source[df_with_source['event.name'] == click_event]['user.id'].unique()\n",
    "    target_users = df_with_source[df_with_source['event.name'] == target_event]['user.id'].unique()\n",
    "\n",
    "    # пользователи, кот. кликнули и достигли целевого действия\n",
    "    clicked_and_converted = set(clicked_users) & set(target_users)\n",
    "\n",
    "    # пользователи, кот. не кликнули\n",
    "    all_users = df_with_source['user.id'].unique()\n",
    "    non_clicked_users = set(all_users) - set(clicked_users)\n",
    "\n",
    "    # некликающие пользователи, достигшие целевого действия\n",
    "    non_clicked_and_converted = non_clicked_users & set(target_users)\n",
    "\n",
    "    # коэфф конверсии\n",
    "    clicked_conversion_rate = len(clicked_and_converted) / len(clicked_users)\n",
    "    non_clicked_conversion_rate = len(non_clicked_and_converted) / len(non_clicked_users)\n",
    "\n",
    "    summary = {\n",
    "        'Сегмент': ['Кликнувшие', 'Некликнувшие'],\n",
    "        'Всего пользователей': [len(clicked_users), len(non_clicked_users)],\n",
    "        'Конвертированные пользователи': [len(clicked_and_converted), len(non_clicked_and_converted)],\n",
    "        'Коэффициент конверсии': [clicked_conversion_rate, non_clicked_conversion_rate]\n",
    "    }\n",
    "\n",
    "    return pd.DataFrame(summary), len(clicked_and_converted), len(non_clicked_and_converted), len(clicked_users), len(non_clicked_users)"
   ]
  },
  {
   "cell_type": "code",
   "execution_count": 38,
   "metadata": {},
   "outputs": [
    {
     "name": "stdout",
     "output_type": "stream",
     "text": [
      "Сводная таблица конверсий:\n",
      "         Сегмент  Всего пользователей  Конвертированные пользователи  \\\n",
      "0    Кликнувшие                  322                            100   \n",
      "1  Некликнувшие                 3971                            881   \n",
      "\n",
      "   Коэффициент конверсии  \n",
      "0               0.310559  \n",
      "1               0.221858  \n",
      "\n",
      "Результаты Z-теста:\n",
      "Z-статистика: 3.645901084708956\n",
      "P-значение: 0.00013322823142025586\n",
      "Отклоняем нулевую гипотезу: конверсии пользователей, кликающих на рекомендации, отличаются от конверсий пользователей, которые не кликают.\n"
     ]
    }
   ],
   "source": [
    "click_event = 'tips_click'\n",
    "target_event = 'contacts'\n",
    "\n",
    "# расчет коэфф конверсии и сводной таблицы\n",
    "conversion_summary, clicked_converted, non_clicked_converted, clicked_total, non_clicked_total = calculate_conversion(df_with_source, click_event, target_event)\n",
    "\n",
    "# z-тест\n",
    "successes = [clicked_converted, non_clicked_converted]\n",
    "observations = [clicked_total, non_clicked_total]\n",
    "z_stat, p_value = proportions_ztest(successes, observations, alternative='larger')\n",
    "\n",
    "# уровень значимости\n",
    "alpha = 0.05\n",
    "\n",
    "\n",
    "print(\"Сводная таблица конверсий:\\n\", conversion_summary)\n",
    "print(\"\\nРезультаты Z-теста:\")\n",
    "print(f\"Z-статистика: {z_stat}\")\n",
    "print(f\"P-значение: {p_value}\")\n",
    "\n",
    "if p_value < alpha:\n",
    "    print(\"Отклоняем нулевую гипотезу: конверсии пользователей, кликающих на рекомендации, отличаются от конверсий пользователей, которые не кликают.\")\n",
    "else:\n",
    "    print(\"Не отклоняем нулевую гипотезу: конверсии пользователей, кликающих на рекомендации, и тех, кто не кликает, одинаковы.\")"
   ]
  },
  {
   "cell_type": "markdown",
   "metadata": {},
   "source": [
    "## Выводы и рекомендации:\n",
    "    "
   ]
  },
  {
   "cell_type": "markdown",
   "metadata": {},
   "source": [
    "#### 1. Пропуски:\n",
    "В обоих наборах данных нет пропущенных значений.\n",
    "\n",
    "#### 2. Дубликаты:\n",
    "В обоих наборах данных отсутствуют дубликаты строк (метод `duplicated().sum()` показывает 0).\n",
    "\n",
    "#### 3. Временные данные:\n",
    "Поле `event.time` в наборе данных было успешно преобразовано в формат `datetime`, что подтверждает корректность временных данных.\n",
    "\n",
    "#### 4. Консистентность идентификаторов пользователей:\n",
    "Идентификаторы пользователей в обоих наборах данных полностью совпадают, нет отсутствующих идентификаторов пользователей.\n",
    "\n",
    "****Retention (Удержание)**\n",
    "\n",
    "Большинство пользователей покидают приложение в течение первой недели после регистрации. На 7-й день удержание составляет 10–15%, а на 14-й день падает ниже 5%. Аномально низкие показатели удержания у некоторых когорт могут быть вызваны техническими проблемами или недостаточной вовлечённостью.\n",
    "\n",
    "****Рекомендации для удержания:**\n",
    "- Внедрить механики возврата, включая push-уведомления с полезной информацией и приветственные бонусы для новых пользователей.\n",
    "- Упростить первый опыт использования приложения с помощью персонализированных рекомендаций и визуализации пути до целевого действия.\n",
    "\n",
    "\n",
    "Средняя продолжительность сессии ~13 минут, медианная — ~5 минут, что указывает на наличие выбросов. Большинство действий совершаются в первые 10 минут, а длинные сессии связаны с высокой активностью пользователей.\n",
    "\n",
    "**Рекомендации по сессиям:**\n",
    "- Для коротких сессий: упростить путь до целевого действия и улучшить навигацию.\n",
    "- Для длинных сессий с низкой активностью: добавить персонализированные рекомендации и новые функции для повышения вовлечённости.\n",
    "\n",
    "**Частота действий**\n",
    "\n",
    "В среднем пользователи совершают 17 действий. Наиболее популярны просмотр подсказок (tips_show) и открытие карты, а наименее популярно — просмотр контактов.\n",
    "\n",
    "**Рекомендации по частоте действий:**\n",
    "- Стимулировать редкие действия, такие как просмотр контактов, через уведомления после взаимодействий с объявлениями.\n",
    "- Повышать вовлечённость геймификацией, например, наградами за достижение определённого числа действий.\n",
    "\n",
    "**Конверсия в целевое действие**\n",
    "\n",
    "Конверсия в просмотры контактов составляет около 24%. Группы пользователей из Google и Yandex показывают наивысшую конверсию (24.36% и 24.72% соответственно). Пользователи, не взаимодействующие с рекомендациями, демонстрируют более низкую конверсию.\n",
    "\n",
    "**Рекомендации по конверсии:**\n",
    "- Активнее использовать механики рекомендаций, повышающие конверсию.\n",
    "- Сегментировать пользователей по источникам привлечения и усиливать кампании через эффективные каналы, такие как Google и Yandex.\n",
    "\n",
    "****Сегментация пользователей**\n",
    "\n",
    "Группы с высокой активностью и длинными сессиями демонстрируют наибольшую вовлечённость и конверсию. Низкоактивные пользователи показывают слабую конверсию, даже если проводят больше времени в приложении.\n",
    "\n",
    "**Рекомендации по сегментации:**\n",
    "- Для низкоактивных пользователей: персонализировать рекомендации и добавить обучающие элементы.\n",
    "- Для средней активности: внедрить элементы геймификации.\n",
    "- Для высокоактивных пользователей: развивать новые разделы и эксклюзивные функции.\n",
    "\n",
    "**Итоговые рекомендации**\n",
    "\n",
    "Удержание:\n",
    "- Внедрить push-уведомления, бонусы и упрощённый интерфейс.\n",
    "- Регулярно отслеживать удержание для выявления трендов и устранения проблем.\n",
    "\n",
    "Вовлечённость:\n",
    "- Увеличить частоту действий с помощью геймификации и рекомендаций.\n",
    "- Оптимизировать интерфейс для пользователей с короткими сессиями.\n",
    "\n",
    "Конверсия:\n",
    "- Усилить рекламные кампании для результативных источников (Google, Yandex).\n",
    "- Стимулировать ключевые действия, ведущие к просмотру контактов."
   ]
  },
  {
   "cell_type": "markdown",
   "metadata": {},
   "source": [
    "https://disk.yandex.ru/i/M3iQy9_ZJL1oJg"
   ]
  }
 ],
 "metadata": {
  "ExecuteTimeLog": [
   {
    "duration": 447,
    "start_time": "2024-12-15T11:23:52.689Z"
   },
   {
    "duration": 136,
    "start_time": "2024-12-15T11:23:53.138Z"
   },
   {
    "duration": 65,
    "start_time": "2024-12-15T11:24:17.546Z"
   },
   {
    "duration": 133,
    "start_time": "2024-12-15T11:24:26.972Z"
   },
   {
    "duration": 8,
    "start_time": "2024-12-15T11:24:29.001Z"
   },
   {
    "duration": 127,
    "start_time": "2024-12-15T11:24:51.503Z"
   },
   {
    "duration": 8,
    "start_time": "2024-12-15T11:24:53.558Z"
   },
   {
    "duration": 8,
    "start_time": "2024-12-15T11:25:10.297Z"
   },
   {
    "duration": 4,
    "start_time": "2024-12-15T11:25:30.634Z"
   },
   {
    "duration": 35,
    "start_time": "2024-12-15T11:26:27.819Z"
   },
   {
    "duration": 3,
    "start_time": "2024-12-15T11:26:33.284Z"
   },
   {
    "duration": 6,
    "start_time": "2024-12-15T11:27:52.828Z"
   },
   {
    "duration": 14,
    "start_time": "2024-12-15T11:28:08.606Z"
   },
   {
    "duration": 33,
    "start_time": "2024-12-15T11:28:19.463Z"
   },
   {
    "duration": 7,
    "start_time": "2024-12-15T11:28:30.305Z"
   },
   {
    "duration": 6,
    "start_time": "2024-12-15T11:28:59.507Z"
   },
   {
    "duration": 20,
    "start_time": "2024-12-15T11:30:20.128Z"
   },
   {
    "duration": 16,
    "start_time": "2024-12-15T11:30:32.621Z"
   },
   {
    "duration": 121,
    "start_time": "2024-12-15T11:42:25.399Z"
   },
   {
    "duration": 9,
    "start_time": "2024-12-15T11:43:10.373Z"
   },
   {
    "duration": 4,
    "start_time": "2024-12-15T11:43:15.175Z"
   },
   {
    "duration": 10,
    "start_time": "2024-12-15T11:43:30.691Z"
   },
   {
    "duration": 10,
    "start_time": "2024-12-15T11:43:43.487Z"
   },
   {
    "duration": 3,
    "start_time": "2024-12-15T11:45:00.705Z"
   },
   {
    "duration": 6,
    "start_time": "2024-12-15T11:45:05.745Z"
   },
   {
    "duration": 22,
    "start_time": "2024-12-15T11:45:06.084Z"
   },
   {
    "duration": 1554,
    "start_time": "2024-12-15T11:45:06.460Z"
   },
   {
    "duration": 0,
    "start_time": "2024-12-15T11:45:08.015Z"
   },
   {
    "duration": 0,
    "start_time": "2024-12-15T11:45:08.016Z"
   },
   {
    "duration": 50,
    "start_time": "2024-12-15T11:45:33.712Z"
   },
   {
    "duration": 7,
    "start_time": "2024-12-15T11:45:49.239Z"
   },
   {
    "duration": 6,
    "start_time": "2024-12-15T11:45:49.654Z"
   },
   {
    "duration": 6,
    "start_time": "2024-12-15T11:45:50.043Z"
   },
   {
    "duration": 360,
    "start_time": "2024-12-15T11:45:55.378Z"
   },
   {
    "duration": 153,
    "start_time": "2024-12-15T11:45:55.946Z"
   },
   {
    "duration": 27,
    "start_time": "2024-12-15T11:45:57.095Z"
   },
   {
    "duration": 5,
    "start_time": "2024-12-15T11:45:58.053Z"
   },
   {
    "duration": 14,
    "start_time": "2024-12-15T11:45:59.043Z"
   },
   {
    "duration": 33,
    "start_time": "2024-12-15T11:45:59.718Z"
   },
   {
    "duration": 7,
    "start_time": "2024-12-15T11:46:00.569Z"
   },
   {
    "duration": 3,
    "start_time": "2024-12-15T11:46:01.467Z"
   },
   {
    "duration": 5,
    "start_time": "2024-12-15T11:46:02.575Z"
   },
   {
    "duration": 22,
    "start_time": "2024-12-15T11:46:03.629Z"
   },
   {
    "duration": 1368,
    "start_time": "2024-12-15T11:46:04.850Z"
   },
   {
    "duration": 16,
    "start_time": "2024-12-15T11:46:18.856Z"
   },
   {
    "duration": 15,
    "start_time": "2024-12-15T11:46:26.266Z"
   },
   {
    "duration": 12,
    "start_time": "2024-12-15T11:46:27.230Z"
   },
   {
    "duration": 50,
    "start_time": "2024-12-15T11:53:05.457Z"
   },
   {
    "duration": 76,
    "start_time": "2024-12-15T11:54:11.273Z"
   },
   {
    "duration": 85,
    "start_time": "2024-12-15T11:56:42.447Z"
   },
   {
    "duration": 394,
    "start_time": "2024-12-15T11:56:49.720Z"
   },
   {
    "duration": 134,
    "start_time": "2024-12-15T11:56:54.606Z"
   },
   {
    "duration": 28,
    "start_time": "2024-12-15T11:56:54.742Z"
   },
   {
    "duration": 5,
    "start_time": "2024-12-15T11:56:54.917Z"
   },
   {
    "duration": 15,
    "start_time": "2024-12-15T11:56:55.214Z"
   },
   {
    "duration": 34,
    "start_time": "2024-12-15T11:56:55.360Z"
   },
   {
    "duration": 6,
    "start_time": "2024-12-15T11:56:55.523Z"
   },
   {
    "duration": 4,
    "start_time": "2024-12-15T11:56:56.357Z"
   },
   {
    "duration": 5,
    "start_time": "2024-12-15T11:56:56.559Z"
   },
   {
    "duration": 22,
    "start_time": "2024-12-15T11:56:56.708Z"
   },
   {
    "duration": 16,
    "start_time": "2024-12-15T11:56:56.904Z"
   },
   {
    "duration": 9,
    "start_time": "2024-12-15T11:56:57.107Z"
   },
   {
    "duration": 11,
    "start_time": "2024-12-15T11:56:57.284Z"
   },
   {
    "duration": 209,
    "start_time": "2024-12-15T11:56:58.974Z"
   },
   {
    "duration": 186,
    "start_time": "2024-12-15T11:58:21.441Z"
   },
   {
    "duration": 4,
    "start_time": "2024-12-15T12:00:12.871Z"
   },
   {
    "duration": 4,
    "start_time": "2024-12-15T12:00:18.121Z"
   },
   {
    "duration": 13,
    "start_time": "2024-12-15T12:00:30.018Z"
   },
   {
    "duration": 4,
    "start_time": "2024-12-15T12:01:14.153Z"
   },
   {
    "duration": 3,
    "start_time": "2024-12-15T12:02:12.309Z"
   },
   {
    "duration": 112,
    "start_time": "2024-12-15T12:05:04.205Z"
   },
   {
    "duration": 195,
    "start_time": "2024-12-15T12:08:57.459Z"
   },
   {
    "duration": 250,
    "start_time": "2024-12-15T12:12:14.617Z"
   },
   {
    "duration": 201,
    "start_time": "2024-12-15T12:12:47.346Z"
   },
   {
    "duration": 193,
    "start_time": "2024-12-15T12:13:39.811Z"
   },
   {
    "duration": 3,
    "start_time": "2024-12-15T12:14:13.118Z"
   },
   {
    "duration": 3,
    "start_time": "2024-12-15T12:15:38.527Z"
   },
   {
    "duration": 26,
    "start_time": "2024-12-15T12:17:47.005Z"
   },
   {
    "duration": 157,
    "start_time": "2024-12-15T12:22:07.905Z"
   },
   {
    "duration": 40,
    "start_time": "2024-12-15T12:22:36.150Z"
   },
   {
    "duration": 70,
    "start_time": "2024-12-15T12:24:46.000Z"
   },
   {
    "duration": 8,
    "start_time": "2024-12-15T12:27:05.126Z"
   },
   {
    "duration": 7,
    "start_time": "2024-12-15T12:27:10.942Z"
   },
   {
    "duration": 62,
    "start_time": "2024-12-15T12:27:28.253Z"
   },
   {
    "duration": 7,
    "start_time": "2024-12-15T12:28:22.718Z"
   },
   {
    "duration": 6,
    "start_time": "2024-12-15T12:29:05.491Z"
   },
   {
    "duration": 693,
    "start_time": "2024-12-15T12:29:18.310Z"
   },
   {
    "duration": 134,
    "start_time": "2024-12-15T12:29:19.300Z"
   },
   {
    "duration": 29,
    "start_time": "2024-12-15T12:29:21.216Z"
   },
   {
    "duration": 5,
    "start_time": "2024-12-15T12:29:22.164Z"
   },
   {
    "duration": 14,
    "start_time": "2024-12-15T12:29:22.997Z"
   },
   {
    "duration": 35,
    "start_time": "2024-12-15T12:29:23.714Z"
   },
   {
    "duration": 6,
    "start_time": "2024-12-15T12:29:24.656Z"
   },
   {
    "duration": 4,
    "start_time": "2024-12-15T12:29:25.313Z"
   },
   {
    "duration": 6,
    "start_time": "2024-12-15T12:29:26.192Z"
   },
   {
    "duration": 24,
    "start_time": "2024-12-15T12:29:27.161Z"
   },
   {
    "duration": 16,
    "start_time": "2024-12-15T12:29:29.296Z"
   },
   {
    "duration": 12,
    "start_time": "2024-12-15T12:29:31.619Z"
   },
   {
    "duration": 11,
    "start_time": "2024-12-15T12:29:32.767Z"
   },
   {
    "duration": 206,
    "start_time": "2024-12-15T12:29:38.703Z"
   },
   {
    "duration": 201,
    "start_time": "2024-12-15T12:29:44.080Z"
   },
   {
    "duration": 27,
    "start_time": "2024-12-15T12:29:47.253Z"
   },
   {
    "duration": 46,
    "start_time": "2024-12-15T12:29:50.464Z"
   },
   {
    "duration": 17,
    "start_time": "2024-12-15T12:30:05.939Z"
   },
   {
    "duration": 4,
    "start_time": "2024-12-15T12:31:08.649Z"
   },
   {
    "duration": 60,
    "start_time": "2024-12-15T12:32:04.544Z"
   },
   {
    "duration": 47,
    "start_time": "2024-12-15T12:32:19.483Z"
   },
   {
    "duration": 803,
    "start_time": "2024-12-15T12:41:16.342Z"
   },
   {
    "duration": 51,
    "start_time": "2024-12-15T12:41:29.671Z"
   },
   {
    "duration": 6,
    "start_time": "2024-12-15T12:43:47.363Z"
   },
   {
    "duration": 50,
    "start_time": "2024-12-15T17:31:51.872Z"
   },
   {
    "duration": 7,
    "start_time": "2024-12-15T17:32:12.498Z"
   },
   {
    "duration": 8,
    "start_time": "2024-12-15T17:32:58.830Z"
   },
   {
    "duration": 10,
    "start_time": "2024-12-15T17:33:09.738Z"
   },
   {
    "duration": 1530,
    "start_time": "2024-12-15T17:33:12.858Z"
   },
   {
    "duration": 315,
    "start_time": "2024-12-15T17:33:14.621Z"
   },
   {
    "duration": 29,
    "start_time": "2024-12-15T17:33:17.134Z"
   },
   {
    "duration": 5,
    "start_time": "2024-12-15T17:33:18.068Z"
   },
   {
    "duration": 16,
    "start_time": "2024-12-15T17:33:18.529Z"
   },
   {
    "duration": 38,
    "start_time": "2024-12-15T17:33:18.992Z"
   },
   {
    "duration": 7,
    "start_time": "2024-12-15T17:33:19.379Z"
   },
   {
    "duration": 3,
    "start_time": "2024-12-15T17:33:19.791Z"
   },
   {
    "duration": 6,
    "start_time": "2024-12-15T17:33:20.244Z"
   },
   {
    "duration": 22,
    "start_time": "2024-12-15T17:33:20.683Z"
   },
   {
    "duration": 27,
    "start_time": "2024-12-15T17:33:21.119Z"
   },
   {
    "duration": 15,
    "start_time": "2024-12-15T17:33:21.525Z"
   },
   {
    "duration": 11,
    "start_time": "2024-12-15T17:33:21.983Z"
   },
   {
    "duration": 206,
    "start_time": "2024-12-15T17:35:56.591Z"
   },
   {
    "duration": 191,
    "start_time": "2024-12-15T17:35:59.438Z"
   },
   {
    "duration": 32,
    "start_time": "2024-12-15T17:36:03.423Z"
   },
   {
    "duration": 84,
    "start_time": "2024-12-15T17:36:11.738Z"
   },
   {
    "duration": 13,
    "start_time": "2024-12-15T17:36:13.306Z"
   },
   {
    "duration": 26,
    "start_time": "2024-12-15T17:36:14.448Z"
   },
   {
    "duration": 11,
    "start_time": "2024-12-15T17:36:32.740Z"
   },
   {
    "duration": 23,
    "start_time": "2024-12-15T17:37:25.450Z"
   },
   {
    "duration": 180,
    "start_time": "2024-12-15T17:38:06.760Z"
   },
   {
    "duration": 1347,
    "start_time": "2024-12-15T17:38:25.885Z"
   },
   {
    "duration": 138,
    "start_time": "2024-12-15T17:38:27.235Z"
   },
   {
    "duration": 27,
    "start_time": "2024-12-15T17:38:27.374Z"
   },
   {
    "duration": 5,
    "start_time": "2024-12-15T17:38:27.402Z"
   },
   {
    "duration": 19,
    "start_time": "2024-12-15T17:38:27.427Z"
   },
   {
    "duration": 34,
    "start_time": "2024-12-15T17:38:27.447Z"
   },
   {
    "duration": 6,
    "start_time": "2024-12-15T17:38:27.483Z"
   },
   {
    "duration": 5,
    "start_time": "2024-12-15T17:38:27.491Z"
   },
   {
    "duration": 6,
    "start_time": "2024-12-15T17:38:27.521Z"
   },
   {
    "duration": 30,
    "start_time": "2024-12-15T17:38:27.529Z"
   },
   {
    "duration": 16,
    "start_time": "2024-12-15T17:38:27.561Z"
   },
   {
    "duration": 12,
    "start_time": "2024-12-15T17:38:27.579Z"
   },
   {
    "duration": 39,
    "start_time": "2024-12-15T17:38:27.592Z"
   },
   {
    "duration": 210,
    "start_time": "2024-12-15T17:38:27.634Z"
   },
   {
    "duration": 234,
    "start_time": "2024-12-15T17:38:27.846Z"
   },
   {
    "duration": 25,
    "start_time": "2024-12-15T17:38:28.081Z"
   },
   {
    "duration": 152,
    "start_time": "2024-12-15T17:38:28.107Z"
   },
   {
    "duration": 0,
    "start_time": "2024-12-15T17:38:28.260Z"
   },
   {
    "duration": 0,
    "start_time": "2024-12-15T17:38:28.262Z"
   },
   {
    "duration": 0,
    "start_time": "2024-12-15T17:38:28.264Z"
   },
   {
    "duration": 71,
    "start_time": "2024-12-15T17:39:19.634Z"
   },
   {
    "duration": 15,
    "start_time": "2024-12-15T17:39:26.476Z"
   },
   {
    "duration": 14,
    "start_time": "2024-12-15T17:39:33.139Z"
   },
   {
    "duration": 30,
    "start_time": "2024-12-15T17:39:33.641Z"
   },
   {
    "duration": 12,
    "start_time": "2024-12-15T17:39:34.258Z"
   },
   {
    "duration": 3,
    "start_time": "2024-12-15T17:40:46.190Z"
   },
   {
    "duration": 1744,
    "start_time": "2024-12-15T17:40:50.903Z"
   },
   {
    "duration": 135,
    "start_time": "2024-12-15T17:40:52.649Z"
   },
   {
    "duration": 39,
    "start_time": "2024-12-15T17:40:52.786Z"
   },
   {
    "duration": 13,
    "start_time": "2024-12-15T17:40:52.829Z"
   },
   {
    "duration": 14,
    "start_time": "2024-12-15T17:40:52.853Z"
   },
   {
    "duration": 31,
    "start_time": "2024-12-15T17:40:52.869Z"
   },
   {
    "duration": 7,
    "start_time": "2024-12-15T17:40:52.902Z"
   },
   {
    "duration": 23,
    "start_time": "2024-12-15T17:40:52.910Z"
   },
   {
    "duration": 31,
    "start_time": "2024-12-15T17:40:52.935Z"
   },
   {
    "duration": 65,
    "start_time": "2024-12-15T17:40:52.967Z"
   },
   {
    "duration": 38,
    "start_time": "2024-12-15T17:40:53.041Z"
   },
   {
    "duration": 37,
    "start_time": "2024-12-15T17:40:53.081Z"
   },
   {
    "duration": 39,
    "start_time": "2024-12-15T17:40:53.119Z"
   },
   {
    "duration": 246,
    "start_time": "2024-12-15T17:40:53.161Z"
   },
   {
    "duration": 235,
    "start_time": "2024-12-15T17:40:53.409Z"
   },
   {
    "duration": 43,
    "start_time": "2024-12-15T17:40:53.645Z"
   },
   {
    "duration": 72,
    "start_time": "2024-12-15T17:40:53.689Z"
   },
   {
    "duration": 131,
    "start_time": "2024-12-15T17:40:53.763Z"
   },
   {
    "duration": 0,
    "start_time": "2024-12-15T17:40:53.896Z"
   },
   {
    "duration": 0,
    "start_time": "2024-12-15T17:40:53.897Z"
   },
   {
    "duration": 80,
    "start_time": "2024-12-15T17:41:35.384Z"
   },
   {
    "duration": 69,
    "start_time": "2024-12-15T17:41:39.304Z"
   },
   {
    "duration": 6,
    "start_time": "2024-12-15T17:42:22.969Z"
   },
   {
    "duration": 34,
    "start_time": "2024-12-15T17:42:44.141Z"
   },
   {
    "duration": 37,
    "start_time": "2024-12-15T17:43:13.249Z"
   },
   {
    "duration": 553,
    "start_time": "2024-12-15T17:49:07.148Z"
   },
   {
    "duration": 20,
    "start_time": "2024-12-15T17:51:41.440Z"
   },
   {
    "duration": 80,
    "start_time": "2024-12-15T17:52:26.364Z"
   },
   {
    "duration": 20,
    "start_time": "2024-12-15T17:52:49.045Z"
   },
   {
    "duration": 1449,
    "start_time": "2024-12-15T17:52:56.504Z"
   },
   {
    "duration": 154,
    "start_time": "2024-12-15T17:52:57.956Z"
   },
   {
    "duration": 53,
    "start_time": "2024-12-15T17:52:58.112Z"
   },
   {
    "duration": 39,
    "start_time": "2024-12-15T17:52:58.167Z"
   },
   {
    "duration": 37,
    "start_time": "2024-12-15T17:52:58.208Z"
   },
   {
    "duration": 47,
    "start_time": "2024-12-15T17:52:58.254Z"
   },
   {
    "duration": 44,
    "start_time": "2024-12-15T17:52:58.303Z"
   },
   {
    "duration": 10,
    "start_time": "2024-12-15T17:52:58.350Z"
   },
   {
    "duration": 6,
    "start_time": "2024-12-15T17:52:58.362Z"
   },
   {
    "duration": 27,
    "start_time": "2024-12-15T17:52:58.370Z"
   },
   {
    "duration": 17,
    "start_time": "2024-12-15T17:52:58.399Z"
   },
   {
    "duration": 42,
    "start_time": "2024-12-15T17:52:58.417Z"
   },
   {
    "duration": 25,
    "start_time": "2024-12-15T17:52:58.461Z"
   },
   {
    "duration": 244,
    "start_time": "2024-12-15T17:52:58.488Z"
   },
   {
    "duration": 238,
    "start_time": "2024-12-15T17:52:58.736Z"
   },
   {
    "duration": 26,
    "start_time": "2024-12-15T17:52:58.975Z"
   },
   {
    "duration": 72,
    "start_time": "2024-12-15T17:52:59.003Z"
   },
   {
    "duration": 79,
    "start_time": "2024-12-15T17:52:59.077Z"
   },
   {
    "duration": 6,
    "start_time": "2024-12-15T17:52:59.159Z"
   },
   {
    "duration": 29,
    "start_time": "2024-12-15T17:52:59.166Z"
   },
   {
    "duration": 74,
    "start_time": "2024-12-15T17:52:59.196Z"
   },
   {
    "duration": 639,
    "start_time": "2024-12-15T17:52:59.271Z"
   },
   {
    "duration": 148,
    "start_time": "2024-12-15T17:52:59.912Z"
   },
   {
    "duration": 16,
    "start_time": "2024-12-15T17:53:33.510Z"
   },
   {
    "duration": 37,
    "start_time": "2024-12-15T17:54:25.879Z"
   },
   {
    "duration": 11,
    "start_time": "2024-12-15T17:57:43.393Z"
   },
   {
    "duration": 1539,
    "start_time": "2024-12-15T17:58:40.612Z"
   },
   {
    "duration": 2507,
    "start_time": "2024-12-15T17:59:03.404Z"
   },
   {
    "duration": 5,
    "start_time": "2024-12-15T18:02:51.313Z"
   },
   {
    "duration": 11,
    "start_time": "2024-12-15T18:03:40.427Z"
   },
   {
    "duration": 9,
    "start_time": "2024-12-15T18:04:52.168Z"
   },
   {
    "duration": 17,
    "start_time": "2024-12-15T18:06:43.703Z"
   },
   {
    "duration": 1397,
    "start_time": "2024-12-15T18:06:54.921Z"
   },
   {
    "duration": 140,
    "start_time": "2024-12-15T18:06:56.320Z"
   },
   {
    "duration": 24,
    "start_time": "2024-12-15T18:06:56.462Z"
   },
   {
    "duration": 9,
    "start_time": "2024-12-15T18:06:56.488Z"
   },
   {
    "duration": 27,
    "start_time": "2024-12-15T18:06:56.498Z"
   },
   {
    "duration": 51,
    "start_time": "2024-12-15T18:06:56.526Z"
   },
   {
    "duration": 5,
    "start_time": "2024-12-15T18:06:56.579Z"
   },
   {
    "duration": 6,
    "start_time": "2024-12-15T18:06:56.586Z"
   },
   {
    "duration": 6,
    "start_time": "2024-12-15T18:06:56.593Z"
   },
   {
    "duration": 23,
    "start_time": "2024-12-15T18:06:56.601Z"
   },
   {
    "duration": 15,
    "start_time": "2024-12-15T18:06:56.626Z"
   },
   {
    "duration": 19,
    "start_time": "2024-12-15T18:06:56.643Z"
   },
   {
    "duration": 10,
    "start_time": "2024-12-15T18:06:56.664Z"
   },
   {
    "duration": 231,
    "start_time": "2024-12-15T18:06:56.675Z"
   },
   {
    "duration": 211,
    "start_time": "2024-12-15T18:06:56.908Z"
   },
   {
    "duration": 37,
    "start_time": "2024-12-15T18:06:57.120Z"
   },
   {
    "duration": 64,
    "start_time": "2024-12-15T18:06:57.158Z"
   },
   {
    "duration": 70,
    "start_time": "2024-12-15T18:06:57.223Z"
   },
   {
    "duration": 6,
    "start_time": "2024-12-15T18:06:57.294Z"
   },
   {
    "duration": 63,
    "start_time": "2024-12-15T18:06:57.302Z"
   },
   {
    "duration": 31,
    "start_time": "2024-12-15T18:06:57.369Z"
   },
   {
    "duration": 629,
    "start_time": "2024-12-15T18:06:57.401Z"
   },
   {
    "duration": 139,
    "start_time": "2024-12-15T18:06:58.032Z"
   },
   {
    "duration": 4,
    "start_time": "2024-12-15T18:07:35.660Z"
   },
   {
    "duration": 1400,
    "start_time": "2024-12-15T18:13:34.400Z"
   },
   {
    "duration": 3,
    "start_time": "2024-12-15T18:14:22.686Z"
   },
   {
    "duration": 94,
    "start_time": "2024-12-15T18:15:14.295Z"
   },
   {
    "duration": 5,
    "start_time": "2024-12-15T18:15:57.610Z"
   },
   {
    "duration": 1353,
    "start_time": "2024-12-15T18:17:13.078Z"
   },
   {
    "duration": 5,
    "start_time": "2024-12-15T18:19:59.639Z"
   },
   {
    "duration": 10,
    "start_time": "2024-12-15T18:20:17.579Z"
   },
   {
    "duration": 3,
    "start_time": "2024-12-15T18:20:42.842Z"
   },
   {
    "duration": 6,
    "start_time": "2024-12-15T18:20:48.059Z"
   },
   {
    "duration": 112,
    "start_time": "2024-12-15T18:22:22.199Z"
   },
   {
    "duration": 6,
    "start_time": "2024-12-15T18:22:26.222Z"
   },
   {
    "duration": 6,
    "start_time": "2024-12-15T18:25:13.849Z"
   },
   {
    "duration": 274,
    "start_time": "2024-12-15T18:39:03.361Z"
   },
   {
    "duration": 291,
    "start_time": "2024-12-15T18:40:22.930Z"
   },
   {
    "duration": 53,
    "start_time": "2024-12-15T18:41:41.741Z"
   },
   {
    "duration": 129,
    "start_time": "2024-12-15T18:42:03.964Z"
   },
   {
    "duration": 457,
    "start_time": "2024-12-15T18:42:23.771Z"
   },
   {
    "duration": 415,
    "start_time": "2024-12-15T18:43:02.819Z"
   },
   {
    "duration": 1285,
    "start_time": "2024-12-15T18:43:48.597Z"
   },
   {
    "duration": 125,
    "start_time": "2024-12-15T18:44:59.711Z"
   },
   {
    "duration": 27,
    "start_time": "2024-12-15T18:45:44.595Z"
   },
   {
    "duration": 79,
    "start_time": "2024-12-15T18:47:25.365Z"
   },
   {
    "duration": 1214,
    "start_time": "2024-12-15T18:49:26.245Z"
   },
   {
    "duration": 1523,
    "start_time": "2024-12-15T18:51:06.265Z"
   },
   {
    "duration": 1581,
    "start_time": "2024-12-15T18:51:54.145Z"
   },
   {
    "duration": 5,
    "start_time": "2024-12-15T18:52:33.740Z"
   },
   {
    "duration": 25,
    "start_time": "2024-12-15T18:53:06.409Z"
   },
   {
    "duration": 48,
    "start_time": "2024-12-15T18:54:36.751Z"
   },
   {
    "duration": 382,
    "start_time": "2024-12-15T18:54:46.378Z"
   },
   {
    "duration": 369,
    "start_time": "2024-12-15T18:55:28.575Z"
   },
   {
    "duration": 498,
    "start_time": "2024-12-15T18:56:43.608Z"
   },
   {
    "duration": 1382,
    "start_time": "2024-12-15T18:59:27.557Z"
   },
   {
    "duration": 7,
    "start_time": "2024-12-15T19:00:15.953Z"
   },
   {
    "duration": 631,
    "start_time": "2024-12-15T19:01:17.704Z"
   },
   {
    "duration": 536,
    "start_time": "2024-12-15T19:02:42.202Z"
   },
   {
    "duration": 53,
    "start_time": "2024-12-15T19:03:53.561Z"
   },
   {
    "duration": 437,
    "start_time": "2024-12-15T19:04:28.142Z"
   },
   {
    "duration": 101,
    "start_time": "2024-12-15T19:05:40.053Z"
   },
   {
    "duration": 151,
    "start_time": "2024-12-15T19:07:19.790Z"
   },
   {
    "duration": 5,
    "start_time": "2024-12-15T19:08:39.182Z"
   },
   {
    "duration": 5,
    "start_time": "2024-12-15T19:08:47.580Z"
   },
   {
    "duration": 1546,
    "start_time": "2024-12-15T19:08:56.608Z"
   },
   {
    "duration": 164,
    "start_time": "2024-12-15T19:08:58.155Z"
   },
   {
    "duration": 44,
    "start_time": "2024-12-15T19:08:58.327Z"
   },
   {
    "duration": 5,
    "start_time": "2024-12-15T19:08:58.373Z"
   },
   {
    "duration": 21,
    "start_time": "2024-12-15T19:08:58.380Z"
   },
   {
    "duration": 63,
    "start_time": "2024-12-15T19:08:58.403Z"
   },
   {
    "duration": 7,
    "start_time": "2024-12-15T19:08:58.468Z"
   },
   {
    "duration": 3,
    "start_time": "2024-12-15T19:08:58.477Z"
   },
   {
    "duration": 19,
    "start_time": "2024-12-15T19:08:58.482Z"
   },
   {
    "duration": 44,
    "start_time": "2024-12-15T19:08:58.502Z"
   },
   {
    "duration": 40,
    "start_time": "2024-12-15T19:08:58.551Z"
   },
   {
    "duration": 41,
    "start_time": "2024-12-15T19:08:58.592Z"
   },
   {
    "duration": 22,
    "start_time": "2024-12-15T19:08:58.636Z"
   },
   {
    "duration": 321,
    "start_time": "2024-12-15T19:08:58.660Z"
   },
   {
    "duration": 214,
    "start_time": "2024-12-15T19:08:58.982Z"
   },
   {
    "duration": 200,
    "start_time": "2024-12-15T19:08:59.198Z"
   },
   {
    "duration": 1307,
    "start_time": "2024-12-15T19:08:59.399Z"
   },
   {
    "duration": 35,
    "start_time": "2024-12-15T19:09:00.708Z"
   },
   {
    "duration": 429,
    "start_time": "2024-12-15T19:09:00.744Z"
   },
   {
    "duration": 87,
    "start_time": "2024-12-15T19:09:01.175Z"
   },
   {
    "duration": 7,
    "start_time": "2024-12-15T19:09:01.263Z"
   },
   {
    "duration": 39,
    "start_time": "2024-12-15T19:09:01.272Z"
   },
   {
    "duration": 60,
    "start_time": "2024-12-15T19:09:01.313Z"
   },
   {
    "duration": 499,
    "start_time": "2024-12-15T19:09:01.375Z"
   },
   {
    "duration": 6,
    "start_time": "2024-12-15T19:09:01.876Z"
   },
   {
    "duration": 181,
    "start_time": "2024-12-15T19:09:01.883Z"
   },
   {
    "duration": 5,
    "start_time": "2024-12-15T19:09:02.066Z"
   },
   {
    "duration": 0,
    "start_time": "2024-12-15T19:09:02.073Z"
   },
   {
    "duration": 15,
    "start_time": "2024-12-15T19:11:31.721Z"
   },
   {
    "duration": 161,
    "start_time": "2024-12-15T19:11:37.415Z"
   },
   {
    "duration": 144,
    "start_time": "2024-12-15T19:13:53.897Z"
   },
   {
    "duration": 273,
    "start_time": "2024-12-15T19:14:40.880Z"
   },
   {
    "duration": 230,
    "start_time": "2024-12-15T19:15:12.413Z"
   },
   {
    "duration": 134,
    "start_time": "2024-12-15T19:16:08.868Z"
   },
   {
    "duration": 397,
    "start_time": "2024-12-15T19:16:44.483Z"
   },
   {
    "duration": 381,
    "start_time": "2024-12-15T19:17:16.766Z"
   },
   {
    "duration": 260,
    "start_time": "2024-12-15T19:19:40.036Z"
   },
   {
    "duration": 134,
    "start_time": "2024-12-15T19:23:04.148Z"
   },
   {
    "duration": 1400,
    "start_time": "2024-12-15T19:24:10.618Z"
   },
   {
    "duration": 1553,
    "start_time": "2024-12-15T19:24:25.409Z"
   },
   {
    "duration": 141,
    "start_time": "2024-12-15T19:24:26.963Z"
   },
   {
    "duration": 34,
    "start_time": "2024-12-15T19:24:27.106Z"
   },
   {
    "duration": 20,
    "start_time": "2024-12-15T19:24:27.144Z"
   },
   {
    "duration": 13,
    "start_time": "2024-12-15T19:24:27.166Z"
   },
   {
    "duration": 34,
    "start_time": "2024-12-15T19:24:27.181Z"
   },
   {
    "duration": 14,
    "start_time": "2024-12-15T19:24:27.225Z"
   },
   {
    "duration": 6,
    "start_time": "2024-12-15T19:24:27.240Z"
   },
   {
    "duration": 11,
    "start_time": "2024-12-15T19:24:27.247Z"
   },
   {
    "duration": 24,
    "start_time": "2024-12-15T19:24:27.259Z"
   },
   {
    "duration": 14,
    "start_time": "2024-12-15T19:24:27.285Z"
   },
   {
    "duration": 23,
    "start_time": "2024-12-15T19:24:27.300Z"
   },
   {
    "duration": 14,
    "start_time": "2024-12-15T19:24:27.326Z"
   },
   {
    "duration": 332,
    "start_time": "2024-12-15T19:24:27.345Z"
   },
   {
    "duration": 221,
    "start_time": "2024-12-15T19:24:27.679Z"
   },
   {
    "duration": 204,
    "start_time": "2024-12-15T19:24:27.902Z"
   },
   {
    "duration": 1291,
    "start_time": "2024-12-15T19:24:28.107Z"
   },
   {
    "duration": 32,
    "start_time": "2024-12-15T19:24:29.399Z"
   },
   {
    "duration": 231,
    "start_time": "2024-12-15T19:24:29.434Z"
   },
   {
    "duration": 418,
    "start_time": "2024-12-15T19:24:29.666Z"
   },
   {
    "duration": 83,
    "start_time": "2024-12-15T19:24:30.086Z"
   },
   {
    "duration": 7,
    "start_time": "2024-12-15T19:24:30.170Z"
   },
   {
    "duration": 33,
    "start_time": "2024-12-15T19:24:30.178Z"
   },
   {
    "duration": 62,
    "start_time": "2024-12-15T19:24:30.213Z"
   },
   {
    "duration": 500,
    "start_time": "2024-12-15T19:24:30.277Z"
   },
   {
    "duration": 402,
    "start_time": "2024-12-15T19:24:30.778Z"
   },
   {
    "duration": 4,
    "start_time": "2024-12-15T19:24:31.182Z"
   },
   {
    "duration": 11,
    "start_time": "2024-12-15T19:24:31.188Z"
   },
   {
    "duration": 441,
    "start_time": "2024-12-15T19:26:08.087Z"
   },
   {
    "duration": 305,
    "start_time": "2024-12-15T19:26:43.753Z"
   },
   {
    "duration": 285,
    "start_time": "2024-12-15T19:27:07.419Z"
   },
   {
    "duration": 246,
    "start_time": "2024-12-15T19:28:18.411Z"
   },
   {
    "duration": 236,
    "start_time": "2024-12-15T19:28:55.324Z"
   },
   {
    "duration": 243,
    "start_time": "2024-12-15T19:29:20.482Z"
   },
   {
    "duration": 279,
    "start_time": "2024-12-15T19:30:23.764Z"
   },
   {
    "duration": 276,
    "start_time": "2024-12-15T19:30:40.954Z"
   },
   {
    "duration": 1400,
    "start_time": "2024-12-15T19:31:57.480Z"
   },
   {
    "duration": 134,
    "start_time": "2024-12-15T19:31:58.882Z"
   },
   {
    "duration": 31,
    "start_time": "2024-12-15T19:31:59.017Z"
   },
   {
    "duration": 32,
    "start_time": "2024-12-15T19:31:59.051Z"
   },
   {
    "duration": 21,
    "start_time": "2024-12-15T19:31:59.085Z"
   },
   {
    "duration": 46,
    "start_time": "2024-12-15T19:31:59.108Z"
   },
   {
    "duration": 5,
    "start_time": "2024-12-15T19:31:59.156Z"
   },
   {
    "duration": 5,
    "start_time": "2024-12-15T19:31:59.163Z"
   },
   {
    "duration": 17,
    "start_time": "2024-12-15T19:31:59.169Z"
   },
   {
    "duration": 29,
    "start_time": "2024-12-15T19:31:59.188Z"
   },
   {
    "duration": 24,
    "start_time": "2024-12-15T19:31:59.224Z"
   },
   {
    "duration": 10,
    "start_time": "2024-12-15T19:31:59.250Z"
   },
   {
    "duration": 9,
    "start_time": "2024-12-15T19:31:59.262Z"
   },
   {
    "duration": 332,
    "start_time": "2024-12-15T19:31:59.273Z"
   },
   {
    "duration": 289,
    "start_time": "2024-12-15T19:31:59.606Z"
   },
   {
    "duration": 190,
    "start_time": "2024-12-15T19:31:59.897Z"
   },
   {
    "duration": 1218,
    "start_time": "2024-12-15T19:32:00.088Z"
   },
   {
    "duration": 33,
    "start_time": "2024-12-15T19:32:01.308Z"
   },
   {
    "duration": 198,
    "start_time": "2024-12-15T19:32:01.342Z"
   },
   {
    "duration": 402,
    "start_time": "2024-12-15T19:32:01.542Z"
   },
   {
    "duration": 62,
    "start_time": "2024-12-15T19:32:01.945Z"
   },
   {
    "duration": 26,
    "start_time": "2024-12-15T19:32:02.009Z"
   },
   {
    "duration": 33,
    "start_time": "2024-12-15T19:32:02.037Z"
   },
   {
    "duration": 44,
    "start_time": "2024-12-15T19:32:02.071Z"
   },
   {
    "duration": 547,
    "start_time": "2024-12-15T19:32:02.116Z"
   },
   {
    "duration": 390,
    "start_time": "2024-12-15T19:32:02.665Z"
   },
   {
    "duration": 5,
    "start_time": "2024-12-15T19:32:03.056Z"
   },
   {
    "duration": 41,
    "start_time": "2024-12-15T19:32:03.064Z"
   },
   {
    "duration": 94,
    "start_time": "2024-12-15T19:32:35.479Z"
   },
   {
    "duration": 582,
    "start_time": "2024-12-15T19:32:55.643Z"
   },
   {
    "duration": 3,
    "start_time": "2024-12-15T19:33:45.883Z"
   },
   {
    "duration": 263,
    "start_time": "2024-12-15T19:36:00.655Z"
   },
   {
    "duration": 1600,
    "start_time": "2024-12-15T19:38:18.063Z"
   },
   {
    "duration": 142,
    "start_time": "2024-12-15T19:38:19.665Z"
   },
   {
    "duration": 51,
    "start_time": "2024-12-15T19:38:19.809Z"
   },
   {
    "duration": 5,
    "start_time": "2024-12-15T19:38:19.862Z"
   },
   {
    "duration": 13,
    "start_time": "2024-12-15T19:38:19.868Z"
   },
   {
    "duration": 47,
    "start_time": "2024-12-15T19:38:19.883Z"
   },
   {
    "duration": 7,
    "start_time": "2024-12-15T19:38:19.932Z"
   },
   {
    "duration": 52,
    "start_time": "2024-12-15T19:38:19.943Z"
   },
   {
    "duration": 22,
    "start_time": "2024-12-15T19:38:19.997Z"
   },
   {
    "duration": 63,
    "start_time": "2024-12-15T19:38:20.021Z"
   },
   {
    "duration": 22,
    "start_time": "2024-12-15T19:38:20.086Z"
   },
   {
    "duration": 15,
    "start_time": "2024-12-15T19:38:20.110Z"
   },
   {
    "duration": 26,
    "start_time": "2024-12-15T19:38:20.126Z"
   },
   {
    "duration": 345,
    "start_time": "2024-12-15T19:38:20.155Z"
   },
   {
    "duration": 284,
    "start_time": "2024-12-15T19:38:20.502Z"
   },
   {
    "duration": 217,
    "start_time": "2024-12-15T19:38:20.787Z"
   },
   {
    "duration": 1281,
    "start_time": "2024-12-15T19:38:21.005Z"
   },
   {
    "duration": 25,
    "start_time": "2024-12-15T19:38:22.287Z"
   },
   {
    "duration": 249,
    "start_time": "2024-12-15T19:38:22.313Z"
   },
   {
    "duration": 431,
    "start_time": "2024-12-15T19:38:22.564Z"
   },
   {
    "duration": 84,
    "start_time": "2024-12-15T19:38:22.996Z"
   },
   {
    "duration": 6,
    "start_time": "2024-12-15T19:38:23.082Z"
   },
   {
    "duration": 40,
    "start_time": "2024-12-15T19:38:23.089Z"
   },
   {
    "duration": 43,
    "start_time": "2024-12-15T19:38:23.133Z"
   },
   {
    "duration": 534,
    "start_time": "2024-12-15T19:38:23.178Z"
   },
   {
    "duration": 392,
    "start_time": "2024-12-15T19:38:23.725Z"
   },
   {
    "duration": 12,
    "start_time": "2024-12-15T19:38:24.122Z"
   },
   {
    "duration": 14,
    "start_time": "2024-12-15T19:38:24.140Z"
   },
   {
    "duration": 5296,
    "start_time": "2024-12-15T21:16:20.157Z"
   },
   {
    "duration": 466,
    "start_time": "2024-12-15T21:16:25.455Z"
   },
   {
    "duration": 23,
    "start_time": "2024-12-15T21:16:25.923Z"
   },
   {
    "duration": 5,
    "start_time": "2024-12-15T21:16:25.948Z"
   },
   {
    "duration": 11,
    "start_time": "2024-12-15T21:16:25.956Z"
   },
   {
    "duration": 46,
    "start_time": "2024-12-15T21:16:25.969Z"
   },
   {
    "duration": 6,
    "start_time": "2024-12-15T21:16:26.017Z"
   },
   {
    "duration": 17,
    "start_time": "2024-12-15T21:16:26.025Z"
   },
   {
    "duration": 6,
    "start_time": "2024-12-15T21:16:26.043Z"
   },
   {
    "duration": 36,
    "start_time": "2024-12-15T21:16:26.051Z"
   },
   {
    "duration": 14,
    "start_time": "2024-12-15T21:16:26.088Z"
   },
   {
    "duration": 11,
    "start_time": "2024-12-15T21:16:26.103Z"
   },
   {
    "duration": 11,
    "start_time": "2024-12-15T21:16:26.116Z"
   },
   {
    "duration": 297,
    "start_time": "2024-12-15T21:16:26.129Z"
   },
   {
    "duration": 229,
    "start_time": "2024-12-15T21:16:26.427Z"
   },
   {
    "duration": 166,
    "start_time": "2024-12-15T21:16:26.658Z"
   },
   {
    "duration": 1118,
    "start_time": "2024-12-15T21:16:26.825Z"
   },
   {
    "duration": 23,
    "start_time": "2024-12-15T21:16:27.945Z"
   },
   {
    "duration": 164,
    "start_time": "2024-12-15T21:16:27.970Z"
   },
   {
    "duration": 377,
    "start_time": "2024-12-15T21:16:28.135Z"
   },
   {
    "duration": 57,
    "start_time": "2024-12-15T21:16:28.513Z"
   },
   {
    "duration": 17,
    "start_time": "2024-12-15T21:16:28.572Z"
   },
   {
    "duration": 24,
    "start_time": "2024-12-15T21:16:28.591Z"
   },
   {
    "duration": 34,
    "start_time": "2024-12-15T21:16:28.616Z"
   },
   {
    "duration": 456,
    "start_time": "2024-12-15T21:16:28.651Z"
   },
   {
    "duration": 323,
    "start_time": "2024-12-15T21:16:29.109Z"
   },
   {
    "duration": 7,
    "start_time": "2024-12-15T21:16:29.434Z"
   },
   {
    "duration": 25,
    "start_time": "2024-12-15T21:16:29.443Z"
   },
   {
    "duration": 11,
    "start_time": "2024-12-15T21:21:36.855Z"
   },
   {
    "duration": 10,
    "start_time": "2024-12-15T21:22:57.842Z"
   },
   {
    "duration": 117,
    "start_time": "2024-12-15T21:23:14.666Z"
   },
   {
    "duration": 9,
    "start_time": "2024-12-15T21:23:17.476Z"
   },
   {
    "duration": 10,
    "start_time": "2024-12-15T21:23:19.941Z"
   },
   {
    "duration": 7,
    "start_time": "2024-12-15T21:23:23.718Z"
   },
   {
    "duration": 1304,
    "start_time": "2024-12-16T19:18:19.275Z"
   },
   {
    "duration": 119,
    "start_time": "2024-12-16T19:18:20.581Z"
   },
   {
    "duration": 24,
    "start_time": "2024-12-16T19:18:20.702Z"
   },
   {
    "duration": 105,
    "start_time": "2024-12-16T19:18:20.728Z"
   },
   {
    "duration": 24,
    "start_time": "2024-12-16T19:18:20.835Z"
   },
   {
    "duration": 54,
    "start_time": "2024-12-16T19:18:20.860Z"
   },
   {
    "duration": 10,
    "start_time": "2024-12-16T19:18:20.915Z"
   },
   {
    "duration": 3,
    "start_time": "2024-12-16T19:18:20.926Z"
   },
   {
    "duration": 9,
    "start_time": "2024-12-16T19:18:20.930Z"
   },
   {
    "duration": 25,
    "start_time": "2024-12-16T19:18:20.940Z"
   },
   {
    "duration": 23,
    "start_time": "2024-12-16T19:18:20.966Z"
   },
   {
    "duration": 32,
    "start_time": "2024-12-16T19:18:20.990Z"
   },
   {
    "duration": 24,
    "start_time": "2024-12-16T19:18:21.024Z"
   },
   {
    "duration": 28,
    "start_time": "2024-12-16T19:18:21.051Z"
   },
   {
    "duration": 392,
    "start_time": "2024-12-16T19:18:21.080Z"
   },
   {
    "duration": 725,
    "start_time": "2024-12-16T19:18:21.473Z"
   },
   {
    "duration": 29,
    "start_time": "2024-12-16T19:18:22.199Z"
   },
   {
    "duration": 430,
    "start_time": "2024-12-16T19:18:22.230Z"
   },
   {
    "duration": 126,
    "start_time": "2024-12-16T19:18:22.662Z"
   },
   {
    "duration": 1269,
    "start_time": "2024-12-16T19:18:22.789Z"
   },
   {
    "duration": 26,
    "start_time": "2024-12-16T19:18:24.060Z"
   },
   {
    "duration": 175,
    "start_time": "2024-12-16T19:18:24.088Z"
   },
   {
    "duration": 524,
    "start_time": "2024-12-16T19:18:24.264Z"
   },
   {
    "duration": 130,
    "start_time": "2024-12-16T19:18:24.790Z"
   },
   {
    "duration": 0,
    "start_time": "2024-12-16T19:18:24.921Z"
   },
   {
    "duration": 0,
    "start_time": "2024-12-16T19:18:24.922Z"
   },
   {
    "duration": 46,
    "start_time": "2024-12-16T19:20:56.658Z"
   },
   {
    "duration": 5,
    "start_time": "2024-12-16T19:21:07.062Z"
   },
   {
    "duration": 6,
    "start_time": "2024-12-16T19:21:51.115Z"
   },
   {
    "duration": 1173,
    "start_time": "2024-12-16T19:22:27.031Z"
   },
   {
    "duration": 125,
    "start_time": "2024-12-16T19:22:29.227Z"
   },
   {
    "duration": 26,
    "start_time": "2024-12-16T19:22:30.595Z"
   },
   {
    "duration": 6,
    "start_time": "2024-12-16T19:22:31.418Z"
   },
   {
    "duration": 14,
    "start_time": "2024-12-16T19:22:31.948Z"
   },
   {
    "duration": 46,
    "start_time": "2024-12-16T19:22:32.466Z"
   },
   {
    "duration": 14,
    "start_time": "2024-12-16T19:22:32.963Z"
   },
   {
    "duration": 4,
    "start_time": "2024-12-16T19:22:35.182Z"
   },
   {
    "duration": 7,
    "start_time": "2024-12-16T19:22:35.684Z"
   },
   {
    "duration": 22,
    "start_time": "2024-12-16T19:22:36.584Z"
   },
   {
    "duration": 16,
    "start_time": "2024-12-16T19:22:37.003Z"
   },
   {
    "duration": 9,
    "start_time": "2024-12-16T19:22:37.395Z"
   },
   {
    "duration": 10,
    "start_time": "2024-12-16T19:22:37.870Z"
   },
   {
    "duration": 25,
    "start_time": "2024-12-16T19:22:38.334Z"
   },
   {
    "duration": 408,
    "start_time": "2024-12-16T19:22:41.734Z"
   },
   {
    "duration": 811,
    "start_time": "2024-12-16T19:22:48.129Z"
   },
   {
    "duration": 24,
    "start_time": "2024-12-16T19:22:48.942Z"
   },
   {
    "duration": 548,
    "start_time": "2024-12-16T19:22:49.514Z"
   },
   {
    "duration": 116,
    "start_time": "2024-12-16T19:22:50.265Z"
   },
   {
    "duration": 1211,
    "start_time": "2024-12-16T19:22:50.971Z"
   },
   {
    "duration": 25,
    "start_time": "2024-12-16T19:23:01.018Z"
   },
   {
    "duration": 184,
    "start_time": "2024-12-16T19:23:01.971Z"
   },
   {
    "duration": 489,
    "start_time": "2024-12-16T19:23:06.838Z"
   },
   {
    "duration": 148,
    "start_time": "2024-12-16T19:23:22.130Z"
   },
   {
    "duration": 1476,
    "start_time": "2024-12-16T19:24:22.073Z"
   },
   {
    "duration": 25,
    "start_time": "2024-12-16T19:25:17.136Z"
   },
   {
    "duration": 4,
    "start_time": "2024-12-16T19:27:12.677Z"
   },
   {
    "duration": 1329,
    "start_time": "2024-12-16T19:27:57.505Z"
   },
   {
    "duration": 1175,
    "start_time": "2024-12-16T19:29:15.370Z"
   },
   {
    "duration": 124,
    "start_time": "2024-12-16T19:29:16.547Z"
   },
   {
    "duration": 26,
    "start_time": "2024-12-16T19:29:16.673Z"
   },
   {
    "duration": 21,
    "start_time": "2024-12-16T19:29:16.701Z"
   },
   {
    "duration": 22,
    "start_time": "2024-12-16T19:29:16.725Z"
   },
   {
    "duration": 47,
    "start_time": "2024-12-16T19:29:16.750Z"
   },
   {
    "duration": 30,
    "start_time": "2024-12-16T19:29:16.799Z"
   },
   {
    "duration": 4,
    "start_time": "2024-12-16T19:29:16.831Z"
   },
   {
    "duration": 10,
    "start_time": "2024-12-16T19:29:16.837Z"
   },
   {
    "duration": 24,
    "start_time": "2024-12-16T19:29:16.848Z"
   },
   {
    "duration": 52,
    "start_time": "2024-12-16T19:29:16.875Z"
   },
   {
    "duration": 9,
    "start_time": "2024-12-16T19:29:16.929Z"
   },
   {
    "duration": 11,
    "start_time": "2024-12-16T19:29:16.939Z"
   },
   {
    "duration": 35,
    "start_time": "2024-12-16T19:29:16.954Z"
   },
   {
    "duration": 421,
    "start_time": "2024-12-16T19:29:16.991Z"
   },
   {
    "duration": 770,
    "start_time": "2024-12-16T19:29:17.421Z"
   },
   {
    "duration": 34,
    "start_time": "2024-12-16T19:29:18.193Z"
   },
   {
    "duration": 421,
    "start_time": "2024-12-16T19:29:18.230Z"
   },
   {
    "duration": 125,
    "start_time": "2024-12-16T19:29:18.653Z"
   },
   {
    "duration": 1229,
    "start_time": "2024-12-16T19:29:18.780Z"
   },
   {
    "duration": 24,
    "start_time": "2024-12-16T19:29:20.011Z"
   },
   {
    "duration": 179,
    "start_time": "2024-12-16T19:29:20.037Z"
   },
   {
    "duration": 503,
    "start_time": "2024-12-16T19:29:20.221Z"
   },
   {
    "duration": 1387,
    "start_time": "2024-12-16T19:29:20.726Z"
   },
   {
    "duration": 115,
    "start_time": "2024-12-16T19:29:22.115Z"
   },
   {
    "duration": 0,
    "start_time": "2024-12-16T19:29:22.231Z"
   },
   {
    "duration": 1099,
    "start_time": "2024-12-16T20:25:16.929Z"
   },
   {
    "duration": 476,
    "start_time": "2024-12-16T20:25:18.030Z"
   },
   {
    "duration": 21,
    "start_time": "2024-12-16T20:25:18.508Z"
   },
   {
    "duration": 4,
    "start_time": "2024-12-16T20:25:18.531Z"
   },
   {
    "duration": 15,
    "start_time": "2024-12-16T20:25:18.537Z"
   },
   {
    "duration": 33,
    "start_time": "2024-12-16T20:25:18.554Z"
   },
   {
    "duration": 12,
    "start_time": "2024-12-16T20:25:18.589Z"
   },
   {
    "duration": 3,
    "start_time": "2024-12-16T20:25:18.603Z"
   },
   {
    "duration": 15,
    "start_time": "2024-12-16T20:25:18.608Z"
   },
   {
    "duration": 21,
    "start_time": "2024-12-16T20:25:18.645Z"
   },
   {
    "duration": 14,
    "start_time": "2024-12-16T20:25:18.667Z"
   },
   {
    "duration": 8,
    "start_time": "2024-12-16T20:25:18.683Z"
   },
   {
    "duration": 9,
    "start_time": "2024-12-16T20:25:18.693Z"
   },
   {
    "duration": 49,
    "start_time": "2024-12-16T20:25:18.705Z"
   },
   {
    "duration": 421,
    "start_time": "2024-12-16T20:25:18.756Z"
   },
   {
    "duration": 724,
    "start_time": "2024-12-16T20:25:19.178Z"
   },
   {
    "duration": 25,
    "start_time": "2024-12-16T20:25:19.903Z"
   },
   {
    "duration": 421,
    "start_time": "2024-12-16T20:25:19.930Z"
   },
   {
    "duration": 117,
    "start_time": "2024-12-16T20:25:20.352Z"
   },
   {
    "duration": 962,
    "start_time": "2024-12-16T20:25:20.470Z"
   },
   {
    "duration": 26,
    "start_time": "2024-12-16T20:25:21.433Z"
   },
   {
    "duration": 181,
    "start_time": "2024-12-16T20:25:21.460Z"
   },
   {
    "duration": 483,
    "start_time": "2024-12-16T20:25:21.642Z"
   },
   {
    "duration": 1302,
    "start_time": "2024-12-16T20:25:22.127Z"
   },
   {
    "duration": 112,
    "start_time": "2024-12-16T20:25:23.430Z"
   },
   {
    "duration": 0,
    "start_time": "2024-12-16T20:25:23.545Z"
   },
   {
    "duration": 15,
    "start_time": "2024-12-16T20:27:22.132Z"
   },
   {
    "duration": 7,
    "start_time": "2024-12-16T20:30:30.466Z"
   },
   {
    "duration": 7,
    "start_time": "2024-12-16T20:30:50.272Z"
   },
   {
    "duration": 52,
    "start_time": "2024-12-17T16:29:55.395Z"
   },
   {
    "duration": 1415,
    "start_time": "2024-12-17T16:30:02.663Z"
   },
   {
    "duration": 300,
    "start_time": "2024-12-17T16:30:04.080Z"
   },
   {
    "duration": 29,
    "start_time": "2024-12-17T16:30:04.382Z"
   },
   {
    "duration": 12,
    "start_time": "2024-12-17T16:30:04.414Z"
   },
   {
    "duration": 32,
    "start_time": "2024-12-17T16:30:04.428Z"
   },
   {
    "duration": 53,
    "start_time": "2024-12-17T16:30:04.462Z"
   },
   {
    "duration": 12,
    "start_time": "2024-12-17T16:30:04.517Z"
   },
   {
    "duration": 15,
    "start_time": "2024-12-17T16:30:04.531Z"
   },
   {
    "duration": 21,
    "start_time": "2024-12-17T16:30:04.548Z"
   },
   {
    "duration": 37,
    "start_time": "2024-12-17T16:30:04.572Z"
   },
   {
    "duration": 46,
    "start_time": "2024-12-17T16:30:04.611Z"
   },
   {
    "duration": 52,
    "start_time": "2024-12-17T16:30:04.659Z"
   },
   {
    "duration": 34,
    "start_time": "2024-12-17T16:30:04.713Z"
   },
   {
    "duration": 33,
    "start_time": "2024-12-17T16:30:04.749Z"
   },
   {
    "duration": 458,
    "start_time": "2024-12-17T16:30:04.784Z"
   },
   {
    "duration": 789,
    "start_time": "2024-12-17T16:30:05.244Z"
   },
   {
    "duration": 28,
    "start_time": "2024-12-17T16:30:06.034Z"
   },
   {
    "duration": 20,
    "start_time": "2024-12-17T16:30:06.064Z"
   },
   {
    "duration": 492,
    "start_time": "2024-12-17T16:30:06.085Z"
   },
   {
    "duration": 137,
    "start_time": "2024-12-17T16:30:06.579Z"
   },
   {
    "duration": 1231,
    "start_time": "2024-12-17T16:30:06.719Z"
   },
   {
    "duration": 29,
    "start_time": "2024-12-17T16:30:07.952Z"
   },
   {
    "duration": 191,
    "start_time": "2024-12-17T16:30:07.983Z"
   },
   {
    "duration": 321,
    "start_time": "2024-12-17T16:30:08.176Z"
   },
   {
    "duration": 0,
    "start_time": "2024-12-17T16:30:08.498Z"
   },
   {
    "duration": 0,
    "start_time": "2024-12-17T16:30:08.500Z"
   },
   {
    "duration": 0,
    "start_time": "2024-12-17T16:30:08.501Z"
   },
   {
    "duration": 72,
    "start_time": "2024-12-17T16:31:00.521Z"
   },
   {
    "duration": 251,
    "start_time": "2024-12-17T16:31:15.192Z"
   },
   {
    "duration": 194,
    "start_time": "2024-12-17T16:31:58.337Z"
   },
   {
    "duration": 1181,
    "start_time": "2024-12-17T16:32:14.979Z"
   },
   {
    "duration": 142,
    "start_time": "2024-12-17T16:32:16.162Z"
   },
   {
    "duration": 28,
    "start_time": "2024-12-17T16:32:16.306Z"
   },
   {
    "duration": 28,
    "start_time": "2024-12-17T16:32:16.336Z"
   },
   {
    "duration": 17,
    "start_time": "2024-12-17T16:32:16.367Z"
   },
   {
    "duration": 36,
    "start_time": "2024-12-17T16:32:16.387Z"
   },
   {
    "duration": 13,
    "start_time": "2024-12-17T16:32:16.430Z"
   },
   {
    "duration": 4,
    "start_time": "2024-12-17T16:32:16.445Z"
   },
   {
    "duration": 10,
    "start_time": "2024-12-17T16:32:16.451Z"
   },
   {
    "duration": 34,
    "start_time": "2024-12-17T16:32:16.463Z"
   },
   {
    "duration": 47,
    "start_time": "2024-12-17T16:32:16.499Z"
   },
   {
    "duration": 11,
    "start_time": "2024-12-17T16:32:16.548Z"
   },
   {
    "duration": 23,
    "start_time": "2024-12-17T16:32:16.561Z"
   },
   {
    "duration": 19,
    "start_time": "2024-12-17T16:32:16.588Z"
   },
   {
    "duration": 470,
    "start_time": "2024-12-17T16:32:16.609Z"
   },
   {
    "duration": 832,
    "start_time": "2024-12-17T16:32:17.081Z"
   },
   {
    "duration": 30,
    "start_time": "2024-12-17T16:32:17.915Z"
   },
   {
    "duration": 14,
    "start_time": "2024-12-17T16:32:17.947Z"
   },
   {
    "duration": 558,
    "start_time": "2024-12-17T16:32:17.963Z"
   },
   {
    "duration": 138,
    "start_time": "2024-12-17T16:32:18.523Z"
   },
   {
    "duration": 1291,
    "start_time": "2024-12-17T16:32:18.663Z"
   },
   {
    "duration": 27,
    "start_time": "2024-12-17T16:32:19.956Z"
   },
   {
    "duration": 193,
    "start_time": "2024-12-17T16:32:19.985Z"
   },
   {
    "duration": 298,
    "start_time": "2024-12-17T16:32:20.179Z"
   },
   {
    "duration": 0,
    "start_time": "2024-12-17T16:32:20.479Z"
   },
   {
    "duration": 0,
    "start_time": "2024-12-17T16:32:20.480Z"
   },
   {
    "duration": 0,
    "start_time": "2024-12-17T16:32:20.481Z"
   },
   {
    "duration": 1480,
    "start_time": "2024-12-17T17:09:59.271Z"
   },
   {
    "duration": 1215,
    "start_time": "2024-12-17T17:10:30.771Z"
   },
   {
    "duration": 140,
    "start_time": "2024-12-17T17:10:31.988Z"
   },
   {
    "duration": 29,
    "start_time": "2024-12-17T17:10:32.129Z"
   },
   {
    "duration": 23,
    "start_time": "2024-12-17T17:10:32.160Z"
   },
   {
    "duration": 25,
    "start_time": "2024-12-17T17:10:32.185Z"
   },
   {
    "duration": 59,
    "start_time": "2024-12-17T17:10:32.212Z"
   },
   {
    "duration": 11,
    "start_time": "2024-12-17T17:10:32.273Z"
   },
   {
    "duration": 8,
    "start_time": "2024-12-17T17:10:32.286Z"
   },
   {
    "duration": 10,
    "start_time": "2024-12-17T17:10:32.295Z"
   },
   {
    "duration": 43,
    "start_time": "2024-12-17T17:10:32.307Z"
   },
   {
    "duration": 32,
    "start_time": "2024-12-17T17:10:32.352Z"
   },
   {
    "duration": 23,
    "start_time": "2024-12-17T17:10:32.386Z"
   },
   {
    "duration": 28,
    "start_time": "2024-12-17T17:10:32.411Z"
   },
   {
    "duration": 44,
    "start_time": "2024-12-17T17:10:32.441Z"
   },
   {
    "duration": 423,
    "start_time": "2024-12-17T17:10:32.487Z"
   },
   {
    "duration": 833,
    "start_time": "2024-12-17T17:10:32.912Z"
   },
   {
    "duration": 28,
    "start_time": "2024-12-17T17:10:33.747Z"
   },
   {
    "duration": 17,
    "start_time": "2024-12-17T17:10:33.777Z"
   },
   {
    "duration": 491,
    "start_time": "2024-12-17T17:10:33.796Z"
   },
   {
    "duration": 141,
    "start_time": "2024-12-17T17:10:34.289Z"
   },
   {
    "duration": 1275,
    "start_time": "2024-12-17T17:10:34.431Z"
   },
   {
    "duration": 26,
    "start_time": "2024-12-17T17:10:35.709Z"
   },
   {
    "duration": 205,
    "start_time": "2024-12-17T17:10:35.737Z"
   },
   {
    "duration": 300,
    "start_time": "2024-12-17T17:10:35.944Z"
   },
   {
    "duration": 0,
    "start_time": "2024-12-17T17:10:36.246Z"
   },
   {
    "duration": 0,
    "start_time": "2024-12-17T17:10:36.248Z"
   },
   {
    "duration": 0,
    "start_time": "2024-12-17T17:10:36.249Z"
   },
   {
    "duration": 68,
    "start_time": "2024-12-17T17:12:36.872Z"
   },
   {
    "duration": 634,
    "start_time": "2024-12-17T17:13:19.502Z"
   },
   {
    "duration": 535,
    "start_time": "2024-12-17T17:14:20.462Z"
   },
   {
    "duration": 535,
    "start_time": "2024-12-17T17:15:37.111Z"
   },
   {
    "duration": 91,
    "start_time": "2024-12-17T17:37:15.320Z"
   },
   {
    "duration": 1426,
    "start_time": "2024-12-17T17:38:57.162Z"
   },
   {
    "duration": 2,
    "start_time": "2024-12-17T17:40:32.058Z"
   },
   {
    "duration": 29,
    "start_time": "2024-12-17T17:40:33.427Z"
   },
   {
    "duration": 33,
    "start_time": "2024-12-17T17:40:46.235Z"
   },
   {
    "duration": 2,
    "start_time": "2024-12-17T17:41:06.500Z"
   },
   {
    "duration": 31,
    "start_time": "2024-12-17T17:41:06.911Z"
   },
   {
    "duration": 1380,
    "start_time": "2024-12-17T17:41:40.365Z"
   },
   {
    "duration": 4,
    "start_time": "2024-12-17T17:42:56.241Z"
   },
   {
    "duration": 657,
    "start_time": "2024-12-17T17:43:48.047Z"
   },
   {
    "duration": 1660,
    "start_time": "2024-12-17T17:43:55.598Z"
   },
   {
    "duration": 552,
    "start_time": "2024-12-17T17:44:05.899Z"
   },
   {
    "duration": 2260,
    "start_time": "2024-12-17T17:44:48.200Z"
   },
   {
    "duration": 1781,
    "start_time": "2024-12-17T17:45:23.000Z"
   },
   {
    "duration": 2,
    "start_time": "2024-12-17T17:45:46.265Z"
   },
   {
    "duration": 1678,
    "start_time": "2024-12-17T17:45:47.044Z"
   },
   {
    "duration": 1292,
    "start_time": "2024-12-17T17:45:53.705Z"
   },
   {
    "duration": 135,
    "start_time": "2024-12-17T17:45:54.999Z"
   },
   {
    "duration": 27,
    "start_time": "2024-12-17T17:45:55.136Z"
   },
   {
    "duration": 5,
    "start_time": "2024-12-17T17:45:55.165Z"
   },
   {
    "duration": 46,
    "start_time": "2024-12-17T17:45:55.171Z"
   },
   {
    "duration": 41,
    "start_time": "2024-12-17T17:45:55.219Z"
   },
   {
    "duration": 12,
    "start_time": "2024-12-17T17:45:55.261Z"
   },
   {
    "duration": 14,
    "start_time": "2024-12-17T17:45:55.275Z"
   },
   {
    "duration": 18,
    "start_time": "2024-12-17T17:45:55.291Z"
   },
   {
    "duration": 45,
    "start_time": "2024-12-17T17:45:55.313Z"
   },
   {
    "duration": 40,
    "start_time": "2024-12-17T17:45:55.360Z"
   },
   {
    "duration": 22,
    "start_time": "2024-12-17T17:45:55.401Z"
   },
   {
    "duration": 26,
    "start_time": "2024-12-17T17:45:55.425Z"
   },
   {
    "duration": 21,
    "start_time": "2024-12-17T17:45:55.454Z"
   },
   {
    "duration": 446,
    "start_time": "2024-12-17T17:45:55.477Z"
   },
   {
    "duration": 818,
    "start_time": "2024-12-17T17:45:55.925Z"
   },
   {
    "duration": 27,
    "start_time": "2024-12-17T17:45:56.745Z"
   },
   {
    "duration": 16,
    "start_time": "2024-12-17T17:45:56.773Z"
   },
   {
    "duration": 486,
    "start_time": "2024-12-17T17:45:56.790Z"
   },
   {
    "duration": 133,
    "start_time": "2024-12-17T17:45:57.278Z"
   },
   {
    "duration": 1270,
    "start_time": "2024-12-17T17:45:57.413Z"
   },
   {
    "duration": 26,
    "start_time": "2024-12-17T17:45:58.684Z"
   },
   {
    "duration": 195,
    "start_time": "2024-12-17T17:45:58.712Z"
   },
   {
    "duration": 538,
    "start_time": "2024-12-17T17:45:58.909Z"
   },
   {
    "duration": 1449,
    "start_time": "2024-12-17T17:45:59.449Z"
   },
   {
    "duration": 2,
    "start_time": "2024-12-17T17:46:00.901Z"
   },
   {
    "duration": 49,
    "start_time": "2024-12-17T17:46:00.906Z"
   },
   {
    "duration": 28,
    "start_time": "2024-12-17T17:46:00.958Z"
   },
   {
    "duration": 1602,
    "start_time": "2024-12-17T17:46:00.988Z"
   },
   {
    "duration": 0,
    "start_time": "2024-12-17T17:46:02.592Z"
   },
   {
    "duration": 0,
    "start_time": "2024-12-17T17:46:02.593Z"
   },
   {
    "duration": 510,
    "start_time": "2024-12-17T17:46:18.509Z"
   },
   {
    "duration": 19,
    "start_time": "2024-12-17T17:47:13.089Z"
   },
   {
    "duration": 3,
    "start_time": "2024-12-17T17:47:37.178Z"
   },
   {
    "duration": 20,
    "start_time": "2024-12-17T17:48:16.156Z"
   },
   {
    "duration": 14,
    "start_time": "2024-12-17T17:48:20.088Z"
   },
   {
    "duration": 342,
    "start_time": "2024-12-17T17:50:23.543Z"
   },
   {
    "duration": 45,
    "start_time": "2024-12-17T17:51:35.873Z"
   },
   {
    "duration": 388,
    "start_time": "2024-12-17T17:52:03.403Z"
   },
   {
    "duration": 386,
    "start_time": "2024-12-17T17:52:47.792Z"
   },
   {
    "duration": 100,
    "start_time": "2024-12-17T17:53:02.196Z"
   },
   {
    "duration": 94,
    "start_time": "2024-12-17T17:53:23.111Z"
   },
   {
    "duration": 3,
    "start_time": "2024-12-17T17:53:50.550Z"
   },
   {
    "duration": 29,
    "start_time": "2024-12-17T17:55:26.152Z"
   },
   {
    "duration": 61,
    "start_time": "2024-12-17T17:55:54.936Z"
   },
   {
    "duration": 8,
    "start_time": "2024-12-17T17:56:26.219Z"
   },
   {
    "duration": 393,
    "start_time": "2024-12-17T17:56:37.780Z"
   },
   {
    "duration": 54,
    "start_time": "2024-12-17T17:57:05.197Z"
   },
   {
    "duration": 3,
    "start_time": "2024-12-17T17:57:36.447Z"
   },
   {
    "duration": 1430,
    "start_time": "2024-12-17T17:57:39.314Z"
   },
   {
    "duration": 57,
    "start_time": "2024-12-17T17:59:08.071Z"
   },
   {
    "duration": 64,
    "start_time": "2024-12-17T17:59:23.977Z"
   },
   {
    "duration": 31,
    "start_time": "2024-12-17T17:59:43.532Z"
   },
   {
    "duration": 26,
    "start_time": "2024-12-17T18:01:06.211Z"
   },
   {
    "duration": 14,
    "start_time": "2024-12-17T18:01:19.411Z"
   },
   {
    "duration": 1634,
    "start_time": "2024-12-17T18:01:55.408Z"
   },
   {
    "duration": 61,
    "start_time": "2024-12-17T18:02:21.618Z"
   },
   {
    "duration": 1437,
    "start_time": "2024-12-17T18:02:35.680Z"
   },
   {
    "duration": 3,
    "start_time": "2024-12-17T18:04:32.075Z"
   },
   {
    "duration": 10,
    "start_time": "2024-12-17T18:04:44.542Z"
   },
   {
    "duration": 43,
    "start_time": "2024-12-17T18:07:15.450Z"
   },
   {
    "duration": 1558,
    "start_time": "2024-12-17T18:07:31.296Z"
   },
   {
    "duration": 42,
    "start_time": "2024-12-17T18:08:47.582Z"
   },
   {
    "duration": 4,
    "start_time": "2024-12-17T18:09:24.614Z"
   },
   {
    "duration": 28,
    "start_time": "2024-12-17T18:10:41.592Z"
   },
   {
    "duration": 1521,
    "start_time": "2024-12-17T18:10:56.943Z"
   },
   {
    "duration": 13,
    "start_time": "2024-12-17T18:11:37.369Z"
   },
   {
    "duration": 4521,
    "start_time": "2024-12-17T18:12:38.135Z"
   },
   {
    "duration": 13,
    "start_time": "2024-12-17T18:12:54.275Z"
   },
   {
    "duration": 1490,
    "start_time": "2024-12-17T18:13:24.966Z"
   },
   {
    "duration": 1773,
    "start_time": "2024-12-17T18:13:37.307Z"
   },
   {
    "duration": 4396,
    "start_time": "2024-12-17T18:13:57.996Z"
   },
   {
    "duration": 4299,
    "start_time": "2024-12-17T18:14:24.342Z"
   },
   {
    "duration": 53,
    "start_time": "2024-12-17T18:15:08.130Z"
   },
   {
    "duration": 137,
    "start_time": "2024-12-17T18:17:13.938Z"
   },
   {
    "duration": 125,
    "start_time": "2024-12-17T18:17:37.318Z"
   },
   {
    "duration": 51,
    "start_time": "2024-12-17T18:17:42.867Z"
   },
   {
    "duration": 31,
    "start_time": "2024-12-17T18:19:17.987Z"
   },
   {
    "duration": 31,
    "start_time": "2024-12-17T18:19:37.723Z"
   },
   {
    "duration": 2,
    "start_time": "2024-12-17T18:19:39.491Z"
   },
   {
    "duration": 4393,
    "start_time": "2024-12-17T18:19:39.951Z"
   },
   {
    "duration": 2,
    "start_time": "2024-12-17T18:19:44.346Z"
   },
   {
    "duration": 75,
    "start_time": "2024-12-17T18:19:44.350Z"
   },
   {
    "duration": 57,
    "start_time": "2024-12-17T18:20:10.564Z"
   },
   {
    "duration": 1194,
    "start_time": "2024-12-17T18:22:21.269Z"
   },
   {
    "duration": 139,
    "start_time": "2024-12-17T18:22:22.465Z"
   },
   {
    "duration": 30,
    "start_time": "2024-12-17T18:22:22.606Z"
   },
   {
    "duration": 5,
    "start_time": "2024-12-17T18:22:22.638Z"
   },
   {
    "duration": 42,
    "start_time": "2024-12-17T18:22:22.645Z"
   },
   {
    "duration": 74,
    "start_time": "2024-12-17T18:22:22.688Z"
   },
   {
    "duration": 42,
    "start_time": "2024-12-17T18:22:22.764Z"
   },
   {
    "duration": 36,
    "start_time": "2024-12-17T18:22:22.815Z"
   },
   {
    "duration": 17,
    "start_time": "2024-12-17T18:22:22.853Z"
   },
   {
    "duration": 38,
    "start_time": "2024-12-17T18:22:22.872Z"
   },
   {
    "duration": 39,
    "start_time": "2024-12-17T18:22:22.911Z"
   },
   {
    "duration": 30,
    "start_time": "2024-12-17T18:22:22.951Z"
   },
   {
    "duration": 26,
    "start_time": "2024-12-17T18:22:22.983Z"
   },
   {
    "duration": 20,
    "start_time": "2024-12-17T18:22:23.012Z"
   },
   {
    "duration": 465,
    "start_time": "2024-12-17T18:22:23.034Z"
   },
   {
    "duration": 841,
    "start_time": "2024-12-17T18:22:23.501Z"
   },
   {
    "duration": 29,
    "start_time": "2024-12-17T18:22:24.344Z"
   },
   {
    "duration": 15,
    "start_time": "2024-12-17T18:22:24.375Z"
   },
   {
    "duration": 509,
    "start_time": "2024-12-17T18:22:24.392Z"
   },
   {
    "duration": 137,
    "start_time": "2024-12-17T18:22:24.903Z"
   },
   {
    "duration": 1208,
    "start_time": "2024-12-17T18:22:25.042Z"
   },
   {
    "duration": 27,
    "start_time": "2024-12-17T18:22:26.252Z"
   },
   {
    "duration": 187,
    "start_time": "2024-12-17T18:22:26.280Z"
   },
   {
    "duration": 563,
    "start_time": "2024-12-17T18:22:26.469Z"
   },
   {
    "duration": 1466,
    "start_time": "2024-12-17T18:22:27.034Z"
   },
   {
    "duration": 2,
    "start_time": "2024-12-17T18:22:28.502Z"
   },
   {
    "duration": 38,
    "start_time": "2024-12-17T18:22:28.506Z"
   },
   {
    "duration": 3,
    "start_time": "2024-12-17T18:22:28.545Z"
   },
   {
    "duration": 1654,
    "start_time": "2024-12-17T18:22:28.549Z"
   },
   {
    "duration": 0,
    "start_time": "2024-12-17T18:22:30.205Z"
   },
   {
    "duration": 0,
    "start_time": "2024-12-17T18:22:30.207Z"
   },
   {
    "duration": 0,
    "start_time": "2024-12-17T18:22:30.207Z"
   },
   {
    "duration": 0,
    "start_time": "2024-12-17T18:22:30.209Z"
   },
   {
    "duration": 0,
    "start_time": "2024-12-17T18:22:30.210Z"
   },
   {
    "duration": 0,
    "start_time": "2024-12-17T18:22:30.211Z"
   },
   {
    "duration": 28,
    "start_time": "2024-12-17T18:24:35.982Z"
   },
   {
    "duration": 26,
    "start_time": "2024-12-17T18:24:51.555Z"
   },
   {
    "duration": 1462,
    "start_time": "2024-12-17T18:26:08.719Z"
   },
   {
    "duration": 35,
    "start_time": "2024-12-17T18:30:10.507Z"
   },
   {
    "duration": 27,
    "start_time": "2024-12-17T18:30:26.560Z"
   },
   {
    "duration": 58,
    "start_time": "2024-12-17T18:30:36.407Z"
   },
   {
    "duration": 758,
    "start_time": "2024-12-17T18:30:45.853Z"
   },
   {
    "duration": 550,
    "start_time": "2024-12-17T18:31:00.251Z"
   },
   {
    "duration": 3,
    "start_time": "2024-12-17T18:32:38.558Z"
   },
   {
    "duration": 570,
    "start_time": "2024-12-17T18:32:44.384Z"
   },
   {
    "duration": 1366,
    "start_time": "2024-12-17T18:33:56.483Z"
   },
   {
    "duration": 20,
    "start_time": "2024-12-17T18:34:13.309Z"
   },
   {
    "duration": 3,
    "start_time": "2024-12-17T18:34:28.809Z"
   },
   {
    "duration": 3,
    "start_time": "2024-12-17T18:36:09.225Z"
   },
   {
    "duration": 30,
    "start_time": "2024-12-17T18:36:17.920Z"
   },
   {
    "duration": 2,
    "start_time": "2024-12-17T18:36:18.724Z"
   },
   {
    "duration": 28,
    "start_time": "2024-12-17T18:36:20.553Z"
   },
   {
    "duration": 3,
    "start_time": "2024-12-17T18:36:23.539Z"
   },
   {
    "duration": 58,
    "start_time": "2024-12-17T18:36:24.048Z"
   },
   {
    "duration": 3,
    "start_time": "2024-12-17T18:36:26.311Z"
   },
   {
    "duration": 821,
    "start_time": "2024-12-17T18:36:27.343Z"
   },
   {
    "duration": 3,
    "start_time": "2024-12-17T18:36:28.887Z"
   },
   {
    "duration": 551,
    "start_time": "2024-12-17T18:36:34.305Z"
   },
   {
    "duration": 91,
    "start_time": "2024-12-17T18:37:03.198Z"
   },
   {
    "duration": 11,
    "start_time": "2024-12-17T18:42:06.673Z"
   },
   {
    "duration": 7,
    "start_time": "2024-12-17T18:43:22.176Z"
   },
   {
    "duration": 21,
    "start_time": "2024-12-17T18:44:58.221Z"
   },
   {
    "duration": 29,
    "start_time": "2024-12-17T18:47:52.959Z"
   },
   {
    "duration": 15,
    "start_time": "2024-12-17T18:49:18.464Z"
   },
   {
    "duration": 5,
    "start_time": "2024-12-17T18:53:48.111Z"
   },
   {
    "duration": 4,
    "start_time": "2024-12-17T18:53:51.510Z"
   },
   {
    "duration": 5,
    "start_time": "2024-12-17T18:55:01.676Z"
   },
   {
    "duration": 11,
    "start_time": "2024-12-17T18:57:26.335Z"
   },
   {
    "duration": 5,
    "start_time": "2024-12-17T18:57:32.844Z"
   },
   {
    "duration": 4,
    "start_time": "2024-12-17T19:10:24.310Z"
   },
   {
    "duration": 14,
    "start_time": "2024-12-17T19:10:32.462Z"
   },
   {
    "duration": 4,
    "start_time": "2024-12-17T19:10:39.333Z"
   },
   {
    "duration": 5,
    "start_time": "2024-12-17T19:10:41.712Z"
   },
   {
    "duration": 1714,
    "start_time": "2024-12-17T19:34:46.095Z"
   },
   {
    "duration": 8,
    "start_time": "2024-12-17T19:35:12.232Z"
   },
   {
    "duration": 3,
    "start_time": "2024-12-17T19:35:33.443Z"
   },
   {
    "duration": 566,
    "start_time": "2024-12-17T19:41:19.589Z"
   },
   {
    "duration": 15,
    "start_time": "2024-12-17T19:42:17.388Z"
   },
   {
    "duration": 4,
    "start_time": "2024-12-17T19:44:38.853Z"
   },
   {
    "duration": 1229,
    "start_time": "2024-12-17T19:44:45.022Z"
   },
   {
    "duration": 132,
    "start_time": "2024-12-17T19:44:46.253Z"
   },
   {
    "duration": 26,
    "start_time": "2024-12-17T19:44:46.386Z"
   },
   {
    "duration": 21,
    "start_time": "2024-12-17T19:44:46.414Z"
   },
   {
    "duration": 22,
    "start_time": "2024-12-17T19:44:46.437Z"
   },
   {
    "duration": 38,
    "start_time": "2024-12-17T19:44:46.460Z"
   },
   {
    "duration": 10,
    "start_time": "2024-12-17T19:44:46.500Z"
   },
   {
    "duration": 28,
    "start_time": "2024-12-17T19:44:46.511Z"
   },
   {
    "duration": 14,
    "start_time": "2024-12-17T19:44:46.540Z"
   },
   {
    "duration": 23,
    "start_time": "2024-12-17T19:44:46.557Z"
   },
   {
    "duration": 16,
    "start_time": "2024-12-17T19:44:46.582Z"
   },
   {
    "duration": 13,
    "start_time": "2024-12-17T19:44:46.600Z"
   },
   {
    "duration": 24,
    "start_time": "2024-12-17T19:44:46.614Z"
   },
   {
    "duration": 34,
    "start_time": "2024-12-17T19:44:46.640Z"
   },
   {
    "duration": 431,
    "start_time": "2024-12-17T19:44:46.676Z"
   },
   {
    "duration": 852,
    "start_time": "2024-12-17T19:44:47.108Z"
   },
   {
    "duration": 27,
    "start_time": "2024-12-17T19:44:47.962Z"
   },
   {
    "duration": 14,
    "start_time": "2024-12-17T19:44:47.991Z"
   },
   {
    "duration": 494,
    "start_time": "2024-12-17T19:44:48.007Z"
   },
   {
    "duration": 133,
    "start_time": "2024-12-17T19:44:48.503Z"
   },
   {
    "duration": 1232,
    "start_time": "2024-12-17T19:44:48.638Z"
   },
   {
    "duration": 26,
    "start_time": "2024-12-17T19:44:49.872Z"
   },
   {
    "duration": 186,
    "start_time": "2024-12-17T19:44:49.900Z"
   },
   {
    "duration": 548,
    "start_time": "2024-12-17T19:44:50.088Z"
   },
   {
    "duration": 2,
    "start_time": "2024-12-17T19:44:50.638Z"
   },
   {
    "duration": 35,
    "start_time": "2024-12-17T19:44:50.641Z"
   },
   {
    "duration": 2,
    "start_time": "2024-12-17T19:44:50.678Z"
   },
   {
    "duration": 39,
    "start_time": "2024-12-17T19:44:50.683Z"
   },
   {
    "duration": 7,
    "start_time": "2024-12-17T19:44:50.723Z"
   },
   {
    "duration": 56,
    "start_time": "2024-12-17T19:44:50.732Z"
   },
   {
    "duration": 2,
    "start_time": "2024-12-17T19:44:50.790Z"
   },
   {
    "duration": 872,
    "start_time": "2024-12-17T19:44:50.794Z"
   },
   {
    "duration": 3,
    "start_time": "2024-12-17T19:44:51.667Z"
   },
   {
    "duration": 520,
    "start_time": "2024-12-17T19:44:51.671Z"
   },
   {
    "duration": 119,
    "start_time": "2024-12-17T19:44:52.193Z"
   },
   {
    "duration": 17,
    "start_time": "2024-12-17T19:45:01.674Z"
   },
   {
    "duration": 8,
    "start_time": "2024-12-17T19:45:19.341Z"
   },
   {
    "duration": 8,
    "start_time": "2024-12-17T19:48:08.639Z"
   },
   {
    "duration": 14,
    "start_time": "2024-12-17T19:51:10.828Z"
   },
   {
    "duration": 15,
    "start_time": "2024-12-17T19:52:55.146Z"
   },
   {
    "duration": 38,
    "start_time": "2024-12-17T19:53:07.114Z"
   },
   {
    "duration": 3,
    "start_time": "2024-12-17T19:53:56.335Z"
   },
   {
    "duration": 36,
    "start_time": "2024-12-17T19:55:10.993Z"
   },
   {
    "duration": 13,
    "start_time": "2024-12-17T20:04:21.561Z"
   },
   {
    "duration": 13,
    "start_time": "2024-12-17T20:04:56.032Z"
   },
   {
    "duration": 12,
    "start_time": "2024-12-17T20:06:35.939Z"
   },
   {
    "duration": 13,
    "start_time": "2024-12-17T20:06:53.890Z"
   },
   {
    "duration": 20,
    "start_time": "2024-12-17T20:07:07.026Z"
   },
   {
    "duration": 22,
    "start_time": "2024-12-17T20:08:06.478Z"
   },
   {
    "duration": 20,
    "start_time": "2024-12-17T20:08:53.304Z"
   },
   {
    "duration": 576,
    "start_time": "2024-12-17T20:19:14.855Z"
   },
   {
    "duration": 536,
    "start_time": "2024-12-17T20:19:32.429Z"
   },
   {
    "duration": 161,
    "start_time": "2024-12-17T20:20:38.591Z"
   },
   {
    "duration": 557,
    "start_time": "2024-12-17T20:20:45.476Z"
   },
   {
    "duration": 1237,
    "start_time": "2024-12-21T11:05:58.384Z"
   },
   {
    "duration": 280,
    "start_time": "2024-12-21T11:05:59.623Z"
   },
   {
    "duration": 25,
    "start_time": "2024-12-21T11:05:59.905Z"
   },
   {
    "duration": 16,
    "start_time": "2024-12-21T11:05:59.932Z"
   },
   {
    "duration": 14,
    "start_time": "2024-12-21T11:05:59.950Z"
   },
   {
    "duration": 30,
    "start_time": "2024-12-21T11:05:59.965Z"
   },
   {
    "duration": 25,
    "start_time": "2024-12-21T11:05:59.997Z"
   },
   {
    "duration": 24,
    "start_time": "2024-12-21T11:06:00.023Z"
   },
   {
    "duration": 33,
    "start_time": "2024-12-21T11:06:00.048Z"
   },
   {
    "duration": 44,
    "start_time": "2024-12-21T11:06:00.083Z"
   },
   {
    "duration": 61,
    "start_time": "2024-12-21T11:06:00.128Z"
   },
   {
    "duration": 56,
    "start_time": "2024-12-21T11:06:00.191Z"
   },
   {
    "duration": 65,
    "start_time": "2024-12-21T11:06:00.249Z"
   },
   {
    "duration": 107,
    "start_time": "2024-12-21T11:06:00.317Z"
   },
   {
    "duration": 1575,
    "start_time": "2024-12-21T11:06:00.426Z"
   },
   {
    "duration": 786,
    "start_time": "2024-12-21T11:06:02.003Z"
   },
   {
    "duration": 14,
    "start_time": "2024-12-21T11:06:02.790Z"
   },
   {
    "duration": 439,
    "start_time": "2024-12-21T11:06:02.805Z"
   },
   {
    "duration": 116,
    "start_time": "2024-12-21T11:06:03.245Z"
   },
   {
    "duration": 1123,
    "start_time": "2024-12-21T11:06:03.363Z"
   },
   {
    "duration": 345,
    "start_time": "2024-12-21T11:06:04.488Z"
   },
   {
    "duration": 22,
    "start_time": "2024-12-21T11:06:04.835Z"
   },
   {
    "duration": 234,
    "start_time": "2024-12-21T11:06:04.859Z"
   },
   {
    "duration": 318,
    "start_time": "2024-12-21T11:06:05.094Z"
   },
   {
    "duration": 0,
    "start_time": "2024-12-21T11:06:05.414Z"
   },
   {
    "duration": 0,
    "start_time": "2024-12-21T11:06:05.415Z"
   },
   {
    "duration": 0,
    "start_time": "2024-12-21T11:06:05.416Z"
   },
   {
    "duration": 0,
    "start_time": "2024-12-21T11:06:05.417Z"
   },
   {
    "duration": 0,
    "start_time": "2024-12-21T11:06:05.418Z"
   },
   {
    "duration": 0,
    "start_time": "2024-12-21T11:06:05.419Z"
   },
   {
    "duration": 0,
    "start_time": "2024-12-21T11:06:05.420Z"
   },
   {
    "duration": 0,
    "start_time": "2024-12-21T11:06:05.421Z"
   },
   {
    "duration": 0,
    "start_time": "2024-12-21T11:06:05.422Z"
   },
   {
    "duration": 0,
    "start_time": "2024-12-21T11:06:05.423Z"
   },
   {
    "duration": 1044,
    "start_time": "2024-12-21T11:08:25.864Z"
   },
   {
    "duration": 119,
    "start_time": "2024-12-21T11:08:26.910Z"
   },
   {
    "duration": 24,
    "start_time": "2024-12-21T11:08:27.030Z"
   },
   {
    "duration": 4,
    "start_time": "2024-12-21T11:08:27.055Z"
   },
   {
    "duration": 17,
    "start_time": "2024-12-21T11:08:27.061Z"
   },
   {
    "duration": 44,
    "start_time": "2024-12-21T11:08:27.079Z"
   },
   {
    "duration": 10,
    "start_time": "2024-12-21T11:08:27.124Z"
   },
   {
    "duration": 14,
    "start_time": "2024-12-21T11:08:27.135Z"
   },
   {
    "duration": 24,
    "start_time": "2024-12-21T11:08:27.150Z"
   },
   {
    "duration": 26,
    "start_time": "2024-12-21T11:08:27.175Z"
   },
   {
    "duration": 15,
    "start_time": "2024-12-21T11:08:27.202Z"
   },
   {
    "duration": 8,
    "start_time": "2024-12-21T11:08:27.221Z"
   },
   {
    "duration": 15,
    "start_time": "2024-12-21T11:08:27.230Z"
   },
   {
    "duration": 23,
    "start_time": "2024-12-21T11:08:27.247Z"
   },
   {
    "duration": 1587,
    "start_time": "2024-12-21T11:08:27.271Z"
   },
   {
    "duration": 729,
    "start_time": "2024-12-21T11:08:28.860Z"
   },
   {
    "duration": 14,
    "start_time": "2024-12-21T11:08:29.590Z"
   },
   {
    "duration": 433,
    "start_time": "2024-12-21T11:08:29.606Z"
   },
   {
    "duration": 123,
    "start_time": "2024-12-21T11:08:30.041Z"
   },
   {
    "duration": 1164,
    "start_time": "2024-12-21T11:08:30.166Z"
   },
   {
    "duration": 340,
    "start_time": "2024-12-21T11:08:31.332Z"
   },
   {
    "duration": 24,
    "start_time": "2024-12-21T11:08:31.674Z"
   },
   {
    "duration": 207,
    "start_time": "2024-12-21T11:08:31.699Z"
   },
   {
    "duration": 573,
    "start_time": "2024-12-21T11:08:31.908Z"
   },
   {
    "duration": 2,
    "start_time": "2024-12-21T11:08:32.482Z"
   },
   {
    "duration": 59,
    "start_time": "2024-12-21T11:08:32.486Z"
   },
   {
    "duration": 2,
    "start_time": "2024-12-21T11:08:32.546Z"
   },
   {
    "duration": 67,
    "start_time": "2024-12-21T11:08:32.550Z"
   },
   {
    "duration": 36,
    "start_time": "2024-12-21T11:08:32.618Z"
   },
   {
    "duration": 255,
    "start_time": "2024-12-21T11:08:32.656Z"
   },
   {
    "duration": 0,
    "start_time": "2024-12-21T11:08:32.912Z"
   },
   {
    "duration": 0,
    "start_time": "2024-12-21T11:08:32.913Z"
   },
   {
    "duration": 0,
    "start_time": "2024-12-21T11:08:32.921Z"
   },
   {
    "duration": 0,
    "start_time": "2024-12-21T11:08:32.922Z"
   },
   {
    "duration": 3,
    "start_time": "2024-12-21T11:09:56.852Z"
   },
   {
    "duration": 4,
    "start_time": "2024-12-21T11:10:11.383Z"
   },
   {
    "duration": 13,
    "start_time": "2024-12-21T11:10:24.135Z"
   },
   {
    "duration": 1059,
    "start_time": "2024-12-21T11:10:44.752Z"
   },
   {
    "duration": 118,
    "start_time": "2024-12-21T11:10:45.813Z"
   },
   {
    "duration": 23,
    "start_time": "2024-12-21T11:10:45.933Z"
   },
   {
    "duration": 29,
    "start_time": "2024-12-21T11:10:45.958Z"
   },
   {
    "duration": 34,
    "start_time": "2024-12-21T11:10:45.989Z"
   },
   {
    "duration": 29,
    "start_time": "2024-12-21T11:10:46.025Z"
   },
   {
    "duration": 10,
    "start_time": "2024-12-21T11:10:46.055Z"
   },
   {
    "duration": 3,
    "start_time": "2024-12-21T11:10:46.066Z"
   },
   {
    "duration": 10,
    "start_time": "2024-12-21T11:10:46.071Z"
   },
   {
    "duration": 41,
    "start_time": "2024-12-21T11:10:46.083Z"
   },
   {
    "duration": 14,
    "start_time": "2024-12-21T11:10:46.126Z"
   },
   {
    "duration": 22,
    "start_time": "2024-12-21T11:10:46.142Z"
   },
   {
    "duration": 16,
    "start_time": "2024-12-21T11:10:46.166Z"
   },
   {
    "duration": 16,
    "start_time": "2024-12-21T11:10:46.184Z"
   },
   {
    "duration": 1941,
    "start_time": "2024-12-21T11:10:46.202Z"
   },
   {
    "duration": 954,
    "start_time": "2024-12-21T11:10:48.145Z"
   },
   {
    "duration": 13,
    "start_time": "2024-12-21T11:10:49.100Z"
   },
   {
    "duration": 418,
    "start_time": "2024-12-21T11:10:49.122Z"
   },
   {
    "duration": 115,
    "start_time": "2024-12-21T11:10:49.542Z"
   },
   {
    "duration": 1088,
    "start_time": "2024-12-21T11:10:49.658Z"
   },
   {
    "duration": 320,
    "start_time": "2024-12-21T11:10:50.747Z"
   },
   {
    "duration": 21,
    "start_time": "2024-12-21T11:10:51.069Z"
   },
   {
    "duration": 203,
    "start_time": "2024-12-21T11:10:51.092Z"
   },
   {
    "duration": 519,
    "start_time": "2024-12-21T11:10:51.296Z"
   },
   {
    "duration": 3,
    "start_time": "2024-12-21T11:10:51.822Z"
   },
   {
    "duration": 13,
    "start_time": "2024-12-21T11:10:51.826Z"
   },
   {
    "duration": 4,
    "start_time": "2024-12-21T11:10:51.840Z"
   },
   {
    "duration": 87,
    "start_time": "2024-12-21T11:10:51.845Z"
   },
   {
    "duration": 849,
    "start_time": "2024-12-21T11:10:51.934Z"
   },
   {
    "duration": 41,
    "start_time": "2024-12-21T11:11:59.593Z"
   },
   {
    "duration": 5,
    "start_time": "2024-12-21T11:12:27.160Z"
   },
   {
    "duration": 27,
    "start_time": "2024-12-21T11:12:34.828Z"
   },
   {
    "duration": 92,
    "start_time": "2024-12-21T11:12:57.536Z"
   },
   {
    "duration": 1128,
    "start_time": "2024-12-21T11:13:34.989Z"
   },
   {
    "duration": 123,
    "start_time": "2024-12-21T11:13:36.118Z"
   },
   {
    "duration": 25,
    "start_time": "2024-12-21T11:13:36.242Z"
   },
   {
    "duration": 50,
    "start_time": "2024-12-21T11:13:36.268Z"
   },
   {
    "duration": 14,
    "start_time": "2024-12-21T11:13:36.320Z"
   },
   {
    "duration": 54,
    "start_time": "2024-12-21T11:13:36.336Z"
   },
   {
    "duration": 11,
    "start_time": "2024-12-21T11:13:36.391Z"
   },
   {
    "duration": 26,
    "start_time": "2024-12-21T11:13:36.403Z"
   },
   {
    "duration": 18,
    "start_time": "2024-12-21T11:13:36.431Z"
   },
   {
    "duration": 98,
    "start_time": "2024-12-21T11:13:36.453Z"
   },
   {
    "duration": 81,
    "start_time": "2024-12-21T11:13:36.553Z"
   },
   {
    "duration": 24,
    "start_time": "2024-12-21T11:13:36.636Z"
   },
   {
    "duration": 63,
    "start_time": "2024-12-21T11:13:36.662Z"
   },
   {
    "duration": 73,
    "start_time": "2024-12-21T11:13:36.727Z"
   },
   {
    "duration": 1499,
    "start_time": "2024-12-21T11:13:36.802Z"
   },
   {
    "duration": 719,
    "start_time": "2024-12-21T11:13:38.302Z"
   },
   {
    "duration": 13,
    "start_time": "2024-12-21T11:13:39.023Z"
   },
   {
    "duration": 486,
    "start_time": "2024-12-21T11:13:39.037Z"
   },
   {
    "duration": 117,
    "start_time": "2024-12-21T11:13:39.525Z"
   },
   {
    "duration": 1095,
    "start_time": "2024-12-21T11:13:39.643Z"
   },
   {
    "duration": 327,
    "start_time": "2024-12-21T11:13:40.739Z"
   },
   {
    "duration": 22,
    "start_time": "2024-12-21T11:13:41.068Z"
   },
   {
    "duration": 180,
    "start_time": "2024-12-21T11:13:41.091Z"
   },
   {
    "duration": 540,
    "start_time": "2024-12-21T11:13:41.272Z"
   },
   {
    "duration": 9,
    "start_time": "2024-12-21T11:13:41.813Z"
   },
   {
    "duration": 9,
    "start_time": "2024-12-21T11:13:41.824Z"
   },
   {
    "duration": 9,
    "start_time": "2024-12-21T11:13:41.834Z"
   },
   {
    "duration": 35,
    "start_time": "2024-12-21T11:13:41.846Z"
   },
   {
    "duration": 951,
    "start_time": "2024-12-21T11:13:41.882Z"
   },
   {
    "duration": 39,
    "start_time": "2024-12-21T11:13:42.834Z"
   },
   {
    "duration": 5,
    "start_time": "2024-12-21T11:13:42.874Z"
   },
   {
    "duration": 42,
    "start_time": "2024-12-21T11:13:42.880Z"
   },
   {
    "duration": 494,
    "start_time": "2024-12-21T11:35:04.836Z"
   },
   {
    "duration": 1068,
    "start_time": "2024-12-21T11:51:26.859Z"
   },
   {
    "duration": 122,
    "start_time": "2024-12-21T11:51:27.929Z"
   },
   {
    "duration": 24,
    "start_time": "2024-12-21T11:51:28.052Z"
   },
   {
    "duration": 5,
    "start_time": "2024-12-21T11:51:28.077Z"
   },
   {
    "duration": 26,
    "start_time": "2024-12-21T11:51:28.084Z"
   },
   {
    "duration": 33,
    "start_time": "2024-12-21T11:51:28.112Z"
   },
   {
    "duration": 10,
    "start_time": "2024-12-21T11:51:28.147Z"
   },
   {
    "duration": 3,
    "start_time": "2024-12-21T11:51:28.158Z"
   },
   {
    "duration": 10,
    "start_time": "2024-12-21T11:51:28.162Z"
   },
   {
    "duration": 25,
    "start_time": "2024-12-21T11:51:28.173Z"
   },
   {
    "duration": 20,
    "start_time": "2024-12-21T11:51:28.221Z"
   },
   {
    "duration": 14,
    "start_time": "2024-12-21T11:51:28.243Z"
   },
   {
    "duration": 12,
    "start_time": "2024-12-21T11:51:28.259Z"
   },
   {
    "duration": 25,
    "start_time": "2024-12-21T11:51:28.273Z"
   },
   {
    "duration": 1549,
    "start_time": "2024-12-21T11:51:28.300Z"
   },
   {
    "duration": 737,
    "start_time": "2024-12-21T11:51:29.852Z"
   },
   {
    "duration": 13,
    "start_time": "2024-12-21T11:51:30.590Z"
   },
   {
    "duration": 428,
    "start_time": "2024-12-21T11:51:30.604Z"
   },
   {
    "duration": 118,
    "start_time": "2024-12-21T11:51:31.034Z"
   },
   {
    "duration": 1085,
    "start_time": "2024-12-21T11:51:31.153Z"
   },
   {
    "duration": 79,
    "start_time": "2024-12-21T11:51:32.240Z"
   },
   {
    "duration": 0,
    "start_time": "2024-12-21T11:51:32.321Z"
   },
   {
    "duration": 0,
    "start_time": "2024-12-21T11:51:32.322Z"
   },
   {
    "duration": 0,
    "start_time": "2024-12-21T11:51:32.323Z"
   },
   {
    "duration": 0,
    "start_time": "2024-12-21T11:51:32.324Z"
   },
   {
    "duration": 0,
    "start_time": "2024-12-21T11:51:32.325Z"
   },
   {
    "duration": 0,
    "start_time": "2024-12-21T11:51:32.326Z"
   },
   {
    "duration": 0,
    "start_time": "2024-12-21T11:51:32.327Z"
   },
   {
    "duration": 0,
    "start_time": "2024-12-21T11:51:32.328Z"
   },
   {
    "duration": 0,
    "start_time": "2024-12-21T11:51:32.329Z"
   },
   {
    "duration": 0,
    "start_time": "2024-12-21T11:51:32.330Z"
   },
   {
    "duration": 0,
    "start_time": "2024-12-21T11:51:32.331Z"
   },
   {
    "duration": 81,
    "start_time": "2024-12-21T11:54:02.710Z"
   },
   {
    "duration": 1037,
    "start_time": "2024-12-21T11:54:37.681Z"
   },
   {
    "duration": 122,
    "start_time": "2024-12-21T11:54:38.722Z"
   },
   {
    "duration": 24,
    "start_time": "2024-12-21T11:54:38.845Z"
   },
   {
    "duration": 82,
    "start_time": "2024-12-21T11:54:38.870Z"
   },
   {
    "duration": 70,
    "start_time": "2024-12-21T11:54:38.954Z"
   },
   {
    "duration": 38,
    "start_time": "2024-12-21T11:54:39.025Z"
   },
   {
    "duration": 10,
    "start_time": "2024-12-21T11:54:39.065Z"
   },
   {
    "duration": 8,
    "start_time": "2024-12-21T11:54:39.076Z"
   },
   {
    "duration": 10,
    "start_time": "2024-12-21T11:54:39.085Z"
   },
   {
    "duration": 34,
    "start_time": "2024-12-21T11:54:39.096Z"
   },
   {
    "duration": 62,
    "start_time": "2024-12-21T11:54:39.132Z"
   },
   {
    "duration": 34,
    "start_time": "2024-12-21T11:54:39.196Z"
   },
   {
    "duration": 17,
    "start_time": "2024-12-21T11:54:39.232Z"
   },
   {
    "duration": 16,
    "start_time": "2024-12-21T11:54:39.252Z"
   },
   {
    "duration": 1510,
    "start_time": "2024-12-21T11:54:39.269Z"
   },
   {
    "duration": 783,
    "start_time": "2024-12-21T11:54:40.781Z"
   },
   {
    "duration": 13,
    "start_time": "2024-12-21T11:54:41.566Z"
   },
   {
    "duration": 458,
    "start_time": "2024-12-21T11:54:41.580Z"
   },
   {
    "duration": 123,
    "start_time": "2024-12-21T11:54:42.040Z"
   },
   {
    "duration": 1129,
    "start_time": "2024-12-21T11:54:42.165Z"
   },
   {
    "duration": 69,
    "start_time": "2024-12-21T11:54:43.296Z"
   },
   {
    "duration": 0,
    "start_time": "2024-12-21T11:54:43.367Z"
   },
   {
    "duration": 0,
    "start_time": "2024-12-21T11:54:43.368Z"
   },
   {
    "duration": 0,
    "start_time": "2024-12-21T11:54:43.369Z"
   },
   {
    "duration": 0,
    "start_time": "2024-12-21T11:54:43.370Z"
   },
   {
    "duration": 0,
    "start_time": "2024-12-21T11:54:43.371Z"
   },
   {
    "duration": 0,
    "start_time": "2024-12-21T11:54:43.372Z"
   },
   {
    "duration": 0,
    "start_time": "2024-12-21T11:54:43.373Z"
   },
   {
    "duration": 0,
    "start_time": "2024-12-21T11:54:43.374Z"
   },
   {
    "duration": 0,
    "start_time": "2024-12-21T11:54:43.375Z"
   },
   {
    "duration": 0,
    "start_time": "2024-12-21T11:54:43.376Z"
   },
   {
    "duration": 0,
    "start_time": "2024-12-21T11:54:43.377Z"
   },
   {
    "duration": 116,
    "start_time": "2024-12-21T11:55:43.221Z"
   },
   {
    "duration": 347,
    "start_time": "2024-12-21T11:55:50.007Z"
   },
   {
    "duration": 23,
    "start_time": "2024-12-21T11:56:01.343Z"
   },
   {
    "duration": 166,
    "start_time": "2024-12-21T11:56:01.655Z"
   },
   {
    "duration": 486,
    "start_time": "2024-12-21T11:56:09.050Z"
   },
   {
    "duration": 3,
    "start_time": "2024-12-21T11:56:10.894Z"
   },
   {
    "duration": 4,
    "start_time": "2024-12-21T11:56:11.237Z"
   },
   {
    "duration": 4,
    "start_time": "2024-12-21T11:56:11.606Z"
   },
   {
    "duration": 82,
    "start_time": "2024-12-21T11:56:11.754Z"
   },
   {
    "duration": 865,
    "start_time": "2024-12-21T11:56:11.920Z"
   },
   {
    "duration": 1385,
    "start_time": "2024-12-21T12:24:08.260Z"
   },
   {
    "duration": 294,
    "start_time": "2024-12-21T12:24:09.647Z"
   },
   {
    "duration": 26,
    "start_time": "2024-12-21T12:24:09.943Z"
   },
   {
    "duration": 58,
    "start_time": "2024-12-21T12:24:09.970Z"
   },
   {
    "duration": 33,
    "start_time": "2024-12-21T12:24:10.031Z"
   },
   {
    "duration": 54,
    "start_time": "2024-12-21T12:24:10.066Z"
   },
   {
    "duration": 11,
    "start_time": "2024-12-21T12:24:10.122Z"
   },
   {
    "duration": 41,
    "start_time": "2024-12-21T12:24:10.134Z"
   },
   {
    "duration": 117,
    "start_time": "2024-12-21T12:24:10.177Z"
   },
   {
    "duration": 51,
    "start_time": "2024-12-21T12:24:10.296Z"
   },
   {
    "duration": 40,
    "start_time": "2024-12-21T12:24:10.348Z"
   },
   {
    "duration": 43,
    "start_time": "2024-12-21T12:24:10.390Z"
   },
   {
    "duration": 27,
    "start_time": "2024-12-21T12:24:10.435Z"
   },
   {
    "duration": 46,
    "start_time": "2024-12-21T12:24:10.464Z"
   },
   {
    "duration": 1731,
    "start_time": "2024-12-21T12:24:10.512Z"
   },
   {
    "duration": 822,
    "start_time": "2024-12-21T12:24:12.245Z"
   },
   {
    "duration": 16,
    "start_time": "2024-12-21T12:24:13.069Z"
   },
   {
    "duration": 501,
    "start_time": "2024-12-21T12:24:13.087Z"
   },
   {
    "duration": 130,
    "start_time": "2024-12-21T12:24:13.590Z"
   },
   {
    "duration": 1189,
    "start_time": "2024-12-21T12:24:13.722Z"
   },
   {
    "duration": 377,
    "start_time": "2024-12-21T12:24:14.912Z"
   },
   {
    "duration": 25,
    "start_time": "2024-12-21T12:24:15.290Z"
   },
   {
    "duration": 251,
    "start_time": "2024-12-21T12:24:15.316Z"
   },
   {
    "duration": 595,
    "start_time": "2024-12-21T12:24:15.569Z"
   },
   {
    "duration": 3,
    "start_time": "2024-12-21T12:24:16.166Z"
   },
   {
    "duration": 80,
    "start_time": "2024-12-21T12:24:16.170Z"
   },
   {
    "duration": 49,
    "start_time": "2024-12-21T12:24:16.251Z"
   },
   {
    "duration": 94,
    "start_time": "2024-12-21T12:24:16.302Z"
   },
   {
    "duration": 921,
    "start_time": "2024-12-21T12:24:16.398Z"
   },
   {
    "duration": 47,
    "start_time": "2024-12-21T12:24:17.329Z"
   },
   {
    "duration": 39,
    "start_time": "2024-12-21T12:24:17.377Z"
   },
   {
    "duration": 72,
    "start_time": "2024-12-21T12:24:17.418Z"
   },
   {
    "duration": 96,
    "start_time": "2024-12-21T18:26:22.463Z"
   },
   {
    "duration": 1380,
    "start_time": "2024-12-21T18:57:00.420Z"
   },
   {
    "duration": 318,
    "start_time": "2024-12-21T18:57:01.802Z"
   },
   {
    "duration": 27,
    "start_time": "2024-12-21T18:57:02.122Z"
   },
   {
    "duration": 11,
    "start_time": "2024-12-21T18:57:02.151Z"
   },
   {
    "duration": 18,
    "start_time": "2024-12-21T18:57:02.165Z"
   },
   {
    "duration": 63,
    "start_time": "2024-12-21T18:57:02.184Z"
   },
   {
    "duration": 11,
    "start_time": "2024-12-21T18:57:02.249Z"
   },
   {
    "duration": 29,
    "start_time": "2024-12-21T18:57:02.263Z"
   },
   {
    "duration": 42,
    "start_time": "2024-12-21T18:57:02.293Z"
   },
   {
    "duration": 31,
    "start_time": "2024-12-21T18:57:02.336Z"
   },
   {
    "duration": 17,
    "start_time": "2024-12-21T18:57:02.368Z"
   },
   {
    "duration": 52,
    "start_time": "2024-12-21T18:57:02.387Z"
   },
   {
    "duration": 16,
    "start_time": "2024-12-21T18:57:02.441Z"
   },
   {
    "duration": 28,
    "start_time": "2024-12-21T18:57:02.460Z"
   },
   {
    "duration": 1841,
    "start_time": "2024-12-21T18:57:02.489Z"
   },
   {
    "duration": 837,
    "start_time": "2024-12-21T18:57:04.332Z"
   },
   {
    "duration": 15,
    "start_time": "2024-12-21T18:57:05.171Z"
   },
   {
    "duration": 477,
    "start_time": "2024-12-21T18:57:05.188Z"
   },
   {
    "duration": 126,
    "start_time": "2024-12-21T18:57:05.666Z"
   },
   {
    "duration": 1253,
    "start_time": "2024-12-21T18:57:05.794Z"
   },
   {
    "duration": 351,
    "start_time": "2024-12-21T18:57:07.048Z"
   },
   {
    "duration": 32,
    "start_time": "2024-12-21T18:57:07.401Z"
   },
   {
    "duration": 192,
    "start_time": "2024-12-21T18:57:07.435Z"
   },
   {
    "duration": 559,
    "start_time": "2024-12-21T18:57:07.628Z"
   },
   {
    "duration": 3,
    "start_time": "2024-12-21T18:57:08.188Z"
   },
   {
    "duration": 11,
    "start_time": "2024-12-21T18:57:08.193Z"
   },
   {
    "duration": 14,
    "start_time": "2024-12-21T18:57:08.205Z"
   },
   {
    "duration": 98,
    "start_time": "2024-12-21T18:57:08.221Z"
   },
   {
    "duration": 913,
    "start_time": "2024-12-21T18:57:08.321Z"
   },
   {
    "duration": 43,
    "start_time": "2024-12-21T18:57:09.235Z"
   },
   {
    "duration": 6,
    "start_time": "2024-12-21T18:57:09.279Z"
   },
   {
    "duration": 47,
    "start_time": "2024-12-21T18:57:09.286Z"
   },
   {
    "duration": 1267,
    "start_time": "2024-12-21T20:28:57.568Z"
   },
   {
    "duration": 490,
    "start_time": "2024-12-21T20:28:58.837Z"
   },
   {
    "duration": 22,
    "start_time": "2024-12-21T20:28:59.328Z"
   },
   {
    "duration": 4,
    "start_time": "2024-12-21T20:28:59.352Z"
   },
   {
    "duration": 31,
    "start_time": "2024-12-21T20:28:59.357Z"
   },
   {
    "duration": 32,
    "start_time": "2024-12-21T20:28:59.389Z"
   },
   {
    "duration": 11,
    "start_time": "2024-12-21T20:28:59.422Z"
   },
   {
    "duration": 5,
    "start_time": "2024-12-21T20:28:59.434Z"
   },
   {
    "duration": 11,
    "start_time": "2024-12-21T20:28:59.440Z"
   },
   {
    "duration": 20,
    "start_time": "2024-12-21T20:28:59.453Z"
   },
   {
    "duration": 13,
    "start_time": "2024-12-21T20:28:59.475Z"
   },
   {
    "duration": 10,
    "start_time": "2024-12-21T20:28:59.489Z"
   },
   {
    "duration": 11,
    "start_time": "2024-12-21T20:28:59.500Z"
   },
   {
    "duration": 39,
    "start_time": "2024-12-21T20:28:59.513Z"
   },
   {
    "duration": 1364,
    "start_time": "2024-12-21T20:28:59.554Z"
   },
   {
    "duration": 1329,
    "start_time": "2024-12-21T20:29:00.920Z"
   },
   {
    "duration": 13,
    "start_time": "2024-12-21T20:29:02.251Z"
   },
   {
    "duration": 506,
    "start_time": "2024-12-21T20:29:02.265Z"
   },
   {
    "duration": 117,
    "start_time": "2024-12-21T20:29:02.772Z"
   },
   {
    "duration": 1005,
    "start_time": "2024-12-21T20:29:02.890Z"
   },
   {
    "duration": 320,
    "start_time": "2024-12-21T20:29:03.896Z"
   },
   {
    "duration": 29,
    "start_time": "2024-12-21T20:29:04.217Z"
   },
   {
    "duration": 170,
    "start_time": "2024-12-21T20:29:04.248Z"
   },
   {
    "duration": 519,
    "start_time": "2024-12-21T20:29:04.419Z"
   },
   {
    "duration": 7,
    "start_time": "2024-12-21T20:29:04.940Z"
   },
   {
    "duration": 4,
    "start_time": "2024-12-21T20:29:04.948Z"
   },
   {
    "duration": 5,
    "start_time": "2024-12-21T20:29:04.953Z"
   },
   {
    "duration": 5,
    "start_time": "2024-12-21T20:29:04.961Z"
   },
   {
    "duration": 894,
    "start_time": "2024-12-21T20:29:04.967Z"
   },
   {
    "duration": 36,
    "start_time": "2024-12-21T20:29:05.863Z"
   },
   {
    "duration": 5,
    "start_time": "2024-12-21T20:29:05.901Z"
   },
   {
    "duration": 42,
    "start_time": "2024-12-21T20:29:05.908Z"
   },
   {
    "duration": 5,
    "start_time": "2024-12-21T20:29:26.577Z"
   },
   {
    "duration": 4,
    "start_time": "2024-12-21T20:29:40.936Z"
   },
   {
    "duration": 67,
    "start_time": "2024-12-21T20:30:37.597Z"
   },
   {
    "duration": 6,
    "start_time": "2024-12-21T20:30:50.654Z"
   },
   {
    "duration": 833,
    "start_time": "2024-12-21T20:30:55.436Z"
   },
   {
    "duration": 4,
    "start_time": "2024-12-21T20:31:43.647Z"
   },
   {
    "duration": 4,
    "start_time": "2024-12-21T20:31:44.112Z"
   },
   {
    "duration": 1278,
    "start_time": "2024-12-21T20:31:55.124Z"
   },
   {
    "duration": 1286,
    "start_time": "2024-12-22T07:46:36.845Z"
   },
   {
    "duration": 474,
    "start_time": "2024-12-22T07:46:38.133Z"
   },
   {
    "duration": 22,
    "start_time": "2024-12-22T07:46:38.608Z"
   },
   {
    "duration": 5,
    "start_time": "2024-12-22T07:46:38.632Z"
   },
   {
    "duration": 13,
    "start_time": "2024-12-22T07:46:38.640Z"
   },
   {
    "duration": 55,
    "start_time": "2024-12-22T07:46:38.654Z"
   },
   {
    "duration": 11,
    "start_time": "2024-12-22T07:46:38.711Z"
   },
   {
    "duration": 9,
    "start_time": "2024-12-22T07:46:38.723Z"
   },
   {
    "duration": 10,
    "start_time": "2024-12-22T07:46:38.734Z"
   },
   {
    "duration": 22,
    "start_time": "2024-12-22T07:46:38.745Z"
   },
   {
    "duration": 14,
    "start_time": "2024-12-22T07:46:38.769Z"
   },
   {
    "duration": 13,
    "start_time": "2024-12-22T07:46:38.785Z"
   },
   {
    "duration": 11,
    "start_time": "2024-12-22T07:46:38.800Z"
   },
   {
    "duration": 17,
    "start_time": "2024-12-22T07:46:38.813Z"
   },
   {
    "duration": 1386,
    "start_time": "2024-12-22T07:46:38.846Z"
   },
   {
    "duration": 767,
    "start_time": "2024-12-22T07:46:40.234Z"
   },
   {
    "duration": 12,
    "start_time": "2024-12-22T07:46:41.002Z"
   },
   {
    "duration": 439,
    "start_time": "2024-12-22T07:46:41.016Z"
   },
   {
    "duration": 121,
    "start_time": "2024-12-22T07:46:41.456Z"
   },
   {
    "duration": 1012,
    "start_time": "2024-12-22T07:46:41.578Z"
   },
   {
    "duration": 330,
    "start_time": "2024-12-22T07:46:42.592Z"
   },
   {
    "duration": 29,
    "start_time": "2024-12-22T07:46:42.923Z"
   },
   {
    "duration": 172,
    "start_time": "2024-12-22T07:46:42.953Z"
   },
   {
    "duration": 524,
    "start_time": "2024-12-22T07:46:43.127Z"
   },
   {
    "duration": 3,
    "start_time": "2024-12-22T07:46:43.653Z"
   },
   {
    "duration": 3,
    "start_time": "2024-12-22T07:46:43.658Z"
   },
   {
    "duration": 4,
    "start_time": "2024-12-22T07:46:43.663Z"
   },
   {
    "duration": 84,
    "start_time": "2024-12-22T07:46:43.668Z"
   },
   {
    "duration": 819,
    "start_time": "2024-12-22T07:46:43.754Z"
   },
   {
    "duration": 5,
    "start_time": "2024-12-22T07:46:44.575Z"
   },
   {
    "duration": 4,
    "start_time": "2024-12-22T07:46:44.582Z"
   },
   {
    "duration": 1322,
    "start_time": "2024-12-22T07:46:44.588Z"
   },
   {
    "duration": 4,
    "start_time": "2024-12-22T07:46:45.911Z"
   },
   {
    "duration": 51,
    "start_time": "2024-12-22T07:46:45.916Z"
   },
   {
    "duration": 4,
    "start_time": "2024-12-22T07:46:45.969Z"
   },
   {
    "duration": 32,
    "start_time": "2024-12-22T07:46:45.974Z"
   },
   {
    "duration": 873,
    "start_time": "2024-12-22T07:47:58.885Z"
   },
   {
    "duration": 3,
    "start_time": "2024-12-22T07:48:55.319Z"
   },
   {
    "duration": 4,
    "start_time": "2024-12-22T07:48:55.667Z"
   },
   {
    "duration": 4,
    "start_time": "2024-12-22T07:48:56.059Z"
   },
   {
    "duration": 4,
    "start_time": "2024-12-22T07:48:57.759Z"
   },
   {
    "duration": 4,
    "start_time": "2024-12-22T07:48:59.191Z"
   },
   {
    "duration": 706,
    "start_time": "2024-12-22T07:48:59.891Z"
   },
   {
    "duration": 65,
    "start_time": "2024-12-22T07:49:17.324Z"
   },
   {
    "duration": 1113,
    "start_time": "2024-12-22T07:55:53.011Z"
   },
   {
    "duration": 114,
    "start_time": "2024-12-22T07:55:54.126Z"
   },
   {
    "duration": 25,
    "start_time": "2024-12-22T07:55:54.242Z"
   },
   {
    "duration": 9,
    "start_time": "2024-12-22T07:55:54.270Z"
   },
   {
    "duration": 12,
    "start_time": "2024-12-22T07:55:54.281Z"
   },
   {
    "duration": 30,
    "start_time": "2024-12-22T07:55:54.295Z"
   },
   {
    "duration": 11,
    "start_time": "2024-12-22T07:55:54.345Z"
   },
   {
    "duration": 3,
    "start_time": "2024-12-22T07:55:54.357Z"
   },
   {
    "duration": 6,
    "start_time": "2024-12-22T07:55:54.362Z"
   },
   {
    "duration": 20,
    "start_time": "2024-12-22T07:55:54.371Z"
   },
   {
    "duration": 14,
    "start_time": "2024-12-22T07:55:54.392Z"
   },
   {
    "duration": 41,
    "start_time": "2024-12-22T07:55:54.407Z"
   },
   {
    "duration": 9,
    "start_time": "2024-12-22T07:55:54.450Z"
   },
   {
    "duration": 16,
    "start_time": "2024-12-22T07:55:54.461Z"
   },
   {
    "duration": 1409,
    "start_time": "2024-12-22T07:55:54.478Z"
   },
   {
    "duration": 752,
    "start_time": "2024-12-22T07:55:55.888Z"
   },
   {
    "duration": 13,
    "start_time": "2024-12-22T07:55:56.645Z"
   },
   {
    "duration": 405,
    "start_time": "2024-12-22T07:55:56.659Z"
   },
   {
    "duration": 119,
    "start_time": "2024-12-22T07:55:57.066Z"
   },
   {
    "duration": 1031,
    "start_time": "2024-12-22T07:55:57.187Z"
   },
   {
    "duration": 360,
    "start_time": "2024-12-22T07:55:58.220Z"
   },
   {
    "duration": 22,
    "start_time": "2024-12-22T07:55:58.582Z"
   },
   {
    "duration": 240,
    "start_time": "2024-12-22T07:55:58.605Z"
   },
   {
    "duration": 512,
    "start_time": "2024-12-22T07:55:58.847Z"
   },
   {
    "duration": 3,
    "start_time": "2024-12-22T07:55:59.361Z"
   },
   {
    "duration": 10,
    "start_time": "2024-12-22T07:55:59.366Z"
   },
   {
    "duration": 5,
    "start_time": "2024-12-22T07:55:59.377Z"
   },
   {
    "duration": 5,
    "start_time": "2024-12-22T07:55:59.385Z"
   },
   {
    "duration": 881,
    "start_time": "2024-12-22T07:55:59.392Z"
   },
   {
    "duration": 4,
    "start_time": "2024-12-22T07:56:00.274Z"
   },
   {
    "duration": 15,
    "start_time": "2024-12-22T07:56:00.279Z"
   },
   {
    "duration": 36,
    "start_time": "2024-12-22T07:56:00.296Z"
   },
   {
    "duration": 27,
    "start_time": "2024-12-22T07:56:00.333Z"
   },
   {
    "duration": 21,
    "start_time": "2024-12-22T07:56:00.362Z"
   },
   {
    "duration": 738,
    "start_time": "2024-12-22T07:56:00.384Z"
   },
   {
    "duration": 49,
    "start_time": "2024-12-22T07:56:01.124Z"
   },
   {
    "duration": 5,
    "start_time": "2024-12-22T07:56:01.174Z"
   },
   {
    "duration": 35,
    "start_time": "2024-12-22T07:56:01.181Z"
   },
   {
    "duration": 2144,
    "start_time": "2024-12-22T11:56:35.023Z"
   },
   {
    "duration": 383,
    "start_time": "2024-12-22T11:56:37.170Z"
   },
   {
    "duration": 72,
    "start_time": "2024-12-22T11:56:37.555Z"
   },
   {
    "duration": 90,
    "start_time": "2024-12-22T11:56:37.629Z"
   },
   {
    "duration": 25,
    "start_time": "2024-12-22T11:56:37.721Z"
   },
   {
    "duration": 86,
    "start_time": "2024-12-22T11:56:37.748Z"
   },
   {
    "duration": 12,
    "start_time": "2024-12-22T11:56:37.835Z"
   },
   {
    "duration": 12,
    "start_time": "2024-12-22T11:56:37.848Z"
   },
   {
    "duration": 9,
    "start_time": "2024-12-22T11:56:37.915Z"
   },
   {
    "duration": 23,
    "start_time": "2024-12-22T11:56:37.926Z"
   },
   {
    "duration": 104,
    "start_time": "2024-12-22T11:56:37.950Z"
   },
   {
    "duration": 64,
    "start_time": "2024-12-22T11:56:38.055Z"
   },
   {
    "duration": 11,
    "start_time": "2024-12-22T11:56:38.120Z"
   },
   {
    "duration": 29,
    "start_time": "2024-12-22T11:56:38.132Z"
   },
   {
    "duration": 1859,
    "start_time": "2024-12-22T11:56:38.163Z"
   },
   {
    "duration": 841,
    "start_time": "2024-12-22T11:56:40.025Z"
   },
   {
    "duration": 16,
    "start_time": "2024-12-22T11:56:40.868Z"
   },
   {
    "duration": 491,
    "start_time": "2024-12-22T11:56:40.886Z"
   },
   {
    "duration": 141,
    "start_time": "2024-12-22T11:56:41.379Z"
   },
   {
    "duration": 1171,
    "start_time": "2024-12-22T11:56:41.521Z"
   },
   {
    "duration": 385,
    "start_time": "2024-12-22T11:56:42.693Z"
   },
   {
    "duration": 36,
    "start_time": "2024-12-22T11:56:43.080Z"
   },
   {
    "duration": 193,
    "start_time": "2024-12-22T11:56:43.117Z"
   },
   {
    "duration": 560,
    "start_time": "2024-12-22T11:56:43.314Z"
   },
   {
    "duration": 3,
    "start_time": "2024-12-22T11:56:43.876Z"
   },
   {
    "duration": 5,
    "start_time": "2024-12-22T11:56:43.880Z"
   },
   {
    "duration": 22,
    "start_time": "2024-12-22T11:56:43.886Z"
   },
   {
    "duration": 7,
    "start_time": "2024-12-22T11:56:43.911Z"
   },
   {
    "duration": 969,
    "start_time": "2024-12-22T11:56:43.920Z"
   },
   {
    "duration": 3,
    "start_time": "2024-12-22T11:56:44.891Z"
   },
   {
    "duration": 12,
    "start_time": "2024-12-22T11:56:44.896Z"
   },
   {
    "duration": 12,
    "start_time": "2024-12-22T11:56:44.909Z"
   },
   {
    "duration": 17,
    "start_time": "2024-12-22T11:56:44.922Z"
   },
   {
    "duration": 8,
    "start_time": "2024-12-22T11:56:44.940Z"
   },
   {
    "duration": 756,
    "start_time": "2024-12-22T11:56:44.950Z"
   },
   {
    "duration": 50,
    "start_time": "2024-12-22T11:56:45.707Z"
   },
   {
    "duration": 5,
    "start_time": "2024-12-22T11:56:45.759Z"
   },
   {
    "duration": 38,
    "start_time": "2024-12-22T11:56:45.765Z"
   }
  ],
  "kernelspec": {
   "display_name": "Python 3 (ipykernel)",
   "language": "python",
   "name": "python3"
  },
  "language_info": {
   "codemirror_mode": {
    "name": "ipython",
    "version": 3
   },
   "file_extension": ".py",
   "mimetype": "text/x-python",
   "name": "python",
   "nbconvert_exporter": "python",
   "pygments_lexer": "ipython3",
   "version": "3.9.5"
  },
  "toc": {
   "base_numbering": 1,
   "nav_menu": {
    "height": "191px",
    "width": "258px"
   },
   "number_sections": true,
   "sideBar": true,
   "skip_h1_title": true,
   "title_cell": "Table of Contents",
   "title_sidebar": "Contents",
   "toc_cell": false,
   "toc_position": {
    "height": "calc(100% - 180px)",
    "left": "10px",
    "top": "150px",
    "width": "309.188px"
   },
   "toc_section_display": true,
   "toc_window_display": true
  }
 },
 "nbformat": 4,
 "nbformat_minor": 2
}
